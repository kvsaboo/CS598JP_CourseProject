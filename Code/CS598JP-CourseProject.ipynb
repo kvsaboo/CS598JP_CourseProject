{
 "cells": [
  {
   "cell_type": "code",
   "execution_count": 1,
   "metadata": {},
   "outputs": [],
   "source": [
    "import numpy as np\n",
    "import pandas as pd\n",
    "import seaborn as sns\n",
    "import matplotlib.pyplot as plt\n",
    "import scipy.io\n",
    "from sklearn.model_selection import train_test_split\n",
    "from sklearn.linear_model import LogisticRegressionCV\n",
    "from sklearn.linear_model import LogisticRegression\n",
    "from sklearn.svm import SVC\n",
    "from sklearn.ensemble import RandomForestClassifier\n",
    "from sklearn.model_selection import GridSearchCV\n",
    "from sklearn.metrics import f1_score\n",
    "from sklearn.metrics import confusion_matrix\n",
    "from sklearn.metrics import accuracy_score\n",
    "import pdb\n",
    "\n",
    "import pickle\n",
    "import adniEnsemble as adens\n",
    "import tensorflow as tf\n",
    "from tensorflow import keras\n",
    "import os\n",
    "import re"
   ]
  },
  {
   "cell_type": "code",
   "execution_count": 2,
   "metadata": {},
   "outputs": [],
   "source": [
    "adnifulldf = pd.read_csv(\"../Dataset/ADNI/adnitable.csv\")"
   ]
  },
  {
   "cell_type": "code",
   "execution_count": 3,
   "metadata": {},
   "outputs": [],
   "source": [
    "# adnifulldf.Gender = adnifulldf.Gender.apply(lambda x: 'M' if x==1 else 'F')\n",
    "adnifulldf = adnifulldf.fillna(-1)\n",
    "adnifulldf.DX = adnifulldf.DX.apply(lambda x: 'CN' if x==1 else ('MCI' if x==2 else ('AD' if x==3 else -1)))"
   ]
  },
  {
   "cell_type": "code",
   "execution_count": 4,
   "metadata": {},
   "outputs": [
    {
     "data": {
      "text/html": [
       "<div>\n",
       "<style scoped>\n",
       "    .dataframe tbody tr th:only-of-type {\n",
       "        vertical-align: middle;\n",
       "    }\n",
       "\n",
       "    .dataframe tbody tr th {\n",
       "        vertical-align: top;\n",
       "    }\n",
       "\n",
       "    .dataframe thead th {\n",
       "        text-align: right;\n",
       "    }\n",
       "</style>\n",
       "<table border=\"1\" class=\"dataframe\">\n",
       "  <thead>\n",
       "    <tr style=\"text-align: right;\">\n",
       "      <th></th>\n",
       "      <th>RID</th>\n",
       "      <th>Gender</th>\n",
       "      <th>Educ</th>\n",
       "      <th>Age</th>\n",
       "      <th>APOE</th>\n",
       "      <th>MMSE</th>\n",
       "      <th>DX</th>\n",
       "      <th>mri_001</th>\n",
       "      <th>mri_002</th>\n",
       "      <th>mri_003</th>\n",
       "      <th>...</th>\n",
       "      <th>fdg_05</th>\n",
       "      <th>amyloid_01</th>\n",
       "      <th>amyloid_02</th>\n",
       "      <th>amyloid_03</th>\n",
       "      <th>amyloid_04</th>\n",
       "      <th>amyloid_05</th>\n",
       "      <th>amyloid_06</th>\n",
       "      <th>csf_01</th>\n",
       "      <th>csf_02</th>\n",
       "      <th>csf_03</th>\n",
       "    </tr>\n",
       "  </thead>\n",
       "  <tbody>\n",
       "    <tr>\n",
       "      <th>0</th>\n",
       "      <td>1</td>\n",
       "      <td>2</td>\n",
       "      <td>18.0</td>\n",
       "      <td>61.00</td>\n",
       "      <td>-1</td>\n",
       "      <td>-1.0</td>\n",
       "      <td>-1</td>\n",
       "      <td>-1.0</td>\n",
       "      <td>-1.0</td>\n",
       "      <td>-1.0</td>\n",
       "      <td>...</td>\n",
       "      <td>-1.0</td>\n",
       "      <td>-1.0</td>\n",
       "      <td>-1.0</td>\n",
       "      <td>-1.0</td>\n",
       "      <td>-1.0</td>\n",
       "      <td>-1.0</td>\n",
       "      <td>-1</td>\n",
       "      <td>-1.0</td>\n",
       "      <td>-1.0</td>\n",
       "      <td>-1.0</td>\n",
       "    </tr>\n",
       "    <tr>\n",
       "      <th>1</th>\n",
       "      <td>1</td>\n",
       "      <td>2</td>\n",
       "      <td>18.0</td>\n",
       "      <td>61.25</td>\n",
       "      <td>-1</td>\n",
       "      <td>-1.0</td>\n",
       "      <td>-1</td>\n",
       "      <td>-1.0</td>\n",
       "      <td>-1.0</td>\n",
       "      <td>-1.0</td>\n",
       "      <td>...</td>\n",
       "      <td>-1.0</td>\n",
       "      <td>-1.0</td>\n",
       "      <td>-1.0</td>\n",
       "      <td>-1.0</td>\n",
       "      <td>-1.0</td>\n",
       "      <td>-1.0</td>\n",
       "      <td>-1</td>\n",
       "      <td>-1.0</td>\n",
       "      <td>-1.0</td>\n",
       "      <td>-1.0</td>\n",
       "    </tr>\n",
       "    <tr>\n",
       "      <th>2</th>\n",
       "      <td>1</td>\n",
       "      <td>2</td>\n",
       "      <td>18.0</td>\n",
       "      <td>61.50</td>\n",
       "      <td>-1</td>\n",
       "      <td>-1.0</td>\n",
       "      <td>-1</td>\n",
       "      <td>-1.0</td>\n",
       "      <td>-1.0</td>\n",
       "      <td>-1.0</td>\n",
       "      <td>...</td>\n",
       "      <td>-1.0</td>\n",
       "      <td>-1.0</td>\n",
       "      <td>-1.0</td>\n",
       "      <td>-1.0</td>\n",
       "      <td>-1.0</td>\n",
       "      <td>-1.0</td>\n",
       "      <td>-1</td>\n",
       "      <td>-1.0</td>\n",
       "      <td>-1.0</td>\n",
       "      <td>-1.0</td>\n",
       "    </tr>\n",
       "    <tr>\n",
       "      <th>3</th>\n",
       "      <td>1</td>\n",
       "      <td>2</td>\n",
       "      <td>18.0</td>\n",
       "      <td>62.00</td>\n",
       "      <td>-1</td>\n",
       "      <td>-1.0</td>\n",
       "      <td>-1</td>\n",
       "      <td>-1.0</td>\n",
       "      <td>-1.0</td>\n",
       "      <td>-1.0</td>\n",
       "      <td>...</td>\n",
       "      <td>-1.0</td>\n",
       "      <td>-1.0</td>\n",
       "      <td>-1.0</td>\n",
       "      <td>-1.0</td>\n",
       "      <td>-1.0</td>\n",
       "      <td>-1.0</td>\n",
       "      <td>-1</td>\n",
       "      <td>-1.0</td>\n",
       "      <td>-1.0</td>\n",
       "      <td>-1.0</td>\n",
       "    </tr>\n",
       "    <tr>\n",
       "      <th>4</th>\n",
       "      <td>1</td>\n",
       "      <td>2</td>\n",
       "      <td>18.0</td>\n",
       "      <td>62.50</td>\n",
       "      <td>-1</td>\n",
       "      <td>-1.0</td>\n",
       "      <td>-1</td>\n",
       "      <td>-1.0</td>\n",
       "      <td>-1.0</td>\n",
       "      <td>-1.0</td>\n",
       "      <td>...</td>\n",
       "      <td>-1.0</td>\n",
       "      <td>-1.0</td>\n",
       "      <td>-1.0</td>\n",
       "      <td>-1.0</td>\n",
       "      <td>-1.0</td>\n",
       "      <td>-1.0</td>\n",
       "      <td>-1</td>\n",
       "      <td>-1.0</td>\n",
       "      <td>-1.0</td>\n",
       "      <td>-1.0</td>\n",
       "    </tr>\n",
       "  </tbody>\n",
       "</table>\n",
       "<p>5 rows × 160 columns</p>\n",
       "</div>"
      ],
      "text/plain": [
       "   RID  Gender  Educ    Age  APOE  MMSE  DX  mri_001  mri_002  mri_003  \\\n",
       "0    1       2  18.0  61.00    -1  -1.0  -1     -1.0     -1.0     -1.0   \n",
       "1    1       2  18.0  61.25    -1  -1.0  -1     -1.0     -1.0     -1.0   \n",
       "2    1       2  18.0  61.50    -1  -1.0  -1     -1.0     -1.0     -1.0   \n",
       "3    1       2  18.0  62.00    -1  -1.0  -1     -1.0     -1.0     -1.0   \n",
       "4    1       2  18.0  62.50    -1  -1.0  -1     -1.0     -1.0     -1.0   \n",
       "\n",
       "    ...    fdg_05  amyloid_01  amyloid_02  amyloid_03  amyloid_04  amyloid_05  \\\n",
       "0   ...      -1.0        -1.0        -1.0        -1.0        -1.0        -1.0   \n",
       "1   ...      -1.0        -1.0        -1.0        -1.0        -1.0        -1.0   \n",
       "2   ...      -1.0        -1.0        -1.0        -1.0        -1.0        -1.0   \n",
       "3   ...      -1.0        -1.0        -1.0        -1.0        -1.0        -1.0   \n",
       "4   ...      -1.0        -1.0        -1.0        -1.0        -1.0        -1.0   \n",
       "\n",
       "   amyloid_06  csf_01  csf_02  csf_03  \n",
       "0          -1    -1.0    -1.0    -1.0  \n",
       "1          -1    -1.0    -1.0    -1.0  \n",
       "2          -1    -1.0    -1.0    -1.0  \n",
       "3          -1    -1.0    -1.0    -1.0  \n",
       "4          -1    -1.0    -1.0    -1.0  \n",
       "\n",
       "[5 rows x 160 columns]"
      ]
     },
     "execution_count": 4,
     "metadata": {},
     "output_type": "execute_result"
    }
   ],
   "source": [
    "adnifulldf.head()"
   ]
  },
  {
   "cell_type": "code",
   "execution_count": 5,
   "metadata": {},
   "outputs": [],
   "source": [
    "mri_vars = [fieldname for fieldname in adnifulldf.columns if 'mri_' in fieldname]\n",
    "amyloid_vars = [fieldname for fieldname in adnifulldf.columns if 'amyloid_' in fieldname]\n",
    "csf_vars = [fieldname for fieldname in adnifulldf.columns if 'csf_' in fieldname]\n",
    "fdg_vars = [fieldname for fieldname in adnifulldf.columns if 'fdg_' in fieldname]\n",
    "pet_vars = [fieldname for fieldname in adnifulldf.columns if 'pet_' in fieldname]\n",
    "factors = ['RID','Gender','Educ','Age','APOE','MMSE','DX']\n",
    "dx_stages = ['CN', 'AD']\n",
    "# mridf = adnifulldf.loc[(adnifulldf[\"DX\"].isin(dx_stages)) & (adnifulldf[\"Educ\"] != -1) & (adnifulldf[\"mri_001\"] != -1), factors+mri_vars]\n",
    "# amyloiddf = adnifulldf.loc[(adnifulldf[\"DX\"].isin(dx_stages)) & (adnifulldf[\"Educ\"] != -1) & (adnifulldf[\"amyloid_01\"] != -1), factors+amyloid_vars]\n",
    "# csfdf = adnifulldf.loc[(adnifulldf[\"DX\"].isin(dx_stages)) & (adnifulldf[\"Educ\"] != -1) & (adnifulldf[\"csf_01\"] != -1), factors+csf_vars]\n",
    "# fdgdf = adnifulldf.loc[(adnifulldf[\"DX\"].isin(dx_stages)) & (adnifulldf[\"Educ\"] != -1) & (adnifulldf[\"fdg_01\"] != -1), factors+fdg_vars]\n",
    "# petdf = adnifulldf.loc[(adnifulldf[\"DX\"].isin(dx_stages)) & (adnifulldf[\"Educ\"] != -1) & (adnifulldf[\"pet_01\"] != -1), factors+pet_vars]"
   ]
  },
  {
   "cell_type": "code",
   "execution_count": 6,
   "metadata": {
    "scrolled": true
   },
   "outputs": [
    {
     "ename": "NameError",
     "evalue": "name 'mridf' is not defined",
     "output_type": "error",
     "traceback": [
      "\u001b[0;31m---------------------------------------------------------------------------\u001b[0m",
      "\u001b[0;31mNameError\u001b[0m                                 Traceback (most recent call last)",
      "\u001b[0;32m<ipython-input-6-22eb7ab1e412>\u001b[0m in \u001b[0;36m<module>\u001b[0;34m\u001b[0m\n\u001b[0;32m----> 1\u001b[0;31m \u001b[0mprint\u001b[0m\u001b[0;34m(\u001b[0m\u001b[0mlen\u001b[0m\u001b[0;34m(\u001b[0m\u001b[0mmridf\u001b[0m\u001b[0;34m)\u001b[0m\u001b[0;34m,\u001b[0m \u001b[0mlen\u001b[0m\u001b[0;34m(\u001b[0m\u001b[0mamyloiddf\u001b[0m\u001b[0;34m)\u001b[0m\u001b[0;34m,\u001b[0m \u001b[0mlen\u001b[0m\u001b[0;34m(\u001b[0m\u001b[0mcsfdf\u001b[0m\u001b[0;34m)\u001b[0m\u001b[0;34m,\u001b[0m \u001b[0mlen\u001b[0m\u001b[0;34m(\u001b[0m\u001b[0mfdgdf\u001b[0m\u001b[0;34m)\u001b[0m\u001b[0;34m,\u001b[0m \u001b[0mlen\u001b[0m\u001b[0;34m(\u001b[0m\u001b[0mpetdf\u001b[0m\u001b[0;34m)\u001b[0m\u001b[0;34m)\u001b[0m\u001b[0;34m\u001b[0m\u001b[0m\n\u001b[0m",
      "\u001b[0;31mNameError\u001b[0m: name 'mridf' is not defined"
     ]
    }
   ],
   "source": [
    "print(len(mridf), len(amyloiddf), len(csfdf), len(fdgdf), len(petdf))"
   ]
  },
  {
   "cell_type": "code",
   "execution_count": 7,
   "metadata": {
    "scrolled": true
   },
   "outputs": [],
   "source": [
    "dirpath = '../Dataset/ProcessedFiles/'\n",
    "modality = 'csf_'\n",
    "modality_files = [fname for fname in os.listdir(dirpath) if modality in fname]\n",
    "perfdict = dict()\n",
    "\n",
    "for file in modality_files:\n",
    "    keyname = re.sub(modality+'|_cv.pckl','', file)\n",
    "    if 'logistic_regression' in keyname:\n",
    "        keyname = re.sub('logistic_regression','LR',keyname)\n",
    "    elif 'random_forest' in keyname:\n",
    "        keyname = re.sub('random_forest','RF',keyname)\n",
    "    elif 'svm' in keyname:\n",
    "        keyname = re.sub('svm','SVM', keyname)\n",
    "    perfdict[keyname] = [gridout['test_score']['accuracy'] for gridout in pickle.load(open(dirpath+file,'rb'))]"
   ]
  },
  {
   "cell_type": "code",
   "execution_count": 8,
   "metadata": {
    "scrolled": false
   },
   "outputs": [
    {
     "data": {
      "image/png": "[encoded data removed]",
      "text/plain": [
       "<Figure size 432x288 with 1 Axes>"
      ]
     },
     "metadata": {
      "needs_background": "light"
     },
     "output_type": "display_data"
    }
   ],
   "source": [
    "sns.boxplot(data=pd.DataFrame(perfdict), order=['LR','factors_LR','RF','factors_RF','SVM','factors_SVM'])\n",
    "plt.xticks(rotation=10)\n",
    "plt.show()"
   ]
  },
  {
   "cell_type": "markdown",
   "metadata": {},
   "source": [
    "Keep all subjects who do not have any MRI for testing. Patients who have atleast MRI have 76% patients with Amyloid, 94% patients with CSF, 90% patients with FDG and 93% patients with PET. Using 80% of the patients with all MRI for training and 20% of it for testing."
   ]
  },
  {
   "cell_type": "code",
   "execution_count": 9,
   "metadata": {},
   "outputs": [],
   "source": [
    "# prepare training and test data\n",
    "# all rows that are AD/CN, Education present and at least the MRI scans\n",
    "adnidf = adnifulldf.loc[(adnifulldf[\"DX\"].isin(dx_stages)) & (adnifulldf[\"Educ\"] != -1) & (adnifulldf[\"mri_001\"] !=-1)].copy()\n",
    "adnidf[\"DX_bin\"] = np.where(adnidf[\"DX\"] == \"CN\", 0, 1) # CN: 0, AD: 1\n",
    "\n",
    "training_df, testing2_df = train_test_split(adnidf, test_size=0.2, shuffle=True)\n",
    "\n",
    "# all rows that are AD/CN, Education present and no MRI scans\n",
    "testing1_df = adnifulldf.loc[(adnifulldf[\"DX\"].isin(dx_stages)) & (adnifulldf[\"Educ\"] != -1) & (adnifulldf[\"mri_001\"] == -1) &\n",
    "                  ((adnifulldf[\"csf_01\"] != -1)|(adnifulldf[\"pet_01\"] != -1)|(adnifulldf[\"fdg_01\"] != -1)|(adnifulldf[\"amyloid_01\"] != -1))].copy()\n",
    "testing1_df[\"DX_bin\"] = np.where(testing1_df[\"DX\"] == \"CN\", 0, 1) # CN: 0, AD: 1\n",
    "\n",
    "# combine test data\n",
    "testing_df = pd.concat([testing1_df, testing2_df], sort=False)"
   ]
  },
  {
   "cell_type": "code",
   "execution_count": 10,
   "metadata": {},
   "outputs": [
    {
     "name": "stdout",
     "output_type": "stream",
     "text": [
      "Fitting 10 folds for each of 44 candidates, totalling 440 fits\n"
     ]
    },
    {
     "name": "stderr",
     "output_type": "stream",
     "text": [
      "[Parallel(n_jobs=1)]: Using backend SequentialBackend with 1 concurrent workers.\n",
      "[Parallel(n_jobs=1)]: Done 440 out of 440 | elapsed:    7.1s finished\n",
      "[Parallel(n_jobs=1)]: Using backend SequentialBackend with 1 concurrent workers.\n"
     ]
    },
    {
     "name": "stdout",
     "output_type": "stream",
     "text": [
      "Fitting 10 folds for each of 44 candidates, totalling 440 fits\n"
     ]
    },
    {
     "name": "stderr",
     "output_type": "stream",
     "text": [
      "[Parallel(n_jobs=1)]: Done 440 out of 440 | elapsed:    8.9s finished\n",
      "[Parallel(n_jobs=1)]: Using backend SequentialBackend with 1 concurrent workers.\n"
     ]
    },
    {
     "name": "stdout",
     "output_type": "stream",
     "text": [
      "Fitting 10 folds for each of 44 candidates, totalling 440 fits\n"
     ]
    },
    {
     "name": "stderr",
     "output_type": "stream",
     "text": [
      "[Parallel(n_jobs=1)]: Done 440 out of 440 | elapsed:    6.0s finished\n",
      "/home/ksaboo/anaconda3/lib/python3.6/site-packages/sklearn/model_selection/_search.py:841: DeprecationWarning: The default of the `iid` parameter will change from True to False in version 0.22 and will be removed in 0.24. This will change numeric results when test-set sizes are unequal.\n",
      "  DeprecationWarning)\n"
     ]
    }
   ],
   "source": [
    "# train model for each modality\n",
    "gs_num_cv = 10\n",
    "csfout = adens.modalityModelTrainWrapper('random_forest', 'csf', training_df, gs_num_cv)\n",
    "fdgout = adens.modalityModelTrainWrapper('random_forest', 'fdg', training_df, gs_num_cv)\n",
    "petout = adens.modalityModelTrainWrapper('random_forest', 'pet', training_df, gs_num_cv)\n",
    "amyloidout = adens.modalityModelTrainWrapper('logistic_regression', 'amyloid', training_df, gs_num_cv)"
   ]
  },
  {
   "cell_type": "code",
   "execution_count": 11,
   "metadata": {
    "scrolled": true
   },
   "outputs": [
    {
     "name": "stdout",
     "output_type": "stream",
     "text": [
      "Training CV number: 0\n",
      "Training CV number: 1\n",
      "Training CV number: 2\n",
      "Training CV number: 3\n",
      "Training CV number: 4\n",
      "Training CV number: 5\n",
      "Training CV number: 6\n",
      "Training CV number: 7\n"
     ]
    },
    {
     "data": {
      "image/png": "[encoded data removed]",
      "text/plain": [
       "<Figure size 432x288 with 1 Axes>"
      ]
     },
     "metadata": {
      "needs_background": "light"
     },
     "output_type": "display_data"
    }
   ],
   "source": [
    "# DL features\n",
    "mri_features = [item for sublist in [['Gender','Age','Educ','APOE'], mri_vars] for item in sublist]\n",
    "\n",
    "# specify the model\n",
    "dlmodel_def = keras.Sequential([\n",
    "    keras.layers.Dense(64, activation=tf.nn.relu),\n",
    "    keras.layers.Dense(1, activation=tf.nn.sigmoid)\n",
    "])\n",
    "\n",
    "# perform cross validation to choose number of epochs\n",
    "max_epochs = 100\n",
    "validation_fraction = 1/8 # show as a fraction of training data\n",
    "train_acc, val_acc, epoch_arr = adens.trainDeepLearningModelCV(dlmodel_def, training_df[mri_features].values,\n",
    "                                                         training_df['DX_bin'].values.reshape(-1,1), validation_fraction, max_epochs)\n",
    "\n",
    "plt.plot(epoch_arr, np.mean(train_acc, axis=0), label='Training accuracy')\n",
    "plt.plot(epoch_arr, np.mean(val_acc, axis=0), label='Validation accuracy')\n",
    "plt.legend()\n",
    "plt.show()"
   ]
  },
  {
   "cell_type": "code",
   "execution_count": 12,
   "metadata": {
    "scrolled": true
   },
   "outputs": [
    {
     "name": "stdout",
     "output_type": "stream",
     "text": [
      "Epoch 1/40\n",
      "3037/3037 [==============================] - 0s 105us/step - loss: 0.4013 - acc: 0.8284\n",
      "Epoch 2/40\n",
      "3037/3037 [==============================] - 0s 31us/step - loss: 0.2553 - acc: 0.9088\n",
      "Epoch 3/40\n",
      "3037/3037 [==============================] - 0s 34us/step - loss: 0.2104 - acc: 0.9239\n",
      "Epoch 4/40\n",
      "3037/3037 [==============================] - 0s 29us/step - loss: 0.1849 - acc: 0.9358\n",
      "Epoch 5/40\n",
      "3037/3037 [==============================] - 0s 33us/step - loss: 0.1670 - acc: 0.9388\n",
      "Epoch 6/40\n",
      "3037/3037 [==============================] - 0s 33us/step - loss: 0.1499 - acc: 0.9480\n",
      "Epoch 7/40\n",
      "3037/3037 [==============================] - 0s 29us/step - loss: 0.1363 - acc: 0.9562\n",
      "Epoch 8/40\n",
      "3037/3037 [==============================] - 0s 36us/step - loss: 0.1244 - acc: 0.9588\n",
      "Epoch 9/40\n",
      "3037/3037 [==============================] - 0s 34us/step - loss: 0.1141 - acc: 0.9654\n",
      "Epoch 10/40\n",
      "3037/3037 [==============================] - 0s 37us/step - loss: 0.1031 - acc: 0.9700\n",
      "Epoch 11/40\n",
      "3037/3037 [==============================] - 0s 33us/step - loss: 0.0965 - acc: 0.9737\n",
      "Epoch 12/40\n",
      "3037/3037 [==============================] - 0s 40us/step - loss: 0.0874 - acc: 0.9770\n",
      "Epoch 13/40\n",
      "3037/3037 [==============================] - 0s 33us/step - loss: 0.0771 - acc: 0.9796\n",
      "Epoch 14/40\n",
      "3037/3037 [==============================] - 0s 35us/step - loss: 0.0730 - acc: 0.9819\n",
      "Epoch 15/40\n",
      "3037/3037 [==============================] - 0s 31us/step - loss: 0.0655 - acc: 0.9835\n",
      "Epoch 16/40\n",
      "3037/3037 [==============================] - 0s 37us/step - loss: 0.0630 - acc: 0.9852\n",
      "Epoch 17/40\n",
      "3037/3037 [==============================] - 0s 35us/step - loss: 0.0574 - acc: 0.9868\n",
      "Epoch 18/40\n",
      "3037/3037 [==============================] - 0s 35us/step - loss: 0.0508 - acc: 0.9888\n",
      "Epoch 19/40\n",
      "3037/3037 [==============================] - 0s 33us/step - loss: 0.0484 - acc: 0.9881\n",
      "Epoch 20/40\n",
      "3037/3037 [==============================] - 0s 38us/step - loss: 0.0435 - acc: 0.9901\n",
      "Epoch 21/40\n",
      "3037/3037 [==============================] - 0s 31us/step - loss: 0.0377 - acc: 0.9931\n",
      "Epoch 22/40\n",
      "3037/3037 [==============================] - 0s 35us/step - loss: 0.0366 - acc: 0.9928\n",
      "Epoch 23/40\n",
      "3037/3037 [==============================] - 0s 31us/step - loss: 0.0343 - acc: 0.9937\n",
      "Epoch 24/40\n",
      "3037/3037 [==============================] - 0s 31us/step - loss: 0.0300 - acc: 0.9944\n",
      "Epoch 25/40\n",
      "3037/3037 [==============================] - 0s 30us/step - loss: 0.0301 - acc: 0.9947\n",
      "Epoch 26/40\n",
      "3037/3037 [==============================] - 0s 23us/step - loss: 0.0240 - acc: 0.9964\n",
      "Epoch 27/40\n",
      "3037/3037 [==============================] - 0s 19us/step - loss: 0.0250 - acc: 0.9951\n",
      "Epoch 28/40\n",
      "3037/3037 [==============================] - 0s 25us/step - loss: 0.0219 - acc: 0.9967\n",
      "Epoch 29/40\n",
      "3037/3037 [==============================] - 0s 36us/step - loss: 0.0189 - acc: 0.9974\n",
      "Epoch 30/40\n",
      "3037/3037 [==============================] - 0s 34us/step - loss: 0.0178 - acc: 0.9987\n",
      "Epoch 31/40\n",
      "3037/3037 [==============================] - 0s 30us/step - loss: 0.0159 - acc: 0.9987\n",
      "Epoch 32/40\n",
      "3037/3037 [==============================] - 0s 31us/step - loss: 0.0153 - acc: 0.9980\n",
      "Epoch 33/40\n",
      "3037/3037 [==============================] - 0s 33us/step - loss: 0.0148 - acc: 0.9980\n",
      "Epoch 34/40\n",
      "3037/3037 [==============================] - 0s 32us/step - loss: 0.0129 - acc: 0.9993\n",
      "Epoch 35/40\n",
      "3037/3037 [==============================] - 0s 32us/step - loss: 0.0122 - acc: 0.9984\n",
      "Epoch 36/40\n",
      "3037/3037 [==============================] - 0s 30us/step - loss: 0.0105 - acc: 0.9993\n",
      "Epoch 37/40\n",
      "3037/3037 [==============================] - 0s 36us/step - loss: 0.0097 - acc: 0.9997\n",
      "Epoch 38/40\n",
      "3037/3037 [==============================] - 0s 30us/step - loss: 0.0086 - acc: 0.9997\n",
      "Epoch 39/40\n",
      "3037/3037 [==============================] - 0s 31us/step - loss: 0.0089 - acc: 0.9997\n",
      "Epoch 40/40\n",
      "3037/3037 [==============================] - 0s 36us/step - loss: 0.0073 - acc: 1.0000\n"
     ]
    }
   ],
   "source": [
    "dlmodel = dlmodel_def\n",
    "dlmodel.compile(optimizer=tf.train.AdamOptimizer(), \n",
    "              loss='binary_crossentropy',\n",
    "              metrics=['accuracy'])\n",
    "\n",
    "epochs_from_cv = 40 # pick this from the plot of training and validation performance\n",
    "train_mean_list = training_df[mri_features].mean()\n",
    "train_std_list = training_df[mri_features].std()\n",
    "training_X = ((training_df[mri_features] - train_mean_list)/train_std_list).values\n",
    "dlmodel_history = dlmodel.fit(training_X, \n",
    "                              training_df['DX_bin'].values.reshape(-1,1),\n",
    "                              epochs=epochs_from_cv, verbose=1)\n",
    "mriout = {'model':dlmodel,'features':mri_features,'train_mod_mean':train_mean_list,'train_mod_std':train_std_list}"
   ]
  },
  {
   "cell_type": "code",
   "execution_count": 13,
   "metadata": {},
   "outputs": [
    {
     "name": "stdout",
     "output_type": "stream",
     "text": [
      "760/760 [==============================] - 0s 146us/step\n",
      "Test accuracy is: 96.18%\n"
     ]
    }
   ],
   "source": [
    "print(\"Test accuracy is: %.2f%%\" % (100*mriout['model'].evaluate(\n",
    "    ((testing2_df[mriout['features']]-mriout['train_mod_mean'])/mriout['train_mod_std']).values, \n",
    "    testing2_df['DX_bin'].values.reshape(-1,1))[1]))"
   ]
  },
  {
   "cell_type": "code",
   "execution_count": 14,
   "metadata": {
    "scrolled": true
   },
   "outputs": [],
   "source": [
    "# test csf model\n",
    "aux_vars = ['Gender','Age','Educ','APOE', 'DX_bin']\n",
    "\n",
    "csf_columns = [item for sublist in [aux_vars, csf_vars] for item in sublist]\n",
    "fdg_columns = [item for sublist in [aux_vars, fdg_vars] for item in sublist]\n",
    "pet_columns = [item for sublist in [aux_vars, pet_vars] for item in sublist]\n",
    "amyloid_columns = [item for sublist in [aux_vars, amyloid_vars] for item in sublist]\n",
    "\n",
    "modcolumn_dict = {'csf':csf_columns,'amyloid':amyloid_columns,'fdg':fdg_columns,'pet':pet_columns}"
   ]
  },
  {
   "cell_type": "code",
   "execution_count": 15,
   "metadata": {
    "scrolled": true
   },
   "outputs": [],
   "source": [
    "model_dict = {'csf':csfout,'amyloid':amyloidout,'fdg':fdgout,'pet':petout,'mri':mriout}\n",
    "\n",
    "# training data in ensemble\n",
    "train_ensdf = adens.ensembleData(model_dict, training_df)\n",
    "train_ensdf['DX_bin'] = training_df['DX_bin'].values\n",
    "\n",
    "# test data in ensemble\n",
    "test_ensdf = adens.ensembleData(model_dict, testing_df)\n",
    "test_ensdf['DX_bin'] = testing_df['DX_bin'].values\n",
    "\n",
    "# testing data with only MRI present\n",
    "test2_ensdf = adens.ensembleData(model_dict, testing2_df)\n",
    "test2_ensdf['DX_bin'] = testing2_df['DX_bin'].values"
   ]
  },
  {
   "cell_type": "markdown",
   "metadata": {},
   "source": [
    "Comparing performance of individual models with ensemble models"
   ]
  },
  {
   "cell_type": "code",
   "execution_count": 17,
   "metadata": {
    "scrolled": true
   },
   "outputs": [
    {
     "name": "stdout",
     "output_type": "stream",
     "text": [
      "\n",
      "CSF:\n",
      "Individual Model:\n",
      "Sensitivity: 65.7895, Specificity: 83.3333\n",
      "Accuracy: 0.7258\n",
      "Ensemble Model:\n",
      "Sensitivity: 73.6842, Specificity: 91.6667\n",
      "Accuracy: 0.8065\n",
      "\n",
      "PET:\n",
      "Individual Model:\n",
      "Sensitivity: 45.2381, Specificity: 88.2353\n",
      "Accuracy: 0.6447\n",
      "Ensemble Model:\n",
      "Sensitivity: 80.9524, Specificity: 88.2353\n",
      "Accuracy: 0.8421\n",
      "\n",
      "FDG:\n",
      "Individual Model:\n",
      "Sensitivity: 81.8182, Specificity: 87.0588\n",
      "Accuracy: 0.8457\n",
      "Ensemble Model:\n",
      "Sensitivity: 75.3247, Specificity: 89.4118\n",
      "Accuracy: 0.8272\n",
      "\n",
      "AMYLOID:\n",
      "Individual Model:\n",
      "Sensitivity: 64.0000, Specificity: 93.5484\n",
      "Accuracy: 0.8506\n",
      "Ensemble Model:\n",
      "Sensitivity: 64.0000, Specificity: 93.5484\n",
      "Accuracy: 0.8506\n"
     ]
    }
   ],
   "source": [
    "for modal_name in ['csf','pet','fdg','amyloid']:\n",
    "    print(\"\\n\"+modal_name.upper() + \":\")\n",
    "    \n",
    "    # subset of test data for which given modality is present\n",
    "    mod_testdf = testing1_df.loc[(testing1_df[modal_name+'_01']!=-1)]\n",
    "    modout = model_dict[modal_name]\n",
    "    \n",
    "    # prediction of individual model\n",
    "    predn_model = modout['model'].predict(\n",
    "        (mod_testdf[modout['features']]-modout['train_mod_mean'])/modout['train_mod_std'])\n",
    "    print(\"Individual Model:\")\n",
    "    print(\"Sensitivity: %.04f, Specificity: %.04f\" % adens.SensiSpeci(mod_testdf['DX_bin'], predn_model))\n",
    "    print(\"Accuracy: %.04f\" % accuracy_score(mod_testdf['DX_bin'], predn_model))\n",
    "\n",
    "    # prediction of ensemble model\n",
    "    mod_testensdf = adens.ensembleData(model_dict, mod_testdf)\n",
    "    predn_ensemble = adens.majorityRule(mod_testensdf) # does not have DX_bin so can simply give the DF as input\n",
    "    print(\"Ensemble Model:\")\n",
    "    print(\"Sensitivity: %.04f, Specificity: %.04f\" % adens.SensiSpeci(mod_testdf['DX_bin'], predn_ensemble))\n",
    "    print(\"Accuracy: %.04f\" % accuracy_score(mod_testdf['DX_bin'], predn_ensemble))\n",
    "    "
   ]
  },
  {
   "cell_type": "code",
   "execution_count": 19,
   "metadata": {
    "scrolled": true
   },
   "outputs": [
    {
     "name": "stdout",
     "output_type": "stream",
     "text": [
      "(89.66565349544074, 96.75174013921114)\n",
      "0.9368421052631579\n",
      "(93.9209726443769, 97.91183294663573)\n",
      "0.9618421052631579\n"
     ]
    }
   ],
   "source": [
    "majority_prediction = adens.majorityRule(test2_ensdf.drop('DX_bin', axis=1))\n",
    "\n",
    "print(adens.SensiSpeci(test2_ensdf['DX_bin'], majority_prediction))\n",
    "print(accuracy_score(test2_ensdf['DX_bin'], majority_prediction))\n",
    "\n",
    "newpred = dlmodel.predict(((testing2_df[mriout['features']]-mriout['train_mod_mean'])/mriout['train_mod_std']).values)\n",
    "newpred = np.where(newpred < 0.5,0,1)\n",
    "\n",
    "print(adens.SensiSpeci(testing2_df['DX_bin'], newpred))\n",
    "print(accuracy_score(testing2_df['DX_bin'], newpred))"
   ]
  },
  {
   "cell_type": "code",
   "execution_count": 148,
   "metadata": {},
   "outputs": [],
   "source": [
    "def majorityRule(ensdatadf, prob_threshold=0.5):\n",
    "    majority_prediction = np.zeros(ensdatadf.shape[0])\n",
    "    rcount = 0\n",
    "    for index,row in ensdatadf.iterrows():\n",
    "        row = row[~np.isnan(row)]\n",
    "        rowquant = np.where(row < prob_threshold, 0, 1)\n",
    "        majority_prediction[rcount], ignorevar = Counter(rowquant).most_common()[0]\n",
    "        rcount = rcount+1\n",
    "    return majority_prediction"
   ]
  },
  {
   "cell_type": "code",
   "execution_count": 20,
   "metadata": {
    "scrolled": true
   },
   "outputs": [
    {
     "data": {
      "text/plain": [
       "0.8588235294117647"
      ]
     },
     "execution_count": 20,
     "metadata": {},
     "output_type": "execute_result"
    }
   ],
   "source": [
    "# random forest trained on posterior probabilities\n",
    "rf_ens = RandomForestClassifier(n_estimators=13, max_depth=3)\n",
    "rf_ens.fit(train_ensdf.dropna().drop('DX_bin', axis=1), train_ensdf.dropna().DX_bin)\n",
    "rf_ens.score(test_ensdf.fillna(train_ensdf.median()).drop('DX_bin', axis=1), test_ensdf.DX_bin)"
   ]
  },
  {
   "cell_type": "code",
   "execution_count": 21,
   "metadata": {},
   "outputs": [
    {
     "name": "stdout",
     "output_type": "stream",
     "text": [
      "0.9122171945701357\n"
     ]
    }
   ],
   "source": [
    "majority_prediction = adens.majorityRule(test_ensdf.drop('DX_bin', axis=1))\n",
    "print(accuracy_score(test_ensdf['DX_bin'], majority_prediction))"
   ]
  },
  {
   "cell_type": "markdown",
   "metadata": {},
   "source": [
    "# MCI vs AD"
   ]
  },
  {
   "cell_type": "code",
   "execution_count": 23,
   "metadata": {},
   "outputs": [],
   "source": [
    "mcidf = adnifulldf.loc[(adnifulldf[\"DX\"]=='MCI') & (adnifulldf[\"Educ\"] != -1) & (adnifulldf[\"mri_001\"] !=-1)].copy()\n",
    "mcidf[\"DX_bin\"] = np.where(mcidf[\"DX\"] == \"MCI\", 0, 1) # MCI: 0, AD: 1\n",
    "\n",
    "training_mci_df, testing2_mci_df = train_test_split(mcidf, test_size=0.2, shuffle=True)\n",
    "\n",
    "# all rows that are MCI, Education present and no MRI scans\n",
    "testing1_mci_df = adnifulldf.loc[(adnifulldf[\"DX\"]=='MCI') & (adnifulldf[\"Educ\"] != -1) & (adnifulldf[\"mri_001\"] == -1) &\n",
    "                  ((adnifulldf[\"csf_01\"] != -1)|(adnifulldf[\"pet_01\"] != -1)|(adnifulldf[\"fdg_01\"] != -1)|(adnifulldf[\"amyloid_01\"] != -1))].copy()\n",
    "testing1_mci_df[\"DX_bin\"] = np.where(testing1_mci_df[\"DX\"] == \"MCI\", 0, 1) # MCI: 0, AD: 1\n",
    "\n",
    "# all rows in training and previous testing that has AD\n",
    "training_ad_df = training_df.loc[training_df['DX']=='AD'].copy()\n",
    "testing1_ad_df = testing1_df.loc[testing1_df['DX']=='AD'].copy()\n",
    "testing2_ad_df = testing2_df.loc[testing2_df['DX']=='AD'].copy()\n",
    "\n",
    "\n",
    "# combine test data\n",
    "testing1_mciad_df = pd.concat([testing1_ad_df, testing1_mci_df], sort=False)\n",
    "testing2_mciad_df = pd.concat([testing2_ad_df, testing2_mci_df], sort=False)\n",
    "testing_mciad_df = pd.concat([testing1_mciad_df, testing2_mciad_df], sort=False)\n",
    "training_mciad_df = pd.concat([training_ad_df, training_mci_df], sort=False)"
   ]
  },
  {
   "cell_type": "code",
   "execution_count": 24,
   "metadata": {},
   "outputs": [
    {
     "name": "stdout",
     "output_type": "stream",
     "text": [
      "3931/3931 [==============================] - 0s 12us/step\n",
      "Test accuracy is: 70.59%\n"
     ]
    }
   ],
   "source": [
    "print(\"Test accuracy is: %.2f%%\" % (100*mriout['model'].evaluate(\n",
    "    ((training_mciad_df[mriout['features']]-mriout['train_mod_mean'])/mriout['train_mod_std']).values, \n",
    "    training_mciad_df['DX_bin'].values.reshape(-1,1))[1]))"
   ]
  },
  {
   "cell_type": "code",
   "execution_count": 25,
   "metadata": {},
   "outputs": [],
   "source": [
    "mciadprob = mriout['model'].predict(\n",
    "    ((testing_mciad_df[mriout['features']]-mriout['train_mod_mean'])/mriout['train_mod_std']).values)\n",
    "mciadprob = np.reshape(mciadprob,(len(mciadprob),))"
   ]
  },
  {
   "cell_type": "code",
   "execution_count": 26,
   "metadata": {
    "scrolled": true
   },
   "outputs": [
    {
     "data": {
      "image/png": "[encoded data removed]",
      "text/plain": [
       "<Figure size 432x288 with 1 Axes>"
      ]
     },
     "metadata": {
      "needs_background": "light"
     },
     "output_type": "display_data"
    }
   ],
   "source": [
    "batman = pd.DataFrame({'proba':mciadprob,'DX':testing_mciad_df['DX_bin'].values})\n",
    "sns.boxplot(x=\"DX\", y=\"proba\", data=batman)\n",
    "plt.show()"
   ]
  },
  {
   "cell_type": "code",
   "execution_count": 27,
   "metadata": {},
   "outputs": [
    {
     "name": "stdout",
     "output_type": "stream",
     "text": [
      "0.6296572280178837\n"
     ]
    }
   ],
   "source": [
    "mciadpred = np.where(mciadprob < 0.8,0,1)\n",
    "print(accuracy_score(testing_mciad_df.DX_bin, mciadpred))"
   ]
  },
  {
   "cell_type": "code",
   "execution_count": 28,
   "metadata": {},
   "outputs": [],
   "source": [
    "model_dict = {'csf':csfout,'amyloid':amyloidout,'fdg':fdgout,'pet':petout,'mri':mriout}\n",
    "\n",
    "# training data in ensemble\n",
    "train_mciad_ensdf = adens.ensembleData(model_dict, training_mciad_df)\n",
    "train_mciad_ensdf['DX_bin'] = training_mciad_df['DX_bin'].values\n",
    "\n",
    "# test data in ensemble\n",
    "test_mciad_ensdf = adens.ensembleData(model_dict, testing_mciad_df)\n",
    "test_mciad_ensdf['DX_bin'] = testing_mciad_df['DX_bin'].values\n",
    "\n",
    "# testing data with only MRI present\n",
    "test2_mciad_ensdf = adens.ensembleData(model_dict, testing2_mciad_df)\n",
    "test2_mciad_ensdf['DX_bin'] = testing2_mciad_df['DX_bin'].values"
   ]
  },
  {
   "cell_type": "code",
   "execution_count": 29,
   "metadata": {
    "scrolled": true
   },
   "outputs": [
    {
     "name": "stdout",
     "output_type": "stream",
     "text": [
      "\n",
      "CSF:\n",
      "Individual Model:\n",
      "Sensitivity: 73.5294, Specificity: 57.3964\n",
      "Accuracy: 0.6347\n",
      "Ensemble Model:\n",
      "Sensitivity: 84.3137, Specificity: 61.5385\n",
      "Accuracy: 0.7011\n",
      "\n",
      "PET:\n",
      "Individual Model:\n",
      "Sensitivity: 52.0000, Specificity: 54.0541\n",
      "Accuracy: 0.5333\n",
      "Ensemble Model:\n",
      "Sensitivity: 86.0000, Specificity: 57.8378\n",
      "Accuracy: 0.6772\n",
      "\n",
      "FDG:\n",
      "Individual Model:\n",
      "Sensitivity: 82.6087, Specificity: 67.0213\n",
      "Accuracy: 0.7214\n",
      "Ensemble Model:\n",
      "Sensitivity: 85.5072, Specificity: 63.4752\n",
      "Accuracy: 0.7071\n",
      "\n",
      "AMYLOID:\n",
      "Individual Model:\n",
      "Sensitivity: 71.6667, Specificity: 73.0263\n",
      "Accuracy: 0.7264\n",
      "Ensemble Model:\n",
      "Sensitivity: 78.3333, Specificity: 75.6579\n",
      "Accuracy: 0.7642\n"
     ]
    }
   ],
   "source": [
    "for modal_name in ['csf','pet','fdg','amyloid']:\n",
    "    print(\"\\n\"+modal_name.upper() + \":\")\n",
    "    \n",
    "    # subset of test data for which given modality is present\n",
    "    mod_testdf = testing2_mciad_df.loc[(testing2_mciad_df[modal_name+'_01']!=-1)]\n",
    "    modout = model_dict[modal_name]\n",
    "    \n",
    "    # prediction of individual model\n",
    "    predn_model = modout['model'].predict(\n",
    "        (mod_testdf[modout['features']]-modout['train_mod_mean'])/modout['train_mod_std'])\n",
    "    print(\"Individual Model:\")\n",
    "    print(\"Sensitivity: %.04f, Specificity: %.04f\" % adens.SensiSpeci(mod_testdf['DX_bin'], predn_model))\n",
    "    print(\"Accuracy: %.04f\" % accuracy_score(mod_testdf['DX_bin'], predn_model))\n",
    "\n",
    "    # prediction of ensemble model\n",
    "    mod_testensdf = adens.ensembleData(model_dict, mod_testdf)\n",
    "    predn_ensemble = adens.majorityRule(mod_testensdf) # does not have DX_bin so can simply give the DF as input\n",
    "    print(\"Ensemble Model:\")\n",
    "    print(\"Sensitivity: %.04f, Specificity: %.04f\" % adens.SensiSpeci(mod_testdf['DX_bin'], predn_ensemble))\n",
    "    print(\"Accuracy: %.04f\" % accuracy_score(mod_testdf['DX_bin'], predn_ensemble))"
   ]
  },
  {
   "cell_type": "code",
   "execution_count": 300,
   "metadata": {},
   "outputs": [],
   "source": [
    "kaju=np.zeros((4,4))"
   ]
  },
  {
   "cell_type": "code",
   "execution_count": null,
   "metadata": {},
   "outputs": [],
   "source": [
    "kaju[[1,2,1],[3]]"
   ]
  },
  {
   "cell_type": "code",
   "execution_count": null,
   "metadata": {},
   "outputs": [],
   "source": [
    "np.multiply(np.transpose(X[non_nan_rows,idx_to_update]), np.divide(data_Y[non_nan_rows], 1+np.exp(data_Y[non_nan_rows]*np.dot(X[non_nan_rows,idx_to_update].reshape(-1,1),w[idx_to_update]))))"
   ]
  },
  {
   "cell_type": "code",
   "execution_count": 88,
   "metadata": {
    "scrolled": true
   },
   "outputs": [
    {
     "name": "stdout",
     "output_type": "stream",
     "text": [
      "time is: 2.290006\n",
      "testing AUCROC: 0.9085972850678733 , training AUCROC: 0.9914389199868291\n"
     ]
    }
   ],
   "source": [
    "import time\n",
    "\n",
    "# train logistic regression model\n",
    "penalty = 1e1\n",
    "tstart = time.time()\n",
    "logregmodel = trainLogisticReg(train_ensdf.drop('DX_bin',axis=1).values,train_ensdf['DX_bin'].values, penalty)\n",
    "print(\"time is: %f\" %(time.time()-tstart))\n",
    "\n",
    "# test logistic regression model\n",
    "training_prob = predictLogisticReg(train_ensdf.fillna(train_ensdf.median()).drop('DX_bin',axis=1).values, logregmodel['coef_'])\n",
    "predicted_prob = predictLogisticReg(test_ensdf.fillna(train_ensdf.median()).drop('DX_bin',axis=1).values, logregmodel['coef_'])\n",
    "\n",
    "print(\"testing AUCROC:\", test_performance, \", training AUCROC:\", train_performance)"
   ]
  },
  {
   "cell_type": "code",
   "execution_count": null,
   "metadata": {},
   "outputs": [],
   "source": [
    "train_performance = accuracy_score(train_ensdf['DX_bin'].values, np.where(training_prob<0.85,0,1))\n",
    "test_performance = accuracy_score(test_ensdf['DX_bin'].values, np.where(predicted_prob<0.85,0,1))\n",
    "\n",
    "print(\"testing AUCROC:\", test_performance, \", training AUCROC:\", train_performance)"
   ]
  },
  {
   "cell_type": "code",
   "execution_count": 89,
   "metadata": {},
   "outputs": [
    {
     "data": {
      "image/png": "[encoded data removed]",
      "text/plain": [
       "<Figure size 432x288 with 1 Axes>"
      ]
     },
     "metadata": {
      "needs_background": "light"
     },
     "output_type": "display_data"
    }
   ],
   "source": [
    "batman = pd.DataFrame({'proba':training_prob,'DX':train_ensdf['DX_bin'].values})\n",
    "sns.boxplot(x=\"DX\", y=\"proba\", data=batman)\n",
    "plt.show()"
   ]
  },
  {
   "cell_type": "code",
   "execution_count": 71,
   "metadata": {},
   "outputs": [
    {
     "data": {
      "image/png": "[encoded data removed]",
      "text/plain": [
       "<Figure size 432x288 with 1 Axes>"
      ]
     },
     "metadata": {
      "needs_background": "light"
     },
     "output_type": "display_data"
    }
   ],
   "source": [
    "plt.plot(logregmodel['loss'])\n",
    "plt.show()"
   ]
  },
  {
   "cell_type": "code",
   "execution_count": 69,
   "metadata": {},
   "outputs": [],
   "source": [
    "def findLoss(x,y,w,penalty_param):\n",
    "    num_samples = x.shape[0]\n",
    "#     lossval = np.sum(np.log(1 + np.exp(np.multiply(y, np.dot(x, -w))))) # this one doens't handle nan\n",
    "#     pdb.set_trace()\n",
    "    lossval = np.sum(np.log(1 + np.exp(np.multiply(y, -np.nansum(x*w,axis=1)))))\n",
    "    lossval = lossval/num_samples\n",
    "    lossval = lossval + penalty_param*(np.linalg.norm(w)**2)/2\n",
    "    return lossval\n",
    "   \n",
    "def gradientDescent(X,data_Y,w,invregparam):\n",
    "    num_features = X.shape[1]\n",
    "    num_samples = X.shape[0]\n",
    "    max_iters = 1000\n",
    "    step_size = 0.01\n",
    "    loss = np.zeros(max_iters+1)\n",
    "    loss[0] = findLoss(X,data_Y,w,1/invregparam)\n",
    "    \n",
    "    for iternum in range(0,max_iters):\n",
    "        # find gradient\n",
    "        gradient = np.sum(np.multiply(np.transpose(X), np.divide(data_Y, 1+np.exp(data_Y*np.dot(X,w)))), axis=1)\n",
    "        gradient = -gradient/num_samples + 1/invregparam * w\n",
    "        \n",
    "        # do update with gradient       \n",
    "        w = w - step_size * gradient\n",
    "        \n",
    "        # calculate loss\n",
    "        loss[iternum+1] = findLoss(X,data_Y,w,1/invregparam)\n",
    "        \n",
    "    outdict = {'coef_':w, 'loss':loss}\n",
    "    return outdict   \n",
    "\n",
    "def coordinateDescent(X,data_Y,w,invregparam):\n",
    "    \n",
    "    num_samples, num_features = X.shape    \n",
    "    max_iters = 1000*num_features\n",
    "    step_size = 0.01\n",
    "    loss = np.zeros(max_iters+1)\n",
    "    loss[0] = findLoss(X,data_Y,w,1/invregparam)\n",
    "\n",
    "    for iternum in range(0,max_iters):\n",
    "        # pick coordinate to be updated (here it translates to electrode)\n",
    "        feat_num = np.random.randint(0, num_features) # if 0, then bias term, otherwise electrode_number + 1 is sampled\n",
    "        \n",
    "        # find index of coordinates to update\n",
    "        if feat_num == 0:\n",
    "            idx_to_update = [0]\n",
    "        else:\n",
    "            idx_to_update = [feat_num] # just keeping it the same for now. Can also send in a bunch of features together\n",
    "        \n",
    "        # find gradient for chosen coordinates - modified to handle nan's\n",
    "        non_nan_rows = np.argwhere(~np.isnan(X[:,idx_to_update]))[:,0]\n",
    "#         pdb.set_trace()\n",
    "        gradient = np.sum(np.multiply(np.transpose(X[non_nan_rows,idx_to_update]), \\\n",
    "                                      np.divide(data_Y[non_nan_rows], 1+np.exp(data_Y[non_nan_rows]*np.dot(X[non_nan_rows,idx_to_update].reshape(-1,1),w[idx_to_update]))))) # this is the modified implementation. Original CD takes the entire X and w for dot product\n",
    "        gradient = -gradient/num_samples + 1/invregparam * w[idx_to_update]\n",
    "        # do update with gradient for chosen coordinates      \n",
    "        w[idx_to_update] = w[idx_to_update] - step_size * gradient \n",
    "        \n",
    "        # calculate loss\n",
    "        loss[iternum+1] = findLoss(X,data_Y,w,1/invregparam) # this loss takes the entire X and w. Also check component-wise loss\n",
    "        \n",
    "    outdict = {'coef_':w, 'loss':loss}\n",
    "    return outdict   \n",
    "\n",
    "def trainLogisticReg(data_X, data_Y, invregparam):\n",
    "    \n",
    "    # prepare training data with appending 1 for bias term\n",
    "    X = np.hstack((np.ones((data_X.shape[0],1)), data_X))\n",
    "    num_samples = X.shape[0]\n",
    "    num_features = X.shape[1] # bias term has been included as feature\n",
    "    \n",
    "    # intialize weight vector with number of features in the data + bias term\n",
    "    w = np.random.uniform(size=(num_features))\n",
    "    \n",
    "    outdict = coordinateDescent(X, data_Y, w, invregparam)\n",
    "\n",
    "    return outdict\n",
    "\n",
    "def predictLogisticReg(data_X, w):\n",
    "    # append data with ones for bias term\n",
    "    X = np.hstack((np.ones((data_X.shape[0],1)), data_X))\n",
    "    sample_probability = np.reciprocal(1 + np.exp(np.dot(X,-w)))\n",
    "    return sample_probability"
   ]
  }
 ],
 "metadata": {
  "kernelspec": {
   "display_name": "Python 3",
   "language": "python",
   "name": "python3"
  },
  "language_info": {
   "codemirror_mode": {
    "name": "ipython",
    "version": 3
   },
   "file_extension": ".py",
   "mimetype": "text/x-python",
   "name": "python",
   "nbconvert_exporter": "python",
   "pygments_lexer": "ipython3",
   "version": "3.6.6"
  }
 },
 "nbformat": 4,
 "nbformat_minor": 2
}
