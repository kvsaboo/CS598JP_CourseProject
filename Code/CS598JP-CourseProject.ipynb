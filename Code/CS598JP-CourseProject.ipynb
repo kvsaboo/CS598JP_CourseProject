{
 "cells": [
  {
   "cell_type": "code",
   "execution_count": 1,
   "metadata": {},
   "outputs": [],
   "source": [
    "import numpy as np\n",
    "import pandas as pd\n",
    "import seaborn as sns\n",
    "import matplotlib.pyplot as plt\n",
    "import scipy.io\n",
    "from sklearn.model_selection import train_test_split\n",
    "from sklearn.linear_model import LogisticRegressionCV\n",
    "from sklearn.linear_model import LogisticRegression\n",
    "from sklearn.svm import SVC\n",
    "from sklearn.ensemble import RandomForestClassifier\n",
    "from sklearn.model_selection import GridSearchCV\n",
    "from sklearn.metrics import f1_score\n",
    "from sklearn.metrics import confusion_matrix\n",
    "import pdb\n",
    "\n",
    "import pickle\n",
    "import adniEnsemble as adens\n",
    "import tensorflow as tf\n",
    "from tensorflow import keras\n",
    "import os\n",
    "import re"
   ]
  },
  {
   "cell_type": "code",
   "execution_count": 2,
   "metadata": {},
   "outputs": [],
   "source": [
    "adnifulldf = pd.read_csv(\"../Dataset/ADNI/adnitable.csv\")"
   ]
  },
  {
   "cell_type": "code",
   "execution_count": 3,
   "metadata": {},
   "outputs": [],
   "source": [
    "# adnifulldf.Gender = adnifulldf.Gender.apply(lambda x: 'M' if x==1 else 'F')\n",
    "adnifulldf = adnifulldf.fillna(-1)\n",
    "adnifulldf.DX = adnifulldf.DX.apply(lambda x: 'CN' if x==1 else ('MCI' if x==2 else ('AD' if x==3 else -1)))"
   ]
  },
  {
   "cell_type": "code",
   "execution_count": 4,
   "metadata": {},
   "outputs": [
    {
     "data": {
      "text/html": [
       "<div>\n",
       "<style scoped>\n",
       "    .dataframe tbody tr th:only-of-type {\n",
       "        vertical-align: middle;\n",
       "    }\n",
       "\n",
       "    .dataframe tbody tr th {\n",
       "        vertical-align: top;\n",
       "    }\n",
       "\n",
       "    .dataframe thead th {\n",
       "        text-align: right;\n",
       "    }\n",
       "</style>\n",
       "<table border=\"1\" class=\"dataframe\">\n",
       "  <thead>\n",
       "    <tr style=\"text-align: right;\">\n",
       "      <th></th>\n",
       "      <th>RID</th>\n",
       "      <th>Gender</th>\n",
       "      <th>Educ</th>\n",
       "      <th>Age</th>\n",
       "      <th>APOE</th>\n",
       "      <th>MMSE</th>\n",
       "      <th>DX</th>\n",
       "      <th>mri_001</th>\n",
       "      <th>mri_002</th>\n",
       "      <th>mri_003</th>\n",
       "      <th>...</th>\n",
       "      <th>fdg_05</th>\n",
       "      <th>amyloid_01</th>\n",
       "      <th>amyloid_02</th>\n",
       "      <th>amyloid_03</th>\n",
       "      <th>amyloid_04</th>\n",
       "      <th>amyloid_05</th>\n",
       "      <th>amyloid_06</th>\n",
       "      <th>csf_01</th>\n",
       "      <th>csf_02</th>\n",
       "      <th>csf_03</th>\n",
       "    </tr>\n",
       "  </thead>\n",
       "  <tbody>\n",
       "    <tr>\n",
       "      <th>0</th>\n",
       "      <td>1</td>\n",
       "      <td>2</td>\n",
       "      <td>18.0</td>\n",
       "      <td>61.00</td>\n",
       "      <td>-1</td>\n",
       "      <td>-1.0</td>\n",
       "      <td>-1</td>\n",
       "      <td>-1.0</td>\n",
       "      <td>-1.0</td>\n",
       "      <td>-1.0</td>\n",
       "      <td>...</td>\n",
       "      <td>-1.0</td>\n",
       "      <td>-1.0</td>\n",
       "      <td>-1.0</td>\n",
       "      <td>-1.0</td>\n",
       "      <td>-1.0</td>\n",
       "      <td>-1.0</td>\n",
       "      <td>-1</td>\n",
       "      <td>-1.0</td>\n",
       "      <td>-1.0</td>\n",
       "      <td>-1.0</td>\n",
       "    </tr>\n",
       "    <tr>\n",
       "      <th>1</th>\n",
       "      <td>1</td>\n",
       "      <td>2</td>\n",
       "      <td>18.0</td>\n",
       "      <td>61.25</td>\n",
       "      <td>-1</td>\n",
       "      <td>-1.0</td>\n",
       "      <td>-1</td>\n",
       "      <td>-1.0</td>\n",
       "      <td>-1.0</td>\n",
       "      <td>-1.0</td>\n",
       "      <td>...</td>\n",
       "      <td>-1.0</td>\n",
       "      <td>-1.0</td>\n",
       "      <td>-1.0</td>\n",
       "      <td>-1.0</td>\n",
       "      <td>-1.0</td>\n",
       "      <td>-1.0</td>\n",
       "      <td>-1</td>\n",
       "      <td>-1.0</td>\n",
       "      <td>-1.0</td>\n",
       "      <td>-1.0</td>\n",
       "    </tr>\n",
       "    <tr>\n",
       "      <th>2</th>\n",
       "      <td>1</td>\n",
       "      <td>2</td>\n",
       "      <td>18.0</td>\n",
       "      <td>61.50</td>\n",
       "      <td>-1</td>\n",
       "      <td>-1.0</td>\n",
       "      <td>-1</td>\n",
       "      <td>-1.0</td>\n",
       "      <td>-1.0</td>\n",
       "      <td>-1.0</td>\n",
       "      <td>...</td>\n",
       "      <td>-1.0</td>\n",
       "      <td>-1.0</td>\n",
       "      <td>-1.0</td>\n",
       "      <td>-1.0</td>\n",
       "      <td>-1.0</td>\n",
       "      <td>-1.0</td>\n",
       "      <td>-1</td>\n",
       "      <td>-1.0</td>\n",
       "      <td>-1.0</td>\n",
       "      <td>-1.0</td>\n",
       "    </tr>\n",
       "    <tr>\n",
       "      <th>3</th>\n",
       "      <td>1</td>\n",
       "      <td>2</td>\n",
       "      <td>18.0</td>\n",
       "      <td>62.00</td>\n",
       "      <td>-1</td>\n",
       "      <td>-1.0</td>\n",
       "      <td>-1</td>\n",
       "      <td>-1.0</td>\n",
       "      <td>-1.0</td>\n",
       "      <td>-1.0</td>\n",
       "      <td>...</td>\n",
       "      <td>-1.0</td>\n",
       "      <td>-1.0</td>\n",
       "      <td>-1.0</td>\n",
       "      <td>-1.0</td>\n",
       "      <td>-1.0</td>\n",
       "      <td>-1.0</td>\n",
       "      <td>-1</td>\n",
       "      <td>-1.0</td>\n",
       "      <td>-1.0</td>\n",
       "      <td>-1.0</td>\n",
       "    </tr>\n",
       "    <tr>\n",
       "      <th>4</th>\n",
       "      <td>1</td>\n",
       "      <td>2</td>\n",
       "      <td>18.0</td>\n",
       "      <td>62.50</td>\n",
       "      <td>-1</td>\n",
       "      <td>-1.0</td>\n",
       "      <td>-1</td>\n",
       "      <td>-1.0</td>\n",
       "      <td>-1.0</td>\n",
       "      <td>-1.0</td>\n",
       "      <td>...</td>\n",
       "      <td>-1.0</td>\n",
       "      <td>-1.0</td>\n",
       "      <td>-1.0</td>\n",
       "      <td>-1.0</td>\n",
       "      <td>-1.0</td>\n",
       "      <td>-1.0</td>\n",
       "      <td>-1</td>\n",
       "      <td>-1.0</td>\n",
       "      <td>-1.0</td>\n",
       "      <td>-1.0</td>\n",
       "    </tr>\n",
       "  </tbody>\n",
       "</table>\n",
       "<p>5 rows × 160 columns</p>\n",
       "</div>"
      ],
      "text/plain": [
       "   RID  Gender  Educ    Age  APOE  MMSE  DX  mri_001  mri_002  mri_003  \\\n",
       "0    1       2  18.0  61.00    -1  -1.0  -1     -1.0     -1.0     -1.0   \n",
       "1    1       2  18.0  61.25    -1  -1.0  -1     -1.0     -1.0     -1.0   \n",
       "2    1       2  18.0  61.50    -1  -1.0  -1     -1.0     -1.0     -1.0   \n",
       "3    1       2  18.0  62.00    -1  -1.0  -1     -1.0     -1.0     -1.0   \n",
       "4    1       2  18.0  62.50    -1  -1.0  -1     -1.0     -1.0     -1.0   \n",
       "\n",
       "    ...    fdg_05  amyloid_01  amyloid_02  amyloid_03  amyloid_04  amyloid_05  \\\n",
       "0   ...      -1.0        -1.0        -1.0        -1.0        -1.0        -1.0   \n",
       "1   ...      -1.0        -1.0        -1.0        -1.0        -1.0        -1.0   \n",
       "2   ...      -1.0        -1.0        -1.0        -1.0        -1.0        -1.0   \n",
       "3   ...      -1.0        -1.0        -1.0        -1.0        -1.0        -1.0   \n",
       "4   ...      -1.0        -1.0        -1.0        -1.0        -1.0        -1.0   \n",
       "\n",
       "   amyloid_06  csf_01  csf_02  csf_03  \n",
       "0          -1    -1.0    -1.0    -1.0  \n",
       "1          -1    -1.0    -1.0    -1.0  \n",
       "2          -1    -1.0    -1.0    -1.0  \n",
       "3          -1    -1.0    -1.0    -1.0  \n",
       "4          -1    -1.0    -1.0    -1.0  \n",
       "\n",
       "[5 rows x 160 columns]"
      ]
     },
     "execution_count": 4,
     "metadata": {},
     "output_type": "execute_result"
    }
   ],
   "source": [
    "adnifulldf.head()"
   ]
  },
  {
   "cell_type": "code",
   "execution_count": 5,
   "metadata": {},
   "outputs": [],
   "source": [
    "mri_vars = [fieldname for fieldname in adnifulldf.columns if 'mri_' in fieldname]\n",
    "amyloid_vars = [fieldname for fieldname in adnifulldf.columns if 'amyloid_' in fieldname]\n",
    "csf_vars = [fieldname for fieldname in adnifulldf.columns if 'csf_' in fieldname]\n",
    "fdg_vars = [fieldname for fieldname in adnifulldf.columns if 'fdg_' in fieldname]\n",
    "pet_vars = [fieldname for fieldname in adnifulldf.columns if 'pet_' in fieldname]\n",
    "factors = ['RID','Gender','Educ','Age','APOE','MMSE','DX']\n",
    "dx_stages = ['CN', 'AD']\n",
    "\n",
    "mridf = adnifulldf.loc[(adnifulldf[\"DX\"].isin(dx_stages)) & (adnifulldf[\"Educ\"] != -1) & (adnifulldf[\"mri_001\"] != -1), factors+mri_vars]\n",
    "amyloiddf = adnifulldf.loc[(adnifulldf[\"DX\"].isin(dx_stages)) & (adnifulldf[\"Educ\"] != -1) & (adnifulldf[\"amyloid_01\"] != -1), factors+amyloid_vars]\n",
    "csfdf = adnifulldf.loc[(adnifulldf[\"DX\"].isin(dx_stages)) & (adnifulldf[\"Educ\"] != -1) & (adnifulldf[\"csf_01\"] != -1), factors+csf_vars]\n",
    "fdgdf = adnifulldf.loc[(adnifulldf[\"DX\"].isin(dx_stages)) & (adnifulldf[\"Educ\"] != -1) & (adnifulldf[\"fdg_01\"] != -1), factors+fdg_vars]\n",
    "petdf = adnifulldf.loc[(adnifulldf[\"DX\"].isin(dx_stages)) & (adnifulldf[\"Educ\"] != -1) & (adnifulldf[\"pet_01\"] != -1), factors+pet_vars]"
   ]
  },
  {
   "cell_type": "code",
   "execution_count": 6,
   "metadata": {
    "scrolled": true
   },
   "outputs": [
    {
     "name": "stdout",
     "output_type": "stream",
     "text": [
      "3797 1116 1170 1789 1124\n"
     ]
    }
   ],
   "source": [
    "print(len(mridf), len(amyloiddf), len(csfdf), len(fdgdf), len(petdf))"
   ]
  },
  {
   "cell_type": "code",
   "execution_count": 7,
   "metadata": {
    "scrolled": true
   },
   "outputs": [],
   "source": [
    "dirpath = '../Dataset/ProcessedFiles/'\n",
    "modality = 'csf_'\n",
    "modality_files = [fname for fname in os.listdir(dirpath) if modality in fname]\n",
    "perfdict = dict()\n",
    "\n",
    "for file in modality_files:\n",
    "    keyname = re.sub(modality+'|_cv.pckl','', file)\n",
    "    if 'logistic_regression' in keyname:\n",
    "        keyname = re.sub('logistic_regression','LR',keyname)\n",
    "    elif 'random_forest' in keyname:\n",
    "        keyname = re.sub('random_forest','RF',keyname)\n",
    "    elif 'svm' in keyname:\n",
    "        keyname = re.sub('svm','SVM', keyname)\n",
    "    perfdict[keyname] = [gridout['test_score']['accuracy'] for gridout in pickle.load(open(dirpath+file,'rb'))]"
   ]
  },
  {
   "cell_type": "code",
   "execution_count": 8,
   "metadata": {
    "scrolled": false
   },
   "outputs": [
    {
     "data": {
      "image/png": "[encoded data removed]",
      "text/plain": [
       "<Figure size 432x288 with 1 Axes>"
      ]
     },
     "metadata": {
      "needs_background": "light"
     },
     "output_type": "display_data"
    }
   ],
   "source": [
    "sns.boxplot(data=pd.DataFrame(perfdict), order=['LR','factors_LR','RF','factors_RF','SVM','factors_SVM'])\n",
    "plt.xticks(rotation=10)\n",
    "plt.show()"
   ]
  },
  {
   "cell_type": "markdown",
   "metadata": {},
   "source": [
    "Keep all subjects who do not have any MRI for testing. Patients who have atleast MRI have 76% patients with Amyloid, 94% patients with CSF, 90% patients with FDG and 93% patients with PET. Using 80% of the patients with all MRI for training and 20% of it for testing."
   ]
  },
  {
   "cell_type": "code",
   "execution_count": 9,
   "metadata": {},
   "outputs": [],
   "source": [
    "# prepare training and test data\n",
    "# all rows that are AD/CN, Education present and at least the MRI scans\n",
    "adnidf = adnifulldf.loc[(adnifulldf[\"DX\"].isin(dx_stages)) & (adnifulldf[\"Educ\"] != -1) & (adnifulldf[\"mri_001\"] !=-1)].copy()\n",
    "adnidf[\"DX_bin\"] = np.where(adnidf[\"DX\"] == \"CN\", 0, 1) # CN: 0, AD: 1\n",
    "\n",
    "training_df, testing2_df = train_test_split(adnidf, test_size=0.2, shuffle=True)\n",
    "\n",
    "# all rows that are AD/CN, Education present and no MRI scans\n",
    "testing1_df = adnifulldf.loc[(adnifulldf[\"DX\"].isin(dx_stages)) & (adnifulldf[\"Educ\"] != -1) & (adnifulldf[\"mri_001\"] == -1) &\n",
    "                  ((adnifulldf[\"csf_01\"] != -1)|(adnifulldf[\"pet_01\"] != -1)|(adnifulldf[\"fdg_01\"] != -1)|(adnifulldf[\"amyloid_01\"] != -1))].copy()\n",
    "testing1_df[\"DX_bin\"] = np.where(testing1_df[\"DX\"] == \"CN\", 0, 1) # CN: 0, AD: 1\n",
    "\n",
    "# combine test data\n",
    "testing_df = pd.concat([testing1_df, testing2_df], sort=False)"
   ]
  },
  {
   "cell_type": "code",
   "execution_count": 10,
   "metadata": {},
   "outputs": [
    {
     "name": "stdout",
     "output_type": "stream",
     "text": [
      "Fitting 10 folds for each of 44 candidates, totalling 440 fits\n"
     ]
    },
    {
     "name": "stderr",
     "output_type": "stream",
     "text": [
      "[Parallel(n_jobs=1)]: Using backend SequentialBackend with 1 concurrent workers.\n",
      "[Parallel(n_jobs=1)]: Done 440 out of 440 | elapsed:    8.9s finished\n",
      "/home/ksaboo/anaconda3/lib/python3.6/site-packages/sklearn/model_selection/_search.py:841: DeprecationWarning: The default of the `iid` parameter will change from True to False in version 0.22 and will be removed in 0.24. This will change numeric results when test-set sizes are unequal.\n",
      "  DeprecationWarning)\n",
      "[Parallel(n_jobs=1)]: Using backend SequentialBackend with 1 concurrent workers.\n"
     ]
    },
    {
     "name": "stdout",
     "output_type": "stream",
     "text": [
      "Fitting 10 folds for each of 44 candidates, totalling 440 fits\n"
     ]
    },
    {
     "name": "stderr",
     "output_type": "stream",
     "text": [
      "[Parallel(n_jobs=1)]: Done 440 out of 440 | elapsed:   11.1s finished\n",
      "[Parallel(n_jobs=1)]: Using backend SequentialBackend with 1 concurrent workers.\n"
     ]
    },
    {
     "name": "stdout",
     "output_type": "stream",
     "text": [
      "Fitting 10 folds for each of 44 candidates, totalling 440 fits\n"
     ]
    },
    {
     "name": "stderr",
     "output_type": "stream",
     "text": [
      "[Parallel(n_jobs=1)]: Done 440 out of 440 | elapsed:    7.8s finished\n"
     ]
    }
   ],
   "source": [
    "# train model for each modality\n",
    "gs_num_cv = 10\n",
    "csfout = adens.modalityModelTrainWrapper('random_forest', 'csf', training_df, gs_num_cv)\n",
    "fdgout = adens.modalityModelTrainWrapper('random_forest', 'fdg', training_df, gs_num_cv)\n",
    "petout = adens.modalityModelTrainWrapper('random_forest', 'pet', training_df, gs_num_cv)\n",
    "amyloidout = adens.modalityModelTrainWrapper('logistic_regression', 'amyloid', training_df, gs_num_cv)"
   ]
  },
  {
   "cell_type": "code",
   "execution_count": 11,
   "metadata": {
    "scrolled": true
   },
   "outputs": [
    {
     "name": "stdout",
     "output_type": "stream",
     "text": [
      "CSF: 0.8030\n",
      "FDG: 0.8550\n",
      "PET: 0.7184\n",
      "Amyloid: 0.8389\n"
     ]
    }
   ],
   "source": [
    "# test csf model\n",
    "aux_vars = ['Gender','Age','Educ','APOE', 'DX_bin']\n",
    "\n",
    "csf_columns = [item for sublist in [aux_vars, csf_vars] for item in sublist]\n",
    "arbit = testing_df.loc[(testing_df['csf_01']!=-1), csf_columns]\n",
    "predicted_Y = csfout['model'].predict((arbit[csfout['features']]-csfout['train_mod_mean'])/csfout['train_mod_std']) \n",
    "print(\"CSF: %.04f\" % \n",
    "      csfout['model'].score((arbit[csfout['features']]-csfout['train_mod_mean'])/csfout['train_mod_std'], arbit['DX_bin']))\n",
    "\n",
    "# test fdg model\n",
    "fdg_columns = [item for sublist in [aux_vars, fdg_vars] for item in sublist]\n",
    "arbit = testing_df.loc[(testing_df['fdg_01']!=-1), fdg_columns]\n",
    "print(\"FDG: %.04f\" % \n",
    "      fdgout['model'].score((arbit[fdgout['features']]-fdgout['train_mod_mean'])/fdgout['train_mod_std'], arbit['DX_bin']))\n",
    "\n",
    "# test pet model\n",
    "pet_columns = [item for sublist in [aux_vars, pet_vars] for item in sublist]\n",
    "arbit = testing_df.loc[(testing_df['pet_01']!=-1), pet_columns]\n",
    "print(\"PET: %.04f\" % \n",
    "      petout['model'].score((arbit[petout['features']]-petout['train_mod_mean'])/petout['train_mod_std'], arbit['DX_bin']))\n",
    "\n",
    "# test amyloid\n",
    "amyloid_columns = [item for sublist in [aux_vars, amyloid_vars] for item in sublist]\n",
    "arbit = testing_df.loc[(testing_df['amyloid_01']!=-1), amyloid_columns]\n",
    "print(\"Amyloid: %.04f\" % \n",
    "      amyloidout['model'].score((arbit[amyloidout['features']]-amyloidout['train_mod_mean'])/amyloidout['train_mod_std'], arbit['DX_bin']))\n"
   ]
  },
  {
   "cell_type": "code",
   "execution_count": 12,
   "metadata": {
    "scrolled": true
   },
   "outputs": [
    {
     "name": "stdout",
     "output_type": "stream",
     "text": [
      "Training CV number: 0\n",
      "Training CV number: 1\n",
      "Training CV number: 2\n",
      "Training CV number: 3\n",
      "Training CV number: 4\n",
      "Training CV number: 5\n",
      "Training CV number: 6\n",
      "Training CV number: 7\n"
     ]
    },
    {
     "data": {
      "image/png": "[encoded data removed]",
      "text/plain": [
       "<Figure size 432x288 with 1 Axes>"
      ]
     },
     "metadata": {
      "needs_background": "light"
     },
     "output_type": "display_data"
    }
   ],
   "source": [
    "# DL features\n",
    "mri_features = [item for sublist in [['Gender','Age','Educ','APOE'], mri_vars] for item in sublist]\n",
    "\n",
    "# specify the model\n",
    "dlmodel_def = keras.Sequential([\n",
    "    keras.layers.Dense(64, activation=tf.nn.relu),\n",
    "    keras.layers.Dense(1, activation=tf.nn.sigmoid)\n",
    "])\n",
    "\n",
    "# perform cross validation to choose number of epochs\n",
    "max_epochs = 100\n",
    "validation_fraction = 1/8 # show as a fraction of training data\n",
    "train_acc, val_acc, epoch_arr = adens.trainDeepLearningModelCV(dlmodel_def, training_df[mri_features].values,\n",
    "                                                         training_df['DX_bin'].values.reshape(-1,1), validation_fraction, max_epochs)\n",
    "\n",
    "plt.plot(epoch_arr, np.mean(train_acc, axis=0), label='Training accuracy')\n",
    "plt.plot(epoch_arr, np.mean(val_acc, axis=0), label='Validation accuracy')\n",
    "plt.legend()\n",
    "plt.show()"
   ]
  },
  {
   "cell_type": "code",
   "execution_count": 13,
   "metadata": {
    "scrolled": true
   },
   "outputs": [
    {
     "name": "stdout",
     "output_type": "stream",
     "text": [
      "Epoch 1/40\n",
      "3037/3037 [==============================] - 0s 153us/step - loss: 0.3883 - acc: 0.8367\n",
      "Epoch 2/40\n",
      "3037/3037 [==============================] - 0s 92us/step - loss: 0.2520 - acc: 0.9009\n",
      "Epoch 3/40\n",
      "3037/3037 [==============================] - 0s 68us/step - loss: 0.2092 - acc: 0.9220\n",
      "Epoch 4/40\n",
      "3037/3037 [==============================] - 0s 53us/step - loss: 0.1849 - acc: 0.9322\n",
      "Epoch 5/40\n",
      "3037/3037 [==============================] - 0s 54us/step - loss: 0.1645 - acc: 0.9361\n",
      "Epoch 6/40\n",
      "3037/3037 [==============================] - 0s 56us/step - loss: 0.1453 - acc: 0.9486\n",
      "Epoch 7/40\n",
      "3037/3037 [==============================] - 0s 51us/step - loss: 0.1342 - acc: 0.9559\n",
      "Epoch 8/40\n",
      "3037/3037 [==============================] - 0s 71us/step - loss: 0.1214 - acc: 0.9625\n",
      "Epoch 9/40\n",
      "3037/3037 [==============================] - 0s 89us/step - loss: 0.1091 - acc: 0.9661\n",
      "Epoch 10/40\n",
      "3037/3037 [==============================] - 0s 51us/step - loss: 0.0998 - acc: 0.9704\n",
      "Epoch 11/40\n",
      "3037/3037 [==============================] - 0s 53us/step - loss: 0.0913 - acc: 0.9737\n",
      "Epoch 12/40\n",
      "3037/3037 [==============================] - 0s 70us/step - loss: 0.0831 - acc: 0.9756\n",
      "Epoch 13/40\n",
      "3037/3037 [==============================] - 0s 57us/step - loss: 0.0750 - acc: 0.9793\n",
      "Epoch 14/40\n",
      "3037/3037 [==============================] - 0s 52us/step - loss: 0.0691 - acc: 0.9839\n",
      "Epoch 15/40\n",
      "3037/3037 [==============================] - 0s 57us/step - loss: 0.0620 - acc: 0.9845\n",
      "Epoch 16/40\n",
      "3037/3037 [==============================] - 0s 49us/step - loss: 0.0605 - acc: 0.9862\n",
      "Epoch 17/40\n",
      "3037/3037 [==============================] - 0s 53us/step - loss: 0.0530 - acc: 0.9888\n",
      "Epoch 18/40\n",
      "3037/3037 [==============================] - 0s 55us/step - loss: 0.0476 - acc: 0.9905\n",
      "Epoch 19/40\n",
      "3037/3037 [==============================] - 0s 51us/step - loss: 0.0444 - acc: 0.9911\n",
      "Epoch 20/40\n",
      "3037/3037 [==============================] - 0s 54us/step - loss: 0.0394 - acc: 0.9928\n",
      "Epoch 21/40\n",
      "3037/3037 [==============================] - 0s 53us/step - loss: 0.0356 - acc: 0.9954\n",
      "Epoch 22/40\n",
      "3037/3037 [==============================] - 0s 48us/step - loss: 0.0349 - acc: 0.9921\n",
      "Epoch 23/40\n",
      "3037/3037 [==============================] - 0s 55us/step - loss: 0.0314 - acc: 0.9960\n",
      "Epoch 24/40\n",
      "3037/3037 [==============================] - 0s 56us/step - loss: 0.0273 - acc: 0.9951\n",
      "Epoch 25/40\n",
      "3037/3037 [==============================] - 0s 56us/step - loss: 0.0241 - acc: 0.9970\n",
      "Epoch 26/40\n",
      "3037/3037 [==============================] - 0s 52us/step - loss: 0.0231 - acc: 0.9967\n",
      "Epoch 27/40\n",
      "3037/3037 [==============================] - 0s 52us/step - loss: 0.0226 - acc: 0.9974\n",
      "Epoch 28/40\n",
      "3037/3037 [==============================] - 0s 54us/step - loss: 0.0193 - acc: 0.9984\n",
      "Epoch 29/40\n",
      "3037/3037 [==============================] - 0s 51us/step - loss: 0.0180 - acc: 0.9977\n",
      "Epoch 30/40\n",
      "3037/3037 [==============================] - 0s 50us/step - loss: 0.0190 - acc: 0.9980\n",
      "Epoch 31/40\n",
      "3037/3037 [==============================] - 0s 66us/step - loss: 0.0145 - acc: 0.9987\n",
      "Epoch 32/40\n",
      "3037/3037 [==============================] - 0s 40us/step - loss: 0.0135 - acc: 0.9993\n",
      "Epoch 33/40\n",
      "3037/3037 [==============================] - 0s 48us/step - loss: 0.0116 - acc: 0.9993\n",
      "Epoch 34/40\n",
      "3037/3037 [==============================] - 0s 45us/step - loss: 0.0105 - acc: 0.9997\n",
      "Epoch 35/40\n",
      "3037/3037 [==============================] - 0s 46us/step - loss: 0.0111 - acc: 0.9990\n",
      "Epoch 36/40\n",
      "3037/3037 [==============================] - 0s 55us/step - loss: 0.0090 - acc: 1.0000\n",
      "Epoch 37/40\n",
      "3037/3037 [==============================] - 0s 43us/step - loss: 0.0085 - acc: 1.0000\n",
      "Epoch 38/40\n",
      "3037/3037 [==============================] - 0s 41us/step - loss: 0.0077 - acc: 1.0000\n",
      "Epoch 39/40\n",
      "3037/3037 [==============================] - 0s 41us/step - loss: 0.0072 - acc: 1.0000\n",
      "Epoch 40/40\n",
      "3037/3037 [==============================] - 0s 44us/step - loss: 0.0073 - acc: 0.9997\n"
     ]
    }
   ],
   "source": [
    "dlmodel = dlmodel_def\n",
    "dlmodel.compile(optimizer=tf.train.AdamOptimizer(), \n",
    "              loss='binary_crossentropy',\n",
    "              metrics=['accuracy'])\n",
    "\n",
    "epochs_from_cv = 40 # pick this from the plot of training and validation performance\n",
    "train_mean_list = training_df[mri_features].mean()\n",
    "train_std_list = training_df[mri_features].std()\n",
    "training_X = ((training_df[mri_features] - train_mean_list)/train_std_list).values\n",
    "dlmodel_history = dlmodel.fit(training_X, \n",
    "                              training_df['DX_bin'].values.reshape(-1,1),\n",
    "                              epochs=epochs_from_cv, verbose=1)\n",
    "mriout = {'model':dlmodel,'features':mri_features,'train_mod_mean':train_mean_list,'train_mod_std':train_std_list}"
   ]
  },
  {
   "cell_type": "code",
   "execution_count": 14,
   "metadata": {},
   "outputs": [
    {
     "name": "stdout",
     "output_type": "stream",
     "text": [
      "760/760 [==============================] - 0s 191us/step\n",
      "Test accuracy is: 96.32%\n"
     ]
    }
   ],
   "source": [
    "print(\"Test accuracy is: %.2f%%\" % (100*mriout['model'].evaluate(\n",
    "    ((testing2_df[mriout['features']]-mriout['train_mod_mean'])/mriout['train_mod_std']).values, \n",
    "    testing2_df['DX_bin'].values.reshape(-1,1))[1]))"
   ]
  },
  {
   "cell_type": "code",
   "execution_count": 125,
   "metadata": {},
   "outputs": [],
   "source": [
    "def ensembleData(modeldict, datadf):\n",
    "    ens_dict = dict()\n",
    "\n",
    "    for modname in model_dict.keys():\n",
    "        modout = modeldict[modname]\n",
    "\n",
    "        modality_proba = modout['model'].predict_proba(\n",
    "        (datadf[modout['features']] - modout['train_mod_mean'])/modout['train_mod_std'])\n",
    "        \n",
    "        if modname == 'mri':\n",
    "            modality_proba[np.where(datadf[modname+'_001']==-1)] = np.nan\n",
    "        else:\n",
    "            modality_proba = modality_proba[:,1]\n",
    "            modality_proba[np.where(datadf[modname+'_01']==-1)] = np.nan\n",
    "\n",
    "        ens_dict[modname] = modality_proba.reshape(-1,)\n",
    "    \n",
    "    ensdatadf = pd.DataFrame(ens_dict)\n",
    "    \n",
    "    return ensdatadf"
   ]
  },
  {
   "cell_type": "code",
   "execution_count": 16,
   "metadata": {
    "scrolled": true
   },
   "outputs": [
    {
     "ename": "NameError",
     "evalue": "name 'model_dict' is not defined",
     "output_type": "error",
     "traceback": [
      "\u001b[0;31m---------------------------------------------------------------------------\u001b[0m",
      "\u001b[0;31mNameError\u001b[0m                                 Traceback (most recent call last)",
      "\u001b[0;32m<ipython-input-16-91b1a4002b63>\u001b[0m in \u001b[0;36m<module>\u001b[0;34m\u001b[0m\n\u001b[1;32m      1\u001b[0m \u001b[0mmodel_dict\u001b[0m \u001b[0;34m=\u001b[0m \u001b[0;34m{\u001b[0m\u001b[0;34m'csf'\u001b[0m\u001b[0;34m:\u001b[0m\u001b[0mcsfout\u001b[0m\u001b[0;34m,\u001b[0m\u001b[0;34m'amyloid'\u001b[0m\u001b[0;34m:\u001b[0m\u001b[0mamyloidout\u001b[0m\u001b[0;34m,\u001b[0m\u001b[0;34m'fdg'\u001b[0m\u001b[0;34m:\u001b[0m\u001b[0mfdgout\u001b[0m\u001b[0;34m,\u001b[0m\u001b[0;34m'pet'\u001b[0m\u001b[0;34m:\u001b[0m\u001b[0mpetout\u001b[0m\u001b[0;34m,\u001b[0m\u001b[0;34m'mri'\u001b[0m\u001b[0;34m:\u001b[0m\u001b[0mmriout\u001b[0m\u001b[0;34m}\u001b[0m\u001b[0;34m\u001b[0m\u001b[0m\n\u001b[0;32m----> 2\u001b[0;31m \u001b[0mtrain_ensdf\u001b[0m \u001b[0;34m=\u001b[0m \u001b[0madens\u001b[0m\u001b[0;34m.\u001b[0m\u001b[0mensembleData\u001b[0m\u001b[0;34m(\u001b[0m\u001b[0mmodel_dict\u001b[0m\u001b[0;34m,\u001b[0m\u001b[0mtraining_df\u001b[0m\u001b[0;34m)\u001b[0m\u001b[0;34m\u001b[0m\u001b[0m\n\u001b[0m\u001b[1;32m      3\u001b[0m \u001b[0mtest_ensdf\u001b[0m \u001b[0;34m=\u001b[0m \u001b[0madens\u001b[0m\u001b[0;34m.\u001b[0m\u001b[0mensembleData\u001b[0m\u001b[0;34m(\u001b[0m\u001b[0mmodel_dict\u001b[0m\u001b[0;34m,\u001b[0m \u001b[0mtesting_df\u001b[0m\u001b[0;34m)\u001b[0m\u001b[0;34m\u001b[0m\u001b[0m\n",
      "\u001b[0;32m/media/UIUC Courses/Sem 5/CS598JP/Project/Code/adniEnsemble.py\u001b[0m in \u001b[0;36mensembleData\u001b[0;34m(modeldict, datadf)\u001b[0m\n\u001b[1;32m    163\u001b[0m     \u001b[0mens_dict\u001b[0m \u001b[0;34m=\u001b[0m \u001b[0mdict\u001b[0m\u001b[0;34m(\u001b[0m\u001b[0;34m)\u001b[0m\u001b[0;34m\u001b[0m\u001b[0m\n\u001b[1;32m    164\u001b[0m \u001b[0;34m\u001b[0m\u001b[0m\n\u001b[0;32m--> 165\u001b[0;31m     \u001b[0;32mfor\u001b[0m \u001b[0mmodname\u001b[0m \u001b[0;32min\u001b[0m \u001b[0mmodel_dict\u001b[0m\u001b[0;34m.\u001b[0m\u001b[0mkeys\u001b[0m\u001b[0;34m(\u001b[0m\u001b[0;34m)\u001b[0m\u001b[0;34m:\u001b[0m\u001b[0;34m\u001b[0m\u001b[0m\n\u001b[0m\u001b[1;32m    166\u001b[0m         \u001b[0mmodout\u001b[0m \u001b[0;34m=\u001b[0m \u001b[0mmodeldict\u001b[0m\u001b[0;34m[\u001b[0m\u001b[0mmodname\u001b[0m\u001b[0;34m]\u001b[0m\u001b[0;34m\u001b[0m\u001b[0m\n\u001b[1;32m    167\u001b[0m \u001b[0;34m\u001b[0m\u001b[0m\n",
      "\u001b[0;31mNameError\u001b[0m: name 'model_dict' is not defined"
     ]
    }
   ],
   "source": [
    "model_dict = {'csf':csfout,'amyloid':amyloidout,'fdg':fdgout,'pet':petout,'mri':mriout}\n",
    "train_ensdf = adens.ensembleData(model_dict,training_df)\n",
    "test_ensdf = adens.ensembleData(model_dict, testing_df)"
   ]
  },
  {
   "cell_type": "code",
   "execution_count": 129,
   "metadata": {},
   "outputs": [
    {
     "data": {
      "text/html": [
       "<div>\n",
       "<style scoped>\n",
       "    .dataframe tbody tr th:only-of-type {\n",
       "        vertical-align: middle;\n",
       "    }\n",
       "\n",
       "    .dataframe tbody tr th {\n",
       "        vertical-align: top;\n",
       "    }\n",
       "\n",
       "    .dataframe thead th {\n",
       "        text-align: right;\n",
       "    }\n",
       "</style>\n",
       "<table border=\"1\" class=\"dataframe\">\n",
       "  <thead>\n",
       "    <tr style=\"text-align: right;\">\n",
       "      <th></th>\n",
       "      <th>csf</th>\n",
       "      <th>amyloid</th>\n",
       "      <th>fdg</th>\n",
       "      <th>pet</th>\n",
       "      <th>mri</th>\n",
       "    </tr>\n",
       "  </thead>\n",
       "  <tbody>\n",
       "    <tr>\n",
       "      <th>0</th>\n",
       "      <td>NaN</td>\n",
       "      <td>NaN</td>\n",
       "      <td>NaN</td>\n",
       "      <td>NaN</td>\n",
       "      <td>0.999999</td>\n",
       "    </tr>\n",
       "    <tr>\n",
       "      <th>1</th>\n",
       "      <td>NaN</td>\n",
       "      <td>NaN</td>\n",
       "      <td>NaN</td>\n",
       "      <td>NaN</td>\n",
       "      <td>0.000003</td>\n",
       "    </tr>\n",
       "    <tr>\n",
       "      <th>2</th>\n",
       "      <td>0.439803</td>\n",
       "      <td>0.641948</td>\n",
       "      <td>0.431156</td>\n",
       "      <td>NaN</td>\n",
       "      <td>0.000448</td>\n",
       "    </tr>\n",
       "    <tr>\n",
       "      <th>3</th>\n",
       "      <td>0.055401</td>\n",
       "      <td>0.103175</td>\n",
       "      <td>0.027109</td>\n",
       "      <td>0.359438</td>\n",
       "      <td>0.000003</td>\n",
       "    </tr>\n",
       "    <tr>\n",
       "      <th>4</th>\n",
       "      <td>NaN</td>\n",
       "      <td>NaN</td>\n",
       "      <td>NaN</td>\n",
       "      <td>NaN</td>\n",
       "      <td>1.000000</td>\n",
       "    </tr>\n",
       "  </tbody>\n",
       "</table>\n",
       "</div>"
      ],
      "text/plain": [
       "        csf   amyloid       fdg       pet       mri\n",
       "0       NaN       NaN       NaN       NaN  0.999999\n",
       "1       NaN       NaN       NaN       NaN  0.000003\n",
       "2  0.439803  0.641948  0.431156       NaN  0.000448\n",
       "3  0.055401  0.103175  0.027109  0.359438  0.000003\n",
       "4       NaN       NaN       NaN       NaN  1.000000"
      ]
     },
     "execution_count": 129,
     "metadata": {},
     "output_type": "execute_result"
    }
   ],
   "source": [
    "train_ensdf.head()"
   ]
  },
  {
   "cell_type": "code",
   "execution_count": 130,
   "metadata": {},
   "outputs": [
    {
     "data": {
      "text/html": [
       "<div>\n",
       "<style scoped>\n",
       "    .dataframe tbody tr th:only-of-type {\n",
       "        vertical-align: middle;\n",
       "    }\n",
       "\n",
       "    .dataframe tbody tr th {\n",
       "        vertical-align: top;\n",
       "    }\n",
       "\n",
       "    .dataframe thead th {\n",
       "        text-align: right;\n",
       "    }\n",
       "</style>\n",
       "<table border=\"1\" class=\"dataframe\">\n",
       "  <thead>\n",
       "    <tr style=\"text-align: right;\">\n",
       "      <th></th>\n",
       "      <th>csf</th>\n",
       "      <th>amyloid</th>\n",
       "      <th>fdg</th>\n",
       "      <th>pet</th>\n",
       "      <th>mri</th>\n",
       "    </tr>\n",
       "  </thead>\n",
       "  <tbody>\n",
       "    <tr>\n",
       "      <th>0</th>\n",
       "      <td>NaN</td>\n",
       "      <td>NaN</td>\n",
       "      <td>0.485111</td>\n",
       "      <td>0.412458</td>\n",
       "      <td>NaN</td>\n",
       "    </tr>\n",
       "    <tr>\n",
       "      <th>1</th>\n",
       "      <td>0.095397</td>\n",
       "      <td>NaN</td>\n",
       "      <td>0.176434</td>\n",
       "      <td>0.378406</td>\n",
       "      <td>NaN</td>\n",
       "    </tr>\n",
       "    <tr>\n",
       "      <th>2</th>\n",
       "      <td>NaN</td>\n",
       "      <td>0.052943</td>\n",
       "      <td>0.038282</td>\n",
       "      <td>0.391311</td>\n",
       "      <td>NaN</td>\n",
       "    </tr>\n",
       "    <tr>\n",
       "      <th>3</th>\n",
       "      <td>NaN</td>\n",
       "      <td>0.016223</td>\n",
       "      <td>0.030329</td>\n",
       "      <td>NaN</td>\n",
       "      <td>NaN</td>\n",
       "    </tr>\n",
       "    <tr>\n",
       "      <th>4</th>\n",
       "      <td>NaN</td>\n",
       "      <td>0.023069</td>\n",
       "      <td>NaN</td>\n",
       "      <td>NaN</td>\n",
       "      <td>NaN</td>\n",
       "    </tr>\n",
       "  </tbody>\n",
       "</table>\n",
       "</div>"
      ],
      "text/plain": [
       "        csf   amyloid       fdg       pet  mri\n",
       "0       NaN       NaN  0.485111  0.412458  NaN\n",
       "1  0.095397       NaN  0.176434  0.378406  NaN\n",
       "2       NaN  0.052943  0.038282  0.391311  NaN\n",
       "3       NaN  0.016223  0.030329       NaN  NaN\n",
       "4       NaN  0.023069       NaN       NaN  NaN"
      ]
     },
     "execution_count": 130,
     "metadata": {},
     "output_type": "execute_result"
    }
   ],
   "source": []
  },
  {
   "cell_type": "code",
   "execution_count": null,
   "metadata": {},
   "outputs": [],
   "source": [
    "import imp"
   ]
  }
 ],
 "metadata": {
  "kernelspec": {
   "display_name": "Python 3",
   "language": "python",
   "name": "python3"
  },
  "language_info": {
   "codemirror_mode": {
    "name": "ipython",
    "version": 3
   },
   "file_extension": ".py",
   "mimetype": "text/x-python",
   "name": "python",
   "nbconvert_exporter": "python",
   "pygments_lexer": "ipython3",
   "version": "3.6.6"
  }
 },
 "nbformat": 4,
 "nbformat_minor": 2
}
