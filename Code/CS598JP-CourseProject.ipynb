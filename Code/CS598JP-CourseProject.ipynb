{
 "cells": [
  {
   "cell_type": "code",
   "execution_count": 234,
   "metadata": {},
   "outputs": [],
   "source": [
    "import numpy as np\n",
    "import pandas as pd\n",
    "import seaborn as sns\n",
    "import matplotlib.pyplot as plt\n",
    "import scipy.io\n",
    "from sklearn.model_selection import train_test_split\n",
    "from sklearn.linear_model import LogisticRegressionCV\n",
    "from sklearn.linear_model import LogisticRegression\n",
    "from sklearn.svm import SVC\n",
    "from sklearn.ensemble import RandomForestClassifier\n",
    "from sklearn.model_selection import GridSearchCV\n",
    "from sklearn.metrics import f1_score\n",
    "from sklearn.metrics import confusion_matrix\n",
    "import pdb\n",
    "\n",
    "import pickle\n",
    "import adniEnsemble as adens\n",
    "import tensorflow as tf\n",
    "from tensorflow import keras\n",
    "import os\n",
    "import re"
   ]
  },
  {
   "cell_type": "code",
   "execution_count": 2,
   "metadata": {},
   "outputs": [],
   "source": [
    "adnifulldf = pd.read_csv(\"../Dataset/ADNI/adnitable.csv\")"
   ]
  },
  {
   "cell_type": "code",
   "execution_count": 3,
   "metadata": {},
   "outputs": [],
   "source": [
    "# adnifulldf.Gender = adnifulldf.Gender.apply(lambda x: 'M' if x==1 else 'F')\n",
    "adnifulldf = adnifulldf.fillna(-1)\n",
    "adnifulldf.DX = adnifulldf.DX.apply(lambda x: 'CN' if x==1 else ('MCI' if x==2 else ('AD' if x==3 else -1)))"
   ]
  },
  {
   "cell_type": "code",
   "execution_count": 4,
   "metadata": {},
   "outputs": [
    {
     "data": {
      "text/html": [
       "<div>\n",
       "<style scoped>\n",
       "    .dataframe tbody tr th:only-of-type {\n",
       "        vertical-align: middle;\n",
       "    }\n",
       "\n",
       "    .dataframe tbody tr th {\n",
       "        vertical-align: top;\n",
       "    }\n",
       "\n",
       "    .dataframe thead th {\n",
       "        text-align: right;\n",
       "    }\n",
       "</style>\n",
       "<table border=\"1\" class=\"dataframe\">\n",
       "  <thead>\n",
       "    <tr style=\"text-align: right;\">\n",
       "      <th></th>\n",
       "      <th>RID</th>\n",
       "      <th>Gender</th>\n",
       "      <th>Educ</th>\n",
       "      <th>Age</th>\n",
       "      <th>APOE</th>\n",
       "      <th>MMSE</th>\n",
       "      <th>DX</th>\n",
       "      <th>mri_001</th>\n",
       "      <th>mri_002</th>\n",
       "      <th>mri_003</th>\n",
       "      <th>...</th>\n",
       "      <th>fdg_05</th>\n",
       "      <th>amyloid_01</th>\n",
       "      <th>amyloid_02</th>\n",
       "      <th>amyloid_03</th>\n",
       "      <th>amyloid_04</th>\n",
       "      <th>amyloid_05</th>\n",
       "      <th>amyloid_06</th>\n",
       "      <th>csf_01</th>\n",
       "      <th>csf_02</th>\n",
       "      <th>csf_03</th>\n",
       "    </tr>\n",
       "  </thead>\n",
       "  <tbody>\n",
       "    <tr>\n",
       "      <th>0</th>\n",
       "      <td>1</td>\n",
       "      <td>2</td>\n",
       "      <td>18.0</td>\n",
       "      <td>61.00</td>\n",
       "      <td>-1</td>\n",
       "      <td>-1.0</td>\n",
       "      <td>-1</td>\n",
       "      <td>-1.0</td>\n",
       "      <td>-1.0</td>\n",
       "      <td>-1.0</td>\n",
       "      <td>...</td>\n",
       "      <td>-1.0</td>\n",
       "      <td>-1.0</td>\n",
       "      <td>-1.0</td>\n",
       "      <td>-1.0</td>\n",
       "      <td>-1.0</td>\n",
       "      <td>-1.0</td>\n",
       "      <td>-1</td>\n",
       "      <td>-1.0</td>\n",
       "      <td>-1.0</td>\n",
       "      <td>-1.0</td>\n",
       "    </tr>\n",
       "    <tr>\n",
       "      <th>1</th>\n",
       "      <td>1</td>\n",
       "      <td>2</td>\n",
       "      <td>18.0</td>\n",
       "      <td>61.25</td>\n",
       "      <td>-1</td>\n",
       "      <td>-1.0</td>\n",
       "      <td>-1</td>\n",
       "      <td>-1.0</td>\n",
       "      <td>-1.0</td>\n",
       "      <td>-1.0</td>\n",
       "      <td>...</td>\n",
       "      <td>-1.0</td>\n",
       "      <td>-1.0</td>\n",
       "      <td>-1.0</td>\n",
       "      <td>-1.0</td>\n",
       "      <td>-1.0</td>\n",
       "      <td>-1.0</td>\n",
       "      <td>-1</td>\n",
       "      <td>-1.0</td>\n",
       "      <td>-1.0</td>\n",
       "      <td>-1.0</td>\n",
       "    </tr>\n",
       "    <tr>\n",
       "      <th>2</th>\n",
       "      <td>1</td>\n",
       "      <td>2</td>\n",
       "      <td>18.0</td>\n",
       "      <td>61.50</td>\n",
       "      <td>-1</td>\n",
       "      <td>-1.0</td>\n",
       "      <td>-1</td>\n",
       "      <td>-1.0</td>\n",
       "      <td>-1.0</td>\n",
       "      <td>-1.0</td>\n",
       "      <td>...</td>\n",
       "      <td>-1.0</td>\n",
       "      <td>-1.0</td>\n",
       "      <td>-1.0</td>\n",
       "      <td>-1.0</td>\n",
       "      <td>-1.0</td>\n",
       "      <td>-1.0</td>\n",
       "      <td>-1</td>\n",
       "      <td>-1.0</td>\n",
       "      <td>-1.0</td>\n",
       "      <td>-1.0</td>\n",
       "    </tr>\n",
       "    <tr>\n",
       "      <th>3</th>\n",
       "      <td>1</td>\n",
       "      <td>2</td>\n",
       "      <td>18.0</td>\n",
       "      <td>62.00</td>\n",
       "      <td>-1</td>\n",
       "      <td>-1.0</td>\n",
       "      <td>-1</td>\n",
       "      <td>-1.0</td>\n",
       "      <td>-1.0</td>\n",
       "      <td>-1.0</td>\n",
       "      <td>...</td>\n",
       "      <td>-1.0</td>\n",
       "      <td>-1.0</td>\n",
       "      <td>-1.0</td>\n",
       "      <td>-1.0</td>\n",
       "      <td>-1.0</td>\n",
       "      <td>-1.0</td>\n",
       "      <td>-1</td>\n",
       "      <td>-1.0</td>\n",
       "      <td>-1.0</td>\n",
       "      <td>-1.0</td>\n",
       "    </tr>\n",
       "    <tr>\n",
       "      <th>4</th>\n",
       "      <td>1</td>\n",
       "      <td>2</td>\n",
       "      <td>18.0</td>\n",
       "      <td>62.50</td>\n",
       "      <td>-1</td>\n",
       "      <td>-1.0</td>\n",
       "      <td>-1</td>\n",
       "      <td>-1.0</td>\n",
       "      <td>-1.0</td>\n",
       "      <td>-1.0</td>\n",
       "      <td>...</td>\n",
       "      <td>-1.0</td>\n",
       "      <td>-1.0</td>\n",
       "      <td>-1.0</td>\n",
       "      <td>-1.0</td>\n",
       "      <td>-1.0</td>\n",
       "      <td>-1.0</td>\n",
       "      <td>-1</td>\n",
       "      <td>-1.0</td>\n",
       "      <td>-1.0</td>\n",
       "      <td>-1.0</td>\n",
       "    </tr>\n",
       "  </tbody>\n",
       "</table>\n",
       "<p>5 rows × 160 columns</p>\n",
       "</div>"
      ],
      "text/plain": [
       "   RID  Gender  Educ    Age  APOE  MMSE  DX  mri_001  mri_002  mri_003  \\\n",
       "0    1       2  18.0  61.00    -1  -1.0  -1     -1.0     -1.0     -1.0   \n",
       "1    1       2  18.0  61.25    -1  -1.0  -1     -1.0     -1.0     -1.0   \n",
       "2    1       2  18.0  61.50    -1  -1.0  -1     -1.0     -1.0     -1.0   \n",
       "3    1       2  18.0  62.00    -1  -1.0  -1     -1.0     -1.0     -1.0   \n",
       "4    1       2  18.0  62.50    -1  -1.0  -1     -1.0     -1.0     -1.0   \n",
       "\n",
       "    ...    fdg_05  amyloid_01  amyloid_02  amyloid_03  amyloid_04  amyloid_05  \\\n",
       "0   ...      -1.0        -1.0        -1.0        -1.0        -1.0        -1.0   \n",
       "1   ...      -1.0        -1.0        -1.0        -1.0        -1.0        -1.0   \n",
       "2   ...      -1.0        -1.0        -1.0        -1.0        -1.0        -1.0   \n",
       "3   ...      -1.0        -1.0        -1.0        -1.0        -1.0        -1.0   \n",
       "4   ...      -1.0        -1.0        -1.0        -1.0        -1.0        -1.0   \n",
       "\n",
       "   amyloid_06  csf_01  csf_02  csf_03  \n",
       "0          -1    -1.0    -1.0    -1.0  \n",
       "1          -1    -1.0    -1.0    -1.0  \n",
       "2          -1    -1.0    -1.0    -1.0  \n",
       "3          -1    -1.0    -1.0    -1.0  \n",
       "4          -1    -1.0    -1.0    -1.0  \n",
       "\n",
       "[5 rows x 160 columns]"
      ]
     },
     "execution_count": 4,
     "metadata": {},
     "output_type": "execute_result"
    }
   ],
   "source": [
    "adnifulldf.head()"
   ]
  },
  {
   "cell_type": "code",
   "execution_count": 5,
   "metadata": {},
   "outputs": [],
   "source": [
    "mri_vars = [fieldname for fieldname in adnifulldf.columns if 'mri_' in fieldname]\n",
    "amyloid_vars = [fieldname for fieldname in adnifulldf.columns if 'amyloid_' in fieldname]\n",
    "csf_vars = [fieldname for fieldname in adnifulldf.columns if 'csf_' in fieldname]\n",
    "fdg_vars = [fieldname for fieldname in adnifulldf.columns if 'fdg_' in fieldname]\n",
    "pet_vars = [fieldname for fieldname in adnifulldf.columns if 'pet_' in fieldname]\n",
    "factors = ['RID','Gender','Educ','Age','APOE','MMSE','DX']\n",
    "dx_stages = ['CN', 'AD']\n",
    "\n",
    "mridf = adnifulldf.loc[(adnifulldf[\"DX\"].isin(dx_stages)) & (adnifulldf[\"Educ\"] != -1) & (adnifulldf[\"mri_001\"] != -1), factors+mri_vars]\n",
    "amyloiddf = adnifulldf.loc[(adnifulldf[\"DX\"].isin(dx_stages)) & (adnifulldf[\"Educ\"] != -1) & (adnifulldf[\"amyloid_01\"] != -1), factors+amyloid_vars]\n",
    "csfdf = adnifulldf.loc[(adnifulldf[\"DX\"].isin(dx_stages)) & (adnifulldf[\"Educ\"] != -1) & (adnifulldf[\"csf_01\"] != -1), factors+csf_vars]\n",
    "fdgdf = adnifulldf.loc[(adnifulldf[\"DX\"].isin(dx_stages)) & (adnifulldf[\"Educ\"] != -1) & (adnifulldf[\"fdg_01\"] != -1), factors+fdg_vars]\n",
    "petdf = adnifulldf.loc[(adnifulldf[\"DX\"].isin(dx_stages)) & (adnifulldf[\"Educ\"] != -1) & (adnifulldf[\"pet_01\"] != -1), factors+pet_vars]"
   ]
  },
  {
   "cell_type": "code",
   "execution_count": 6,
   "metadata": {
    "scrolled": true
   },
   "outputs": [
    {
     "name": "stdout",
     "output_type": "stream",
     "text": [
      "3797 1116 1170 1789 1124\n"
     ]
    }
   ],
   "source": [
    "print(len(mridf), len(amyloiddf), len(csfdf), len(fdgdf), len(petdf))"
   ]
  },
  {
   "cell_type": "markdown",
   "metadata": {},
   "source": [
    "## MRI"
   ]
  },
  {
   "cell_type": "code",
   "execution_count": 8,
   "metadata": {},
   "outputs": [],
   "source": [
    "shuffled_df = mridf.sample(frac=1, random_state=1)\n",
    "# features = [item for sublist in [['Gender','Educ','Age','APOE'], mri_vars] for item in sublist]\n",
    "features = mri_vars\n",
    "data_X = shuffled_df[features].values.reshape(-1,len(features))\n",
    "data_Y = np.where(shuffled_df[\"DX\"] == \"CN\", 0, 1) # if CN: 0, if AD: 1\n",
    "\n",
    "# prepare training and test data\n",
    "train_frac = 0.8\n",
    "num_samples = np.shape(data_X)[0]\n",
    "num_samples_train = int(np.round(num_samples*train_frac))\n",
    "\n",
    "training_X = data_X[:num_samples_train,:]\n",
    "training_Y = data_Y[:num_samples_train]\n",
    "testing_X = data_X[num_samples_train:,:]\n",
    "testing_Y = data_Y[num_samples_train:]"
   ]
  },
  {
   "cell_type": "code",
   "execution_count": 11,
   "metadata": {
    "scrolled": true
   },
   "outputs": [
    {
     "name": "stdout",
     "output_type": "stream",
     "text": [
      "Training CV number: 0\n",
      "Training CV number: 1\n",
      "Training CV number: 2\n",
      "Training CV number: 3\n",
      "Training CV number: 4\n",
      "Training CV number: 5\n",
      "Training CV number: 6\n",
      "Training CV number: 7\n"
     ]
    }
   ],
   "source": [
    "# specify the model\n",
    "dlmodel_def = keras.Sequential([\n",
    "    keras.layers.Dense(64, activation=tf.nn.relu),\n",
    "    keras.layers.Dense(1, activation=tf.nn.sigmoid)\n",
    "])\n",
    "\n",
    "# perform cross validation to choose number of epochs\n",
    "max_epochs = 100\n",
    "validation_fraction = 1/8 # show as a fraction of training data\n",
    "train_acc, val_acc, epoch_arr = trainDeepLearningModelCV(dlmodel_def, training_X, training_Y, \n",
    "                                                         validation_fraction, max_epochs)"
   ]
  },
  {
   "cell_type": "code",
   "execution_count": 12,
   "metadata": {},
   "outputs": [
    {
     "data": {
      "image/png": "[encoded data removed]",
      "text/plain": [
       "<Figure size 432x288 with 1 Axes>"
      ]
     },
     "metadata": {
      "needs_background": "light"
     },
     "output_type": "display_data"
    }
   ],
   "source": [
    "plt.plot(epoch_arr, np.mean(train_acc, axis=0), label='Training accuracy')\n",
    "plt.plot(epoch_arr, np.mean(val_acc, axis=0), label='Validation accuracy')\n",
    "plt.legend()\n",
    "plt.show()"
   ]
  },
  {
   "cell_type": "code",
   "execution_count": 13,
   "metadata": {
    "scrolled": true
   },
   "outputs": [
    {
     "name": "stdout",
     "output_type": "stream",
     "text": [
      "Epoch 1/40\n",
      "3038/3038 [==============================] - 0s 105us/step - loss: 0.4111 - acc: 0.8180\n",
      "Epoch 2/40\n",
      "3038/3038 [==============================] - 0s 28us/step - loss: 0.2953 - acc: 0.8904\n",
      "Epoch 3/40\n",
      "3038/3038 [==============================] - 0s 32us/step - loss: 0.2562 - acc: 0.9085\n",
      "Epoch 4/40\n",
      "3038/3038 [==============================] - 0s 32us/step - loss: 0.2275 - acc: 0.9217\n",
      "Epoch 5/40\n",
      "3038/3038 [==============================] - 0s 37us/step - loss: 0.2117 - acc: 0.9253\n",
      "Epoch 6/40\n",
      "3038/3038 [==============================] - 0s 33us/step - loss: 0.1957 - acc: 0.9282\n",
      "Epoch 7/40\n",
      "3038/3038 [==============================] - 0s 39us/step - loss: 0.1792 - acc: 0.9361\n",
      "Epoch 8/40\n",
      "3038/3038 [==============================] - 0s 36us/step - loss: 0.1689 - acc: 0.9421\n",
      "Epoch 9/40\n",
      "3038/3038 [==============================] - 0s 32us/step - loss: 0.1596 - acc: 0.9440\n",
      "Epoch 10/40\n",
      "3038/3038 [==============================] - 0s 32us/step - loss: 0.1467 - acc: 0.9526\n",
      "Epoch 11/40\n",
      "3038/3038 [==============================] - 0s 38us/step - loss: 0.1375 - acc: 0.9542\n",
      "Epoch 12/40\n",
      "3038/3038 [==============================] - 0s 31us/step - loss: 0.1303 - acc: 0.9569\n",
      "Epoch 13/40\n",
      "3038/3038 [==============================] - 0s 36us/step - loss: 0.1176 - acc: 0.9648\n",
      "Epoch 14/40\n",
      "3038/3038 [==============================] - 0s 31us/step - loss: 0.1110 - acc: 0.9661\n",
      "Epoch 15/40\n",
      "3038/3038 [==============================] - 0s 32us/step - loss: 0.1065 - acc: 0.9648\n",
      "Epoch 16/40\n",
      "3038/3038 [==============================] - 0s 34us/step - loss: 0.0998 - acc: 0.9691\n",
      "Epoch 17/40\n",
      "3038/3038 [==============================] - 0s 31us/step - loss: 0.0911 - acc: 0.9727\n",
      "Epoch 18/40\n",
      "3038/3038 [==============================] - 0s 44us/step - loss: 0.0889 - acc: 0.9730\n",
      "Epoch 19/40\n",
      "3038/3038 [==============================] - 0s 65us/step - loss: 0.0824 - acc: 0.9766\n",
      "Epoch 20/40\n",
      "3038/3038 [==============================] - 0s 47us/step - loss: 0.0768 - acc: 0.9799\n",
      "Epoch 21/40\n",
      "3038/3038 [==============================] - 0s 53us/step - loss: 0.0725 - acc: 0.9783\n",
      "Epoch 22/40\n",
      "3038/3038 [==============================] - 0s 58us/step - loss: 0.0646 - acc: 0.9832\n",
      "Epoch 23/40\n",
      "3038/3038 [==============================] - 0s 37us/step - loss: 0.0618 - acc: 0.9842\n",
      "Epoch 24/40\n",
      "3038/3038 [==============================] - 0s 41us/step - loss: 0.0571 - acc: 0.9891\n",
      "Epoch 25/40\n",
      "3038/3038 [==============================] - 0s 38us/step - loss: 0.0548 - acc: 0.9865\n",
      "Epoch 26/40\n",
      "3038/3038 [==============================] - 0s 41us/step - loss: 0.0512 - acc: 0.9885\n",
      "Epoch 27/40\n",
      "3038/3038 [==============================] - 0s 41us/step - loss: 0.0482 - acc: 0.9898\n",
      "Epoch 28/40\n",
      "3038/3038 [==============================] - 0s 32us/step - loss: 0.0460 - acc: 0.9891\n",
      "Epoch 29/40\n",
      "3038/3038 [==============================] - 0s 37us/step - loss: 0.0410 - acc: 0.9914\n",
      "Epoch 30/40\n",
      "3038/3038 [==============================] - 0s 32us/step - loss: 0.0393 - acc: 0.9937\n",
      "Epoch 31/40\n",
      "3038/3038 [==============================] - 0s 33us/step - loss: 0.0374 - acc: 0.9931\n",
      "Epoch 32/40\n",
      "3038/3038 [==============================] - 0s 32us/step - loss: 0.0331 - acc: 0.9951\n",
      "Epoch 33/40\n",
      "3038/3038 [==============================] - 0s 32us/step - loss: 0.0315 - acc: 0.9941\n",
      "Epoch 34/40\n",
      "3038/3038 [==============================] - 0s 31us/step - loss: 0.0324 - acc: 0.9947\n",
      "Epoch 35/40\n",
      "3038/3038 [==============================] - 0s 31us/step - loss: 0.0271 - acc: 0.9970\n",
      "Epoch 36/40\n",
      "3038/3038 [==============================] - 0s 25us/step - loss: 0.0249 - acc: 0.9967\n",
      "Epoch 37/40\n",
      "3038/3038 [==============================] - 0s 21us/step - loss: 0.0253 - acc: 0.9961\n",
      "Epoch 38/40\n",
      "3038/3038 [==============================] - 0s 42us/step - loss: 0.0213 - acc: 0.9980\n",
      "Epoch 39/40\n",
      "3038/3038 [==============================] - 0s 35us/step - loss: 0.0197 - acc: 0.9970\n",
      "Epoch 40/40\n",
      "3038/3038 [==============================] - 0s 35us/step - loss: 0.0182 - acc: 0.9984\n"
     ]
    }
   ],
   "source": [
    "dlmodel = dlmodel_def\n",
    "dlmodel.compile(optimizer=tf.train.AdamOptimizer(), \n",
    "              loss='binary_crossentropy',\n",
    "              metrics=['accuracy'])\n",
    "\n",
    "epochs_from_cv = 40 # pick this from the plot of training and validation performance\n",
    "train_mean_list = np.mean(training_X, axis=0)\n",
    "train_std_list = np.std(training_X, axis=0)\n",
    "dlmodel_history = dlmodel.fit((training_X - train_mean_list)/train_std_list, training_Y, epochs=epochs_from_cv, verbose=1)"
   ]
  },
  {
   "cell_type": "code",
   "execution_count": 14,
   "metadata": {},
   "outputs": [
    {
     "name": "stdout",
     "output_type": "stream",
     "text": [
      "759/759 [==============================] - 0s 147us/step\n",
      "Test accuracy is: 96.18%\n"
     ]
    }
   ],
   "source": [
    "print(\"Test accuracy is: %.2f%%\" % (100*dlmodel.evaluate((testing_X-train_mean_list)/train_std_list, testing_Y)[1]))"
   ]
  },
  {
   "cell_type": "code",
   "execution_count": 61,
   "metadata": {},
   "outputs": [],
   "source": [
    "def trainDeepLearningModelCV(model, data_X, data_Y, val_frac, train_epochs):\n",
    "    num_cv = int(np.round(1/val_frac))\n",
    "    val_perf = np.zeros((num_cv, train_epochs))\n",
    "    train_perf = np.zeros((num_cv, train_epochs))\n",
    "    \n",
    "    for cvn in range(0, num_cv):\n",
    "        print(\"Training CV number: %d\" % (cvn))\n",
    "        # split training and validation data\n",
    "        train_X_ns, val_X_ns, train_Y, val_Y = train_test_split(data_X, data_Y, \n",
    "                                                          train_size=1-val_frac, test_size=val_frac, shuffle=True)\n",
    "        # standardize validation and training data using training data\n",
    "        mean_list_train = np.mean(train_X_ns, axis=0)\n",
    "        std_list_train = np.std(train_X_ns, axis=0)\n",
    "        train_X = (train_X_ns - mean_list_train)/std_list_train\n",
    "        val_X = (val_X_ns - mean_list_train)/std_list_train\n",
    "\n",
    "        # create model instance and compile it\n",
    "        temp_model = keras.Sequential.from_config(model.get_config())\n",
    "        temp_model.compile(optimizer=tf.train.AdamOptimizer(), \n",
    "              loss='binary_crossentropy',\n",
    "              metrics=['accuracy'])\n",
    "        # train model\n",
    "        temp_model.fit(train_X, train_Y, \n",
    "                       epochs=train_epochs, \n",
    "                       validation_data=(val_X, val_Y),\n",
    "                       verbose=0)\n",
    "        epoch_array = temp_model.history.epoch\n",
    "        val_perf[cvn,:] = temp_model.history.history['val_acc']\n",
    "        train_perf[cvn,:] = temp_model.history.history['acc']\n",
    "    \n",
    "    return train_perf, val_perf, epoch_array"
   ]
  },
  {
   "cell_type": "code",
   "execution_count": 177,
   "metadata": {
    "scrolled": true
   },
   "outputs": [],
   "source": [
    "dirpath = '../Dataset/ProcessedFiles/'\n",
    "modality = 'csf_'\n",
    "modality_files = [fname for fname in os.listdir(dirpath) if modality in fname]\n",
    "perfdict = dict()\n",
    "\n",
    "for file in modality_files:\n",
    "    keyname = re.sub(modality+'|_cv.pckl','', file)\n",
    "    if 'logistic_regression' in keyname:\n",
    "        keyname = re.sub('logistic_regression','LR',keyname)\n",
    "    elif 'random_forest' in keyname:\n",
    "        keyname = re.sub('random_forest','RF',keyname)\n",
    "    elif 'svm' in keyname:\n",
    "        keyname = re.sub('svm','SVM', keyname)\n",
    "    perfdict[keyname] = [gridout['test_score']['accuracy'] for gridout in pickle.load(open(dirpath+file,'rb'))]"
   ]
  },
  {
   "cell_type": "code",
   "execution_count": 178,
   "metadata": {
    "scrolled": false
   },
   "outputs": [
    {
     "data": {
      "image/png": "[encoded data removed]",
      "text/plain": [
       "<Figure size 432x288 with 1 Axes>"
      ]
     },
     "metadata": {
      "needs_background": "light"
     },
     "output_type": "display_data"
    }
   ],
   "source": [
    "sns.boxplot(data=pd.DataFrame(perfdict), order=['LR','factors_LR','RF','factors_RF','SVM','factors_SVM'])\n",
    "plt.xticks(rotation=10)\n",
    "plt.show()"
   ]
  },
  {
   "cell_type": "code",
   "execution_count": 121,
   "metadata": {},
   "outputs": [
    {
     "data": {
      "text/plain": [
       "factors_LR     92.758621\n",
       "factors_RF     89.588859\n",
       "factors_SVM    95.106101\n",
       "LR             91.193634\n",
       "RF             88.673740\n",
       "SVM            94.509284\n",
       "dtype: float64"
      ]
     },
     "execution_count": 121,
     "metadata": {},
     "output_type": "execute_result"
    }
   ],
   "source": [
    "pd.DataFrame(perfdict).mean()"
   ]
  },
  {
   "cell_type": "code",
   "execution_count": 137,
   "metadata": {},
   "outputs": [
    {
     "name": "stdout",
     "output_type": "stream",
     "text": [
      "[13, 17, 19, 14, 12, 19, 13, 19, 18, 14]\n"
     ]
    }
   ],
   "source": [
    "# analysis of best parameters\n",
    "csfbestclf_list = pickle.load(open('../Dataset/ProcessedFiles/csf_factors_random_forest_cv.pckl','rb'))\n",
    "print([item_params['n_estimators'] for item_params in [item['model'].get_params() for item in csfbestclf_list]])"
   ]
  },
  {
   "cell_type": "code",
   "execution_count": 110,
   "metadata": {},
   "outputs": [
    {
     "name": "stdout",
     "output_type": "stream",
     "text": [
      "3797 1116 1170 1789 1124\n"
     ]
    }
   ],
   "source": [
    "print(len(mridf), len(amyloiddf), len(csfdf), len(fdgdf), len(petdf))"
   ]
  },
  {
   "cell_type": "code",
   "execution_count": 72,
   "metadata": {},
   "outputs": [],
   "source": [
    "adnidf = adnifulldf.loc[(adnifulldf[\"DX\"].isin(dx_stages)) & (adnifulldf[\"Educ\"] != -1) & (adnifulldf[\"mri_001\"] ==-1)].copy()"
   ]
  },
  {
   "cell_type": "code",
   "execution_count": 78,
   "metadata": {},
   "outputs": [
    {
     "data": {
      "text/plain": [
       "93.23843416370107"
      ]
     },
     "execution_count": 78,
     "metadata": {},
     "output_type": "execute_result"
    }
   ],
   "source": [
    "100*len(adnidf[(adnidf[\"pet_01\"] != -1)])/len(petdf)"
   ]
  },
  {
   "cell_type": "markdown",
   "metadata": {},
   "source": [
    "Keep all subjects who do not have any MRI for testing. Patients who have atleast MRI have 76% patients with Amyloid, 94% patients with CSF, 90% patients with FDG and 93% patients with PET. Using 80% of the patients with all MRI for training and 20% of it for testing."
   ]
  },
  {
   "cell_type": "code",
   "execution_count": 270,
   "metadata": {},
   "outputs": [],
   "source": [
    "# prepare training and test data\n",
    "# all rows that are AD/CN, Education present and at least the MRI scans\n",
    "adnidf = adnifulldf.loc[(adnifulldf[\"DX\"].isin(dx_stages)) & (adnifulldf[\"Educ\"] != -1) & (adnifulldf[\"mri_001\"] !=-1)].copy()\n",
    "adnidf[\"DX_bin\"] = np.where(adnidf[\"DX\"] == \"CN\", 0, 1) # CN: 0, AD: 1\n",
    "\n",
    "training_df, testing2_df = train_test_split(adnidf, test_size=0.2, shuffle=True)\n",
    "\n",
    "# all rows that are AD/CN, Education present and no MRI scans\n",
    "testing1_df = adnifulldf.loc[(adnifulldf[\"DX\"].isin(dx_stages)) & (adnifulldf[\"Educ\"] != -1) & (adnifulldf[\"mri_001\"] == -1)].copy()\n",
    "testing1_df[\"DX_bin\"] = np.where(testing1_df[\"DX\"] == \"CN\", 0, 1) # CN: 0, AD: 1\n",
    "\n",
    "# combine test data\n",
    "testing_df = pd.concat([testing1_df, testing2_df], sort=False)"
   ]
  },
  {
   "cell_type": "code",
   "execution_count": 271,
   "metadata": {},
   "outputs": [
    {
     "name": "stdout",
     "output_type": "stream",
     "text": [
      "Fitting 10 folds for each of 44 candidates, totalling 440 fits\n"
     ]
    },
    {
     "name": "stderr",
     "output_type": "stream",
     "text": [
      "[Parallel(n_jobs=1)]: Using backend SequentialBackend with 1 concurrent workers.\n",
      "[Parallel(n_jobs=1)]: Done 440 out of 440 | elapsed:    7.0s finished\n",
      "/home/ksaboo/anaconda3/lib/python3.6/site-packages/sklearn/model_selection/_search.py:841: DeprecationWarning: The default of the `iid` parameter will change from True to False in version 0.22 and will be removed in 0.24. This will change numeric results when test-set sizes are unequal.\n",
      "  DeprecationWarning)\n"
     ]
    },
    {
     "ename": "IndexError",
     "evalue": "index 1 is out of bounds for axis 0 with size 1",
     "output_type": "error",
     "traceback": [
      "\u001b[0;31m---------------------------------------------------------------------------\u001b[0m",
      "\u001b[0;31mIndexError\u001b[0m                                Traceback (most recent call last)",
      "\u001b[0;32m<ipython-input-271-f8657ceca552>\u001b[0m in \u001b[0;36m<module>\u001b[0;34m\u001b[0m\n\u001b[1;32m      1\u001b[0m \u001b[0mgs_num_cv\u001b[0m \u001b[0;34m=\u001b[0m \u001b[0;36m10\u001b[0m\u001b[0;34m\u001b[0m\u001b[0m\n\u001b[0;32m----> 2\u001b[0;31m \u001b[0mcsfout\u001b[0m \u001b[0;34m=\u001b[0m \u001b[0mmodalityModelTrainWrapper\u001b[0m\u001b[0;34m(\u001b[0m\u001b[0;34m'random_forest'\u001b[0m\u001b[0;34m,\u001b[0m \u001b[0;34m'csf'\u001b[0m\u001b[0;34m,\u001b[0m \u001b[0mtraining_df\u001b[0m\u001b[0;34m,\u001b[0m \u001b[0mgs_num_cv\u001b[0m\u001b[0;34m)\u001b[0m\u001b[0;34m\u001b[0m\u001b[0m\n\u001b[0m\u001b[1;32m      3\u001b[0m \u001b[0;34m\u001b[0m\u001b[0m\n\u001b[1;32m      4\u001b[0m \u001b[0marbit\u001b[0m \u001b[0;34m=\u001b[0m \u001b[0mtesting_df\u001b[0m\u001b[0;34m.\u001b[0m\u001b[0mloc\u001b[0m\u001b[0;34m[\u001b[0m\u001b[0;34m(\u001b[0m\u001b[0mtesting_df\u001b[0m\u001b[0;34m[\u001b[0m\u001b[0;34m'csf_01'\u001b[0m\u001b[0;34m]\u001b[0m\u001b[0;34m!=\u001b[0m\u001b[0;34m-\u001b[0m\u001b[0;36m1\u001b[0m\u001b[0;34m)\u001b[0m\u001b[0;34m,\u001b[0m \u001b[0mcsf_columns\u001b[0m\u001b[0;34m]\u001b[0m\u001b[0;34m\u001b[0m\u001b[0m\n\u001b[1;32m      5\u001b[0m \u001b[0mcsfout\u001b[0m\u001b[0;34m[\u001b[0m\u001b[0;34m'model'\u001b[0m\u001b[0;34m]\u001b[0m\u001b[0;34m.\u001b[0m\u001b[0mscore\u001b[0m\u001b[0;34m(\u001b[0m\u001b[0;34m(\u001b[0m\u001b[0marbit\u001b[0m\u001b[0;34m[\u001b[0m\u001b[0mcsfout\u001b[0m\u001b[0;34m[\u001b[0m\u001b[0;34m'features'\u001b[0m\u001b[0;34m]\u001b[0m\u001b[0;34m]\u001b[0m\u001b[0;34m-\u001b[0m\u001b[0mcsfout\u001b[0m\u001b[0;34m[\u001b[0m\u001b[0;34m'train_mod_mean'\u001b[0m\u001b[0;34m]\u001b[0m\u001b[0;34m)\u001b[0m\u001b[0;34m/\u001b[0m\u001b[0mcsfout\u001b[0m\u001b[0;34m[\u001b[0m\u001b[0;34m'train_mod_std'\u001b[0m\u001b[0;34m]\u001b[0m\u001b[0;34m,\u001b[0m \u001b[0marbit\u001b[0m\u001b[0;34m[\u001b[0m\u001b[0;34m'DX_bin'\u001b[0m\u001b[0;34m]\u001b[0m\u001b[0;34m)\u001b[0m\u001b[0;34m\u001b[0m\u001b[0m\n",
      "\u001b[0;32m<ipython-input-268-f24e53a48a09>\u001b[0m in \u001b[0;36mmodalityModelTrainWrapper\u001b[0;34m(classifier_name, modality_name, train_df, num_cv)\u001b[0m\n\u001b[1;32m     31\u001b[0m     \u001b[0;31m# perform parameter sweep for classifier and train model\u001b[0m\u001b[0;34m\u001b[0m\u001b[0;34m\u001b[0m\u001b[0m\n\u001b[1;32m     32\u001b[0m     gridout = adens.gridSearchWrapper(classifier_name, param_grid, num_cv, train_X_zs, \n\u001b[0;32m---> 33\u001b[0;31m                                           train_modalitydf['DX_bin'], dummy_test_X, dummy_test_Y)\n\u001b[0m\u001b[1;32m     34\u001b[0m \u001b[0;34m\u001b[0m\u001b[0m\n\u001b[1;32m     35\u001b[0m     return {'model':gridout['model'], 'features':modality_features,\n",
      "\u001b[0;32m/media/UIUC Courses/Sem 5/CS598JP/Project/Code/adniEnsemble.py\u001b[0m in \u001b[0;36mgridSearchWrapper\u001b[0;34m(classifier_name, paramdict, num_cv, train_X, train_Y, test_X, test_Y)\u001b[0m\n\u001b[1;32m     52\u001b[0m \u001b[0;34m\u001b[0m\u001b[0m\n\u001b[1;32m     53\u001b[0m     \u001b[0;31m# test model - test data\u001b[0m\u001b[0;34m\u001b[0m\u001b[0;34m\u001b[0m\u001b[0m\n\u001b[0;32m---> 54\u001b[0;31m     \u001b[0msensitivity_test\u001b[0m\u001b[0;34m,\u001b[0m \u001b[0mspecificity_test\u001b[0m \u001b[0;34m=\u001b[0m \u001b[0mSensiSpeci\u001b[0m\u001b[0;34m(\u001b[0m\u001b[0mtest_Y\u001b[0m\u001b[0;34m,\u001b[0m \u001b[0mmlmodel\u001b[0m\u001b[0;34m.\u001b[0m\u001b[0mpredict\u001b[0m\u001b[0;34m(\u001b[0m\u001b[0mtest_X\u001b[0m\u001b[0;34m)\u001b[0m\u001b[0;34m)\u001b[0m\u001b[0;34m\u001b[0m\u001b[0m\n\u001b[0m\u001b[1;32m     55\u001b[0m     \u001b[0maccuracy_test\u001b[0m \u001b[0;34m=\u001b[0m \u001b[0;36m100\u001b[0m\u001b[0;34m*\u001b[0m\u001b[0mmlmodel\u001b[0m\u001b[0;34m.\u001b[0m\u001b[0mscore\u001b[0m\u001b[0;34m(\u001b[0m\u001b[0mtest_X\u001b[0m\u001b[0;34m,\u001b[0m \u001b[0mtest_Y\u001b[0m\u001b[0;34m)\u001b[0m\u001b[0;34m\u001b[0m\u001b[0m\n\u001b[1;32m     56\u001b[0m     \u001b[0mf1_test\u001b[0m \u001b[0;34m=\u001b[0m \u001b[0mf1_score\u001b[0m\u001b[0;34m(\u001b[0m\u001b[0mtest_Y\u001b[0m\u001b[0;34m,\u001b[0m \u001b[0mmlmodel\u001b[0m\u001b[0;34m.\u001b[0m\u001b[0mpredict\u001b[0m\u001b[0;34m(\u001b[0m\u001b[0mtest_X\u001b[0m\u001b[0;34m)\u001b[0m\u001b[0;34m)\u001b[0m\u001b[0;34m\u001b[0m\u001b[0m\n",
      "\u001b[0;32m/media/UIUC Courses/Sem 5/CS598JP/Project/Code/adniEnsemble.py\u001b[0m in \u001b[0;36mSensiSpeci\u001b[0;34m(true_labels, predicted_labels)\u001b[0m\n\u001b[1;32m     19\u001b[0m \u001b[0;32mdef\u001b[0m \u001b[0mSensiSpeci\u001b[0m\u001b[0;34m(\u001b[0m\u001b[0mtrue_labels\u001b[0m\u001b[0;34m,\u001b[0m \u001b[0mpredicted_labels\u001b[0m\u001b[0;34m)\u001b[0m\u001b[0;34m:\u001b[0m\u001b[0;34m\u001b[0m\u001b[0m\n\u001b[1;32m     20\u001b[0m     \u001b[0mconfmat\u001b[0m \u001b[0;34m=\u001b[0m \u001b[0mconfusion_matrix\u001b[0m\u001b[0;34m(\u001b[0m\u001b[0mtrue_labels\u001b[0m\u001b[0;34m,\u001b[0m \u001b[0mpredicted_labels\u001b[0m\u001b[0;34m)\u001b[0m\u001b[0;34m\u001b[0m\u001b[0m\n\u001b[0;32m---> 21\u001b[0;31m     \u001b[0msensitivity\u001b[0m \u001b[0;34m=\u001b[0m \u001b[0;36m100\u001b[0m\u001b[0;34m*\u001b[0m\u001b[0mconfmat\u001b[0m\u001b[0;34m[\u001b[0m\u001b[0;36m1\u001b[0m\u001b[0;34m,\u001b[0m\u001b[0;36m1\u001b[0m\u001b[0;34m]\u001b[0m\u001b[0;34m/\u001b[0m\u001b[0;34m(\u001b[0m\u001b[0mconfmat\u001b[0m\u001b[0;34m[\u001b[0m\u001b[0;36m1\u001b[0m\u001b[0;34m,\u001b[0m\u001b[0;36m0\u001b[0m\u001b[0;34m]\u001b[0m\u001b[0;34m+\u001b[0m\u001b[0mconfmat\u001b[0m\u001b[0;34m[\u001b[0m\u001b[0;36m1\u001b[0m\u001b[0;34m,\u001b[0m\u001b[0;36m1\u001b[0m\u001b[0;34m]\u001b[0m\u001b[0;34m)\u001b[0m \u001b[0;31m# TP/(FN+TP)\u001b[0m\u001b[0;34m\u001b[0m\u001b[0m\n\u001b[0m\u001b[1;32m     22\u001b[0m     \u001b[0mspecificity\u001b[0m \u001b[0;34m=\u001b[0m \u001b[0;36m100\u001b[0m\u001b[0;34m*\u001b[0m\u001b[0mconfmat\u001b[0m\u001b[0;34m[\u001b[0m\u001b[0;36m0\u001b[0m\u001b[0;34m,\u001b[0m\u001b[0;36m0\u001b[0m\u001b[0;34m]\u001b[0m\u001b[0;34m/\u001b[0m\u001b[0;34m(\u001b[0m\u001b[0mconfmat\u001b[0m\u001b[0;34m[\u001b[0m\u001b[0;36m0\u001b[0m\u001b[0;34m,\u001b[0m\u001b[0;36m0\u001b[0m\u001b[0;34m]\u001b[0m\u001b[0;34m+\u001b[0m\u001b[0mconfmat\u001b[0m\u001b[0;34m[\u001b[0m\u001b[0;36m0\u001b[0m\u001b[0;34m,\u001b[0m\u001b[0;36m1\u001b[0m\u001b[0;34m]\u001b[0m\u001b[0;34m)\u001b[0m \u001b[0;31m# TN/(TN+FP)\u001b[0m\u001b[0;34m\u001b[0m\u001b[0m\n\u001b[1;32m     23\u001b[0m     \u001b[0;32mreturn\u001b[0m \u001b[0msensitivity\u001b[0m\u001b[0;34m,\u001b[0m \u001b[0mspecificity\u001b[0m\u001b[0;34m\u001b[0m\u001b[0m\n",
      "\u001b[0;31mIndexError\u001b[0m: index 1 is out of bounds for axis 0 with size 1"
     ]
    }
   ],
   "source": [
    "gs_num_cv = 10\n",
    "csfout = modalityModelTrainWrapper('random_forest', 'csf', training_df, gs_num_cv)\n",
    "\n",
    "arbit = testing_df.loc[(testing_df['csf_01']!=-1), csf_columns]\n",
    "csfout['model'].score((arbit[csfout['features']]-csfout['train_mod_mean'])/csfout['train_mod_std'], arbit['DX_bin'])"
   ]
  },
  {
   "cell_type": "code",
   "execution_count": 262,
   "metadata": {
    "scrolled": true
   },
   "outputs": [
    {
     "name": "stderr",
     "output_type": "stream",
     "text": [
      "/media/UIUC Courses/Sem 5/CS598JP/Project/Code/adniEnsemble.py:22: RuntimeWarning: invalid value encountered in long_scalars\n",
      "  specificity = 100*confmat[0,0]/(confmat[0,0]+confmat[0,1]) # TN/(TN+FP)\n",
      "/home/ksaboo/anaconda3/lib/python3.6/site-packages/sklearn/metrics/classification.py:1143: UndefinedMetricWarning: F-score is ill-defined and being set to 0.0 due to no predicted samples.\n",
      "  'precision', 'predicted', average, warn_for)\n"
     ]
    },
    {
     "data": {
      "text/plain": [
       "0.8514150943396226"
      ]
     },
     "execution_count": 262,
     "metadata": {},
     "output_type": "execute_result"
    }
   ],
   "source": [
    "gs_num_cv = 10\n",
    "amyloidout = modalityModelTrainWrapper('logistic_regression', 'amyloid', training_df, gs_num_cv)\n",
    "\n",
    "amyloid_columns = [item for sublist in [['Gender','Age','Educ','APOE', 'DX_bin'], amyloid_vars] for item in sublist]\n",
    "arbit = testing_df.loc[(testing_df['amyloid_01']!=-1), amyloid_columns]\n",
    "amyloidout['model'].score((arbit[amyloidout['features']]-amyloidout['train_modality_mean'])/amyloidout['train_modality_std'], arbit['DX_bin'])"
   ]
  },
  {
   "cell_type": "code",
   "execution_count": 266,
   "metadata": {},
   "outputs": [
    {
     "data": {
      "text/plain": [
       "array([[-0.51555619,  0.05008728, -0.34983019,  0.30440661, -0.14134136,\n",
       "        -0.26482642, -0.71819857,  0.13972011,  2.60644087, -0.2558909 ]])"
      ]
     },
     "execution_count": 266,
     "metadata": {},
     "output_type": "execute_result"
    }
   ],
   "source": [
    "amyloidout['model'].coef_"
   ]
  },
  {
   "cell_type": "code",
   "execution_count": 268,
   "metadata": {},
   "outputs": [],
   "source": [
    "# train each modality - use the method which had best on average performance for each modality as evaluated in previous experiment\n",
    "def modalityModelTrainWrapper(classifier_name, modality_name, train_df, num_cv):\n",
    "    # auxiliary information required in DF\n",
    "    aux_info = ['Gender','Age','Educ','APOE','DX_bin']\n",
    "    factors = ['Gender','Age','Educ','APOE']\n",
    "    \n",
    "    # grid search parameters\n",
    "    if classifier_name == 'random_forest':\n",
    "        param_grid = {'n_estimators':np.arange(10,21,dtype=int), 'max_depth':np.arange(3,7,dtype=int)}\n",
    "    elif classifier_name == 'logistic_regression':\n",
    "        param_grid = 20\n",
    "    else:\n",
    "        print('Classifier not found')\n",
    "        return 0\n",
    "    \n",
    "    # prepare data\n",
    "    modality_vars = [fieldname for fieldname in train_df.columns if modality_name in fieldname]\n",
    "    modality_columns = [item for sublist in [aux_info, modality_vars] for item in sublist]\n",
    "    modality_features = [item for sublist in [factors, modality_vars] for item in sublist]\n",
    "    \n",
    "    train_modalitydf = train_df.loc[train_df[modality_name+'_01'] !=-1, modality_columns]\n",
    "    \n",
    "    # standardize training data\n",
    "    train_modality_mean = train_modalitydf[modality_features].mean()\n",
    "    train_modality_std = train_modalitydf[modality_features].std()\n",
    "    train_X_zs = (train_modalitydf[modality_features]-train_modality_mean)/train_modality_std\n",
    "    \n",
    "    dummy_test_X = train_X_zs.iloc[0:2]\n",
    "    dummy_test_Y = train_modalitydf.iloc[0:2].DX_bin\n",
    "    \n",
    "    # perform parameter sweep for classifier and train model\n",
    "    gridout = adens.gridSearchWrapper(classifier_name, param_grid, num_cv, train_X_zs, \n",
    "                                          train_modalitydf['DX_bin'], dummy_test_X, dummy_test_Y)\n",
    "\n",
    "    return {'model':gridout['model'], 'features':modality_features,\n",
    "            'train_mod_mean':train_modality_mean, 'train_mod_std':train_modality_std}\n"
   ]
  }
 ],
 "metadata": {
  "kernelspec": {
   "display_name": "Python 3",
   "language": "python",
   "name": "python3"
  },
  "language_info": {
   "codemirror_mode": {
    "name": "ipython",
    "version": 3
   },
   "file_extension": ".py",
   "mimetype": "text/x-python",
   "name": "python",
   "nbconvert_exporter": "python",
   "pygments_lexer": "ipython3",
   "version": "3.6.6"
  }
 },
 "nbformat": 4,
 "nbformat_minor": 2
}
