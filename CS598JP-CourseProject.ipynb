{
 "cells": [
  {
   "cell_type": "code",
   "execution_count": 180,
   "metadata": {},
   "outputs": [],
   "source": [
    "import numpy as np\n",
    "import pandas as pd\n",
    "import seaborn as sns\n",
    "import matplotlib.pyplot as plt\n",
    "import scipy.io\n",
    "from sklearn.model_selection import train_test_split\n",
    "from sklearn.linear_model import LogisticRegressionCV\n",
    "from sklearn.svm import SVC\n",
    "from sklearn.ensemble import RandomForestClassifier\n",
    "from sklearn.model_selection import GridSearchCV\n",
    "from sklearn.metrics import f1_score\n",
    "from sklearn.metrics import confusion_matrix\n",
    "import pdb\n",
    "\n",
    "import pickle\n",
    "import adniEnsemble as adens"
   ]
  },
  {
   "cell_type": "code",
   "execution_count": 2,
   "metadata": {},
   "outputs": [],
   "source": [
    "adnifulldf = pd.read_csv(\"../Dataset/ADNI/adnitable.csv\")"
   ]
  },
  {
   "cell_type": "code",
   "execution_count": 3,
   "metadata": {},
   "outputs": [],
   "source": [
    "# adnifulldf.Gender = adnifulldf.Gender.apply(lambda x: 'M' if x==1 else 'F')\n",
    "adnifulldf = adnifulldf.fillna(-1)\n",
    "adnifulldf.DX = adnifulldf.DX.apply(lambda x: 'CN' if x==1 else ('MCI' if x==2 else ('AD' if x==3 else -1)))"
   ]
  },
  {
   "cell_type": "code",
   "execution_count": 4,
   "metadata": {},
   "outputs": [
    {
     "data": {
      "text/html": [
       "<div>\n",
       "<style scoped>\n",
       "    .dataframe tbody tr th:only-of-type {\n",
       "        vertical-align: middle;\n",
       "    }\n",
       "\n",
       "    .dataframe tbody tr th {\n",
       "        vertical-align: top;\n",
       "    }\n",
       "\n",
       "    .dataframe thead th {\n",
       "        text-align: right;\n",
       "    }\n",
       "</style>\n",
       "<table border=\"1\" class=\"dataframe\">\n",
       "  <thead>\n",
       "    <tr style=\"text-align: right;\">\n",
       "      <th></th>\n",
       "      <th>RID</th>\n",
       "      <th>Gender</th>\n",
       "      <th>Educ</th>\n",
       "      <th>Age</th>\n",
       "      <th>APOE</th>\n",
       "      <th>MMSE</th>\n",
       "      <th>DX</th>\n",
       "      <th>mri_001</th>\n",
       "      <th>mri_002</th>\n",
       "      <th>mri_003</th>\n",
       "      <th>...</th>\n",
       "      <th>fdg_05</th>\n",
       "      <th>amyloid_01</th>\n",
       "      <th>amyloid_02</th>\n",
       "      <th>amyloid_03</th>\n",
       "      <th>amyloid_04</th>\n",
       "      <th>amyloid_05</th>\n",
       "      <th>amyloid_06</th>\n",
       "      <th>csf_01</th>\n",
       "      <th>csf_02</th>\n",
       "      <th>csf_03</th>\n",
       "    </tr>\n",
       "  </thead>\n",
       "  <tbody>\n",
       "    <tr>\n",
       "      <th>0</th>\n",
       "      <td>1</td>\n",
       "      <td>2</td>\n",
       "      <td>18.0</td>\n",
       "      <td>61.00</td>\n",
       "      <td>-1</td>\n",
       "      <td>-1.0</td>\n",
       "      <td>-1</td>\n",
       "      <td>-1.0</td>\n",
       "      <td>-1.0</td>\n",
       "      <td>-1.0</td>\n",
       "      <td>...</td>\n",
       "      <td>-1.0</td>\n",
       "      <td>-1.0</td>\n",
       "      <td>-1.0</td>\n",
       "      <td>-1.0</td>\n",
       "      <td>-1.0</td>\n",
       "      <td>-1.0</td>\n",
       "      <td>-1</td>\n",
       "      <td>-1.0</td>\n",
       "      <td>-1.0</td>\n",
       "      <td>-1.0</td>\n",
       "    </tr>\n",
       "    <tr>\n",
       "      <th>1</th>\n",
       "      <td>1</td>\n",
       "      <td>2</td>\n",
       "      <td>18.0</td>\n",
       "      <td>61.25</td>\n",
       "      <td>-1</td>\n",
       "      <td>-1.0</td>\n",
       "      <td>-1</td>\n",
       "      <td>-1.0</td>\n",
       "      <td>-1.0</td>\n",
       "      <td>-1.0</td>\n",
       "      <td>...</td>\n",
       "      <td>-1.0</td>\n",
       "      <td>-1.0</td>\n",
       "      <td>-1.0</td>\n",
       "      <td>-1.0</td>\n",
       "      <td>-1.0</td>\n",
       "      <td>-1.0</td>\n",
       "      <td>-1</td>\n",
       "      <td>-1.0</td>\n",
       "      <td>-1.0</td>\n",
       "      <td>-1.0</td>\n",
       "    </tr>\n",
       "    <tr>\n",
       "      <th>2</th>\n",
       "      <td>1</td>\n",
       "      <td>2</td>\n",
       "      <td>18.0</td>\n",
       "      <td>61.50</td>\n",
       "      <td>-1</td>\n",
       "      <td>-1.0</td>\n",
       "      <td>-1</td>\n",
       "      <td>-1.0</td>\n",
       "      <td>-1.0</td>\n",
       "      <td>-1.0</td>\n",
       "      <td>...</td>\n",
       "      <td>-1.0</td>\n",
       "      <td>-1.0</td>\n",
       "      <td>-1.0</td>\n",
       "      <td>-1.0</td>\n",
       "      <td>-1.0</td>\n",
       "      <td>-1.0</td>\n",
       "      <td>-1</td>\n",
       "      <td>-1.0</td>\n",
       "      <td>-1.0</td>\n",
       "      <td>-1.0</td>\n",
       "    </tr>\n",
       "    <tr>\n",
       "      <th>3</th>\n",
       "      <td>1</td>\n",
       "      <td>2</td>\n",
       "      <td>18.0</td>\n",
       "      <td>62.00</td>\n",
       "      <td>-1</td>\n",
       "      <td>-1.0</td>\n",
       "      <td>-1</td>\n",
       "      <td>-1.0</td>\n",
       "      <td>-1.0</td>\n",
       "      <td>-1.0</td>\n",
       "      <td>...</td>\n",
       "      <td>-1.0</td>\n",
       "      <td>-1.0</td>\n",
       "      <td>-1.0</td>\n",
       "      <td>-1.0</td>\n",
       "      <td>-1.0</td>\n",
       "      <td>-1.0</td>\n",
       "      <td>-1</td>\n",
       "      <td>-1.0</td>\n",
       "      <td>-1.0</td>\n",
       "      <td>-1.0</td>\n",
       "    </tr>\n",
       "    <tr>\n",
       "      <th>4</th>\n",
       "      <td>1</td>\n",
       "      <td>2</td>\n",
       "      <td>18.0</td>\n",
       "      <td>62.50</td>\n",
       "      <td>-1</td>\n",
       "      <td>-1.0</td>\n",
       "      <td>-1</td>\n",
       "      <td>-1.0</td>\n",
       "      <td>-1.0</td>\n",
       "      <td>-1.0</td>\n",
       "      <td>...</td>\n",
       "      <td>-1.0</td>\n",
       "      <td>-1.0</td>\n",
       "      <td>-1.0</td>\n",
       "      <td>-1.0</td>\n",
       "      <td>-1.0</td>\n",
       "      <td>-1.0</td>\n",
       "      <td>-1</td>\n",
       "      <td>-1.0</td>\n",
       "      <td>-1.0</td>\n",
       "      <td>-1.0</td>\n",
       "    </tr>\n",
       "  </tbody>\n",
       "</table>\n",
       "<p>5 rows × 160 columns</p>\n",
       "</div>"
      ],
      "text/plain": [
       "   RID  Gender  Educ    Age  APOE  MMSE  DX  mri_001  mri_002  mri_003  \\\n",
       "0    1       2  18.0  61.00    -1  -1.0  -1     -1.0     -1.0     -1.0   \n",
       "1    1       2  18.0  61.25    -1  -1.0  -1     -1.0     -1.0     -1.0   \n",
       "2    1       2  18.0  61.50    -1  -1.0  -1     -1.0     -1.0     -1.0   \n",
       "3    1       2  18.0  62.00    -1  -1.0  -1     -1.0     -1.0     -1.0   \n",
       "4    1       2  18.0  62.50    -1  -1.0  -1     -1.0     -1.0     -1.0   \n",
       "\n",
       "    ...    fdg_05  amyloid_01  amyloid_02  amyloid_03  amyloid_04  amyloid_05  \\\n",
       "0   ...      -1.0        -1.0        -1.0        -1.0        -1.0        -1.0   \n",
       "1   ...      -1.0        -1.0        -1.0        -1.0        -1.0        -1.0   \n",
       "2   ...      -1.0        -1.0        -1.0        -1.0        -1.0        -1.0   \n",
       "3   ...      -1.0        -1.0        -1.0        -1.0        -1.0        -1.0   \n",
       "4   ...      -1.0        -1.0        -1.0        -1.0        -1.0        -1.0   \n",
       "\n",
       "   amyloid_06  csf_01  csf_02  csf_03  \n",
       "0          -1    -1.0    -1.0    -1.0  \n",
       "1          -1    -1.0    -1.0    -1.0  \n",
       "2          -1    -1.0    -1.0    -1.0  \n",
       "3          -1    -1.0    -1.0    -1.0  \n",
       "4          -1    -1.0    -1.0    -1.0  \n",
       "\n",
       "[5 rows x 160 columns]"
      ]
     },
     "execution_count": 4,
     "metadata": {},
     "output_type": "execute_result"
    }
   ],
   "source": [
    "adnifulldf.head()"
   ]
  },
  {
   "cell_type": "code",
   "execution_count": 5,
   "metadata": {},
   "outputs": [],
   "source": [
    "mri_vars = [fieldname for fieldname in adnifulldf.columns if 'mri_' in fieldname]\n",
    "amyloid_vars = [fieldname for fieldname in adnifulldf.columns if 'amyloid_' in fieldname]\n",
    "csf_vars = [fieldname for fieldname in adnifulldf.columns if 'csf_' in fieldname]\n",
    "fdg_vars = [fieldname for fieldname in adnifulldf.columns if 'fdg_' in fieldname]\n",
    "pet_vars = [fieldname for fieldname in adnifulldf.columns if 'pet_' in fieldname]\n",
    "factors = ['RID','Gender','Educ','Age','APOE','MMSE','DX']\n",
    "dx_stages = ['CN', 'AD']\n",
    "\n",
    "mridf = adnifulldf.loc[(adnifulldf[\"DX\"].isin(dx_stages)) & (adnifulldf[\"Educ\"] != -1) & (adnifulldf[\"mri_001\"] != -1), factors+mri_vars]\n",
    "amyloiddf = adnifulldf.loc[(adnifulldf[\"DX\"].isin(dx_stages)) & (adnifulldf[\"Educ\"] != -1) & (adnifulldf[\"amyloid_01\"] != -1), factors+amyloid_vars]\n",
    "csfdf = adnifulldf.loc[(adnifulldf[\"DX\"].isin(dx_stages)) & (adnifulldf[\"Educ\"] != -1) & (adnifulldf[\"csf_01\"] != -1), factors+csf_vars]\n",
    "fdgdf = adnifulldf.loc[(adnifulldf[\"DX\"].isin(dx_stages)) & (adnifulldf[\"Educ\"] != -1) & (adnifulldf[\"fdg_01\"] != -1), factors+fdg_vars]\n",
    "petdf = adnifulldf.loc[(adnifulldf[\"DX\"].isin(dx_stages)) & (adnifulldf[\"Educ\"] != -1) & (adnifulldf[\"pet_01\"] != -1), factors+pet_vars]"
   ]
  },
  {
   "cell_type": "code",
   "execution_count": 6,
   "metadata": {
    "scrolled": true
   },
   "outputs": [
    {
     "name": "stdout",
     "output_type": "stream",
     "text": [
      "3797 1116 1170 1789 1124\n"
     ]
    }
   ],
   "source": [
    "print(len(mridf), len(amyloiddf), len(csfdf), len(fdgdf), len(petdf))"
   ]
  },
  {
   "cell_type": "markdown",
   "metadata": {},
   "source": [
    "## MRI"
   ]
  },
  {
   "cell_type": "code",
   "execution_count": 43,
   "metadata": {},
   "outputs": [
    {
     "name": "stdout",
     "output_type": "stream",
     "text": [
      "Test: Sensitivity = 82.65, Specificity: 92.08\n",
      "Train: Sensitivity = 86.00, Specificity: 94.82\n"
     ]
    }
   ],
   "source": [
    "## prepare data with appropriate features and randomization\n",
    "shuffled_df = mridf.sample(frac=1, random_state=1)\n",
    "features = [item for sublist in [['Gender','Educ','Age','APOE'], mri_vars] for item in sublist]\n",
    "data_X = shuffled_df[features].values.reshape(-1,len(features))\n",
    "data_Y = np.where(shuffled_df[\"DX\"] == \"CN\", 0, 1) # if CN: 0, if AD: 1\n",
    "\n",
    "# prepare training and test data\n",
    "train_frac = 0.8\n",
    "num_samples = np.shape(data_X)[0]\n",
    "num_samples_train = int(np.round(num_samples*train_frac))\n",
    "\n",
    "training_X = data_X[:num_samples_train,:]\n",
    "training_Y = data_Y[:num_samples_train]\n",
    "testing_X = data_X[num_samples_train:,:]\n",
    "testing_Y = data_Y[num_samples_train:]\n",
    "\n",
    "# select model\n",
    "# mlmodel = LogisticRegressionCV(Cs=20, cv=5)\n",
    "# mlmodel = SVC(C=1e0, kernel='linear')\n",
    "mlmodel = RandomForestClassifier(n_estimators=10, max_depth=5)\n",
    "\n",
    "# train model\n",
    "mlmodel.fit(training_X, training_Y)\n",
    "\n",
    "# test model - test data\n",
    "sensitivity_test, specificity_test = adens.SensiSpeci(testing_Y, mlmodel.predict(testing_X))\n",
    "# test model - training data\n",
    "sensitivity_train, specificity_train = adens.SensiSpeci(training_Y, mlmodel.predict(training_X))\n",
    "\n",
    "print(\"Test: Sensitivity = %.2f, Specificity: %.2f\" % (sensitivity_test, specificity_test))\n",
    "print(\"Train: Sensitivity = %.2f, Specificity: %.2f\" % (sensitivity_train, specificity_train))"
   ]
  },
  {
   "cell_type": "code",
   "execution_count": 41,
   "metadata": {
    "scrolled": true
   },
   "outputs": [
    {
     "data": {
      "text/plain": [
       "RID        2.125878e+03\n",
       "Gender     1.465367e+00\n",
       "Educ       1.592942e+01\n",
       "Age        7.583987e+01\n",
       "APOE       8.691072e-02\n",
       "MMSE       2.593732e+01\n",
       "mri_001    9.150603e+02\n",
       "mri_002    4.616630e+03\n",
       "mri_003    1.782478e+03\n",
       "mri_004    2.463596e+00\n",
       "mri_005    1.513138e+03\n",
       "mri_006    1.390555e+03\n",
       "mri_007    4.939721e+02\n",
       "mri_008    1.684568e+03\n",
       "mri_009    1.501626e+03\n",
       "mri_010    3.123487e+02\n",
       "mri_011    1.090576e+03\n",
       "mri_012    3.016261e+03\n",
       "mri_013    1.093178e+03\n",
       "mri_014    1.651651e+03\n",
       "mri_015    2.367179e+03\n",
       "mri_016    2.365196e+04\n",
       "mri_017    7.369565e+03\n",
       "mri_018    1.739098e+03\n",
       "mri_019    1.226668e+03\n",
       "mri_020    4.439368e+03\n",
       "mri_021    1.964076e+03\n",
       "mri_022    8.302933e+02\n",
       "mri_023    1.636909e+03\n",
       "mri_024    5.697299e+02\n",
       "               ...     \n",
       "mri_104    2.937956e+03\n",
       "mri_105    2.424609e+00\n",
       "mri_106    1.440391e+04\n",
       "mri_107    4.635217e+03\n",
       "mri_108    1.453106e+03\n",
       "mri_109    1.011248e+03\n",
       "mri_110    2.248129e+03\n",
       "mri_111    8.199811e+02\n",
       "mri_112    3.077109e+03\n",
       "mri_113    2.187932e+03\n",
       "mri_114    6.808492e+02\n",
       "mri_115    3.262077e-01\n",
       "mri_116    1.201562e+02\n",
       "mri_117    3.386526e+02\n",
       "mri_118    1.880522e+02\n",
       "mri_119    1.399173e+01\n",
       "mri_120    1.655232e+01\n",
       "mri_121    3.365067e+03\n",
       "mri_122    1.290010e+03\n",
       "mri_123    1.186579e+02\n",
       "mri_124    1.529971e+06\n",
       "mri_125    1.945477e+03\n",
       "mri_126    7.287106e+02\n",
       "mri_127    3.420629e+02\n",
       "mri_128    3.405439e+02\n",
       "mri_129    3.141712e+02\n",
       "mri_130    8.619937e+02\n",
       "mri_131    1.597447e+03\n",
       "mri_132    1.607085e+01\n",
       "mri_133    2.118508e+03\n",
       "Length: 139, dtype: float64"
      ]
     },
     "execution_count": 41,
     "metadata": {},
     "output_type": "execute_result"
    }
   ],
   "source": [
    "shuffled_df.mean()"
   ]
  },
  {
   "cell_type": "code",
   "execution_count": 50,
   "metadata": {},
   "outputs": [
    {
     "data": {
      "image/png": "[encoded data removed]",
      "text/plain": [
       "<Figure size 432x288 with 2 Axes>"
      ]
     },
     "metadata": {
      "needs_background": "light"
     },
     "output_type": "display_data"
    },
    {
     "data": {
      "image/png": "[encoded data removed]",
      "text/plain": [
       "<Figure size 432x288 with 2 Axes>"
      ]
     },
     "metadata": {
      "needs_background": "light"
     },
     "output_type": "display_data"
    }
   ],
   "source": [
    "sns.heatmap(shuffled_df[features].cov())\n",
    "plt.show()\n",
    "sns.heatmap(mridf[features].cov())\n",
    "plt.show()"
   ]
  },
  {
   "cell_type": "code",
   "execution_count": null,
   "metadata": {},
   "outputs": [],
   "source": [
    "amyloiddf['DX_bin'] = np.where(amyloiddf[\"DX\"]==\"CN\", 0, 1)\n",
    "grid_out = adens.ttSplitWithGridSearch('svm', svc_param_grid, 4, \n",
    "                                              amyloiddf, features, 'DX_bin', 0.8, 0) "
   ]
  },
  {
   "cell_type": "code",
   "execution_count": 175,
   "metadata": {},
   "outputs": [],
   "source": [
    "import tensorflow as tf\n",
    "from tensorflow import keras\n",
    "\n",
    "shuffled_df = mridf.sample(frac=1, random_state=1)\n",
    "# features = [item for sublist in [['Gender','Educ','Age','APOE'], mri_vars] for item in sublist]\n",
    "features = mri_vars\n",
    "# shuffled_df[features] = (shuffled_df[features]-shuffled_df[features].mean())/(shuffled_df[features].std())\n",
    "data_X = shuffled_df[features].values.reshape(-1,len(features))\n",
    "data_Y = np.where(shuffled_df[\"DX\"] == \"CN\", 0, 1) # if CN: 0, if AD: 1\n",
    "\n",
    "# prepare training and test data\n",
    "train_frac = 0.8\n",
    "num_samples = np.shape(data_X)[0]\n",
    "num_samples_train = int(np.round(num_samples*train_frac))\n",
    "num_samples_vald = int(np.round(num_samples*validation_frac))\n",
    "\n",
    "training_X = data_X[:num_samples_train,:]\n",
    "training_Y = data_Y[:num_samples_train]\n",
    "testing_X = data_X[num_samples_train:,:]\n",
    "testing_Y = data_Y[num_samples_train:]"
   ]
  },
  {
   "cell_type": "code",
   "execution_count": 188,
   "metadata": {
    "scrolled": true
   },
   "outputs": [
    {
     "name": "stdout",
     "output_type": "stream",
     "text": [
      "Training CV number: 0\n",
      "Training CV number: 1\n",
      "Training CV number: 2\n",
      "Training CV number: 3\n",
      "Training CV number: 4\n",
      "Training CV number: 5\n",
      "Training CV number: 6\n",
      "Training CV number: 7\n"
     ]
    }
   ],
   "source": [
    "# specify the model\n",
    "dlmodel_def = keras.Sequential([\n",
    "    keras.layers.Dense(64, activation=tf.nn.relu),\n",
    "    keras.layers.Dense(1, activation=tf.nn.sigmoid)\n",
    "])\n",
    "\n",
    "# perform cross validation to choose number of epochs\n",
    "max_epochs = 100\n",
    "validation_fraction = 1/8 # show as a fraction of training data\n",
    "train_acc, val_acc, epoch_arr = trainDeepLearningModelCV(dlmodel_def, training_X, training_Y, \n",
    "                                                         validation_fraction, max_epochs)"
   ]
  },
  {
   "cell_type": "code",
   "execution_count": 189,
   "metadata": {},
   "outputs": [
    {
     "data": {
      "image/png": "[encoded data removed]",
      "text/plain": [
       "<Figure size 432x288 with 1 Axes>"
      ]
     },
     "metadata": {
      "needs_background": "light"
     },
     "output_type": "display_data"
    }
   ],
   "source": [
    "plt.plot(epoch_arr, np.mean(train_acc, axis=0), label='Training accuracy')\n",
    "plt.plot(epoch_arr, np.mean(val_acc, axis=0), label='Validation accuracy')\n",
    "plt.legend()\n",
    "plt.show()"
   ]
  },
  {
   "cell_type": "code",
   "execution_count": 191,
   "metadata": {
    "scrolled": true
   },
   "outputs": [
    {
     "name": "stdout",
     "output_type": "stream",
     "text": [
      "Epoch 1/40\n",
      "3038/3038 [==============================] - 2s 809us/step - loss: 0.4198 - acc: 0.8153\n",
      "Epoch 2/40\n",
      "3038/3038 [==============================] - 0s 58us/step - loss: 0.2882 - acc: 0.8947\n",
      "Epoch 3/40\n",
      "3038/3038 [==============================] - 0s 59us/step - loss: 0.2503 - acc: 0.9098\n",
      "Epoch 4/40\n",
      "3038/3038 [==============================] - 0s 60us/step - loss: 0.2262 - acc: 0.9207\n",
      "Epoch 5/40\n",
      "3038/3038 [==============================] - 0s 57us/step - loss: 0.2026 - acc: 0.9286\n",
      "Epoch 6/40\n",
      "3038/3038 [==============================] - 0s 55us/step - loss: 0.1888 - acc: 0.9305\n",
      "Epoch 7/40\n",
      "3038/3038 [==============================] - 0s 53us/step - loss: 0.1759 - acc: 0.9404\n",
      "Epoch 8/40\n",
      "3038/3038 [==============================] - 0s 57us/step - loss: 0.1626 - acc: 0.9444\n",
      "Epoch 9/40\n",
      "3038/3038 [==============================] - 0s 56us/step - loss: 0.1492 - acc: 0.9529\n",
      "Epoch 10/40\n",
      "3038/3038 [==============================] - 0s 57us/step - loss: 0.1443 - acc: 0.9503\n",
      "Epoch 11/40\n",
      "3038/3038 [==============================] - 0s 66us/step - loss: 0.1295 - acc: 0.9612\n",
      "Epoch 12/40\n",
      "3038/3038 [==============================] - 0s 64us/step - loss: 0.1258 - acc: 0.9595\n",
      "Epoch 13/40\n",
      "3038/3038 [==============================] - 0s 76us/step - loss: 0.1155 - acc: 0.9628\n",
      "Epoch 14/40\n",
      "3038/3038 [==============================] - 0s 55us/step - loss: 0.1088 - acc: 0.9664\n",
      "Epoch 15/40\n",
      "3038/3038 [==============================] - 0s 73us/step - loss: 0.0997 - acc: 0.9687\n",
      "Epoch 16/40\n",
      "3038/3038 [==============================] - 0s 69us/step - loss: 0.0959 - acc: 0.9714\n",
      "Epoch 17/40\n",
      "3038/3038 [==============================] - 0s 58us/step - loss: 0.0870 - acc: 0.9763\n",
      "Epoch 18/40\n",
      "3038/3038 [==============================] - 0s 77us/step - loss: 0.0804 - acc: 0.9773\n",
      "Epoch 19/40\n",
      "3038/3038 [==============================] - 0s 65us/step - loss: 0.0794 - acc: 0.9779\n",
      "Epoch 20/40\n",
      "3038/3038 [==============================] - 0s 74us/step - loss: 0.0738 - acc: 0.9779\n",
      "Epoch 21/40\n",
      "3038/3038 [==============================] - 0s 84us/step - loss: 0.0714 - acc: 0.9793\n",
      "Epoch 22/40\n",
      "3038/3038 [==============================] - 0s 63us/step - loss: 0.0620 - acc: 0.9855\n",
      "Epoch 23/40\n",
      "3038/3038 [==============================] - 0s 94us/step - loss: 0.0589 - acc: 0.9855\n",
      "Epoch 24/40\n",
      "3038/3038 [==============================] - 0s 70us/step - loss: 0.0535 - acc: 0.9882\n",
      "Epoch 25/40\n",
      "3038/3038 [==============================] - 0s 80us/step - loss: 0.0527 - acc: 0.9868\n",
      "Epoch 26/40\n",
      "3038/3038 [==============================] - 0s 79us/step - loss: 0.0469 - acc: 0.9911\n",
      "Epoch 27/40\n",
      "3038/3038 [==============================] - 0s 81us/step - loss: 0.0459 - acc: 0.9908\n",
      "Epoch 28/40\n",
      "3038/3038 [==============================] - 0s 61us/step - loss: 0.0438 - acc: 0.9901\n",
      "Epoch 29/40\n",
      "3038/3038 [==============================] - 0s 64us/step - loss: 0.0377 - acc: 0.9931\n",
      "Epoch 30/40\n",
      "3038/3038 [==============================] - 0s 56us/step - loss: 0.0373 - acc: 0.9934\n",
      "Epoch 31/40\n",
      "3038/3038 [==============================] - 0s 104us/step - loss: 0.0349 - acc: 0.9941\n",
      "Epoch 32/40\n",
      "3038/3038 [==============================] - 0s 90us/step - loss: 0.0334 - acc: 0.9941\n",
      "Epoch 33/40\n",
      "3038/3038 [==============================] - 0s 89us/step - loss: 0.0291 - acc: 0.9961\n",
      "Epoch 34/40\n",
      "3038/3038 [==============================] - 0s 61us/step - loss: 0.0276 - acc: 0.9967\n",
      "Epoch 35/40\n",
      "3038/3038 [==============================] - 0s 53us/step - loss: 0.0246 - acc: 0.9974\n",
      "Epoch 36/40\n",
      "3038/3038 [==============================] - 0s 57us/step - loss: 0.0229 - acc: 0.9974\n",
      "Epoch 37/40\n",
      "3038/3038 [==============================] - 0s 56us/step - loss: 0.0214 - acc: 0.9980\n",
      "Epoch 38/40\n",
      "3038/3038 [==============================] - 0s 57us/step - loss: 0.0211 - acc: 0.9980\n",
      "Epoch 39/40\n",
      "3038/3038 [==============================] - 0s 56us/step - loss: 0.0188 - acc: 0.9977\n",
      "Epoch 40/40\n",
      "3038/3038 [==============================] - 0s 58us/step - loss: 0.0186 - acc: 0.9977\n"
     ]
    }
   ],
   "source": [
    "dlmodel = dlmodel_def\n",
    "dlmodel.compile(optimizer=tf.train.AdamOptimizer(), \n",
    "              loss='binary_crossentropy',\n",
    "              metrics=['accuracy'])\n",
    "\n",
    "epochs_from_cv = 40 # pick this from the plot of training and validation performance\n",
    "train_mean_list = np.mean(training_X, axis=0)\n",
    "train_std_list = np.std(training_X, axis=0)\n",
    "dlmodel_history = dlmodel.fit((training_X - train_mean_list)/train_std_list, training_Y, epochs=epochs_from_cv, verbose=1)"
   ]
  },
  {
   "cell_type": "code",
   "execution_count": 193,
   "metadata": {},
   "outputs": [
    {
     "name": "stdout",
     "output_type": "stream",
     "text": [
      "759/759 [==============================] - 0s 29us/step\n",
      "Test accuracy is: 96.44%\n"
     ]
    }
   ],
   "source": [
    "print(\"Test accuracy is: %.2f%%\" % (100*dlmodel.evaluate((testing_X-train_mean_list)/train_std_list, testing_Y)[1]))"
   ]
  },
  {
   "cell_type": "code",
   "execution_count": 187,
   "metadata": {},
   "outputs": [],
   "source": [
    "def trainDeepLearningModelCV(model, data_X, data_Y, val_frac, train_epochs):\n",
    "    num_cv = int(np.round(1/val_frac))\n",
    "    val_perf = np.zeros((num_cv, train_epochs))\n",
    "    train_perf = np.zeros((num_cv, train_epochs))\n",
    "    \n",
    "    for cvn in range(0, num_cv):\n",
    "        print(\"Training CV number: %d\" % (cvn))\n",
    "        # split training and validation data\n",
    "        train_X_ns, val_X_ns, train_Y, val_Y = train_test_split(data_X, data_Y, \n",
    "                                                          train_size=1-val_frac, test_size=val_frac, shuffle=True)\n",
    "        # standardize validation and training data using training data\n",
    "        mean_list_train = np.mean(train_X_ns, axis=0)\n",
    "        std_list_train = np.std(train_X_ns, axis=0)\n",
    "        train_X = (train_X_ns - mean_list_train)/std_list_train\n",
    "        val_X = (val_X_ns - mean_list_train)/std_list_train\n",
    "#         pdb.set_trace()\n",
    "        # create model instance and compile it\n",
    "        temp_model = keras.Sequential.from_config(model.get_config())\n",
    "        temp_model.compile(optimizer=tf.train.AdamOptimizer(), \n",
    "              loss='binary_crossentropy',\n",
    "              metrics=['accuracy'])\n",
    "        # train model\n",
    "        temp_model.fit(train_X, train_Y, \n",
    "                       epochs=train_epochs, \n",
    "                       validation_data=(val_X, val_Y),\n",
    "                       verbose=0)\n",
    "        epoch_array = temp_model.history.epoch\n",
    "        val_perf[cvn,:] = temp_model.history.history['val_acc']\n",
    "        train_perf[cvn,:] = temp_model.history.history['acc']\n",
    "    \n",
    "    return train_perf, val_perf, epoch_array\n",
    "        "
   ]
  },
  {
   "cell_type": "code",
   "execution_count": 81,
   "metadata": {},
   "outputs": [
    {
     "data": {
      "text/plain": [
       "[94.82758620689656,\n",
       " 93.89920424403184,\n",
       " 94.29708222811671,\n",
       " 94.29708222811671,\n",
       " 94.9602122015915,\n",
       " 95.09283819628646,\n",
       " 93.89920424403184,\n",
       " 93.89920424403184,\n",
       " 94.56233421750663,\n",
       " 94.6949602122016]"
      ]
     },
     "execution_count": 81,
     "metadata": {},
     "output_type": "execute_result"
    }
   ],
   "source": [
    "[gridout['test_score']['accuracy'] for gridout in pickle.load(open('../Dataset/ProcessedFiles/mri_svm_cv.pckl','rb'))]"
   ]
  },
  {
   "cell_type": "code",
   "execution_count": 134,
   "metadata": {
    "scrolled": true
   },
   "outputs": [
    {
     "data": {
      "text/plain": [
       "40"
      ]
     },
     "execution_count": 134,
     "metadata": {},
     "output_type": "execute_result"
    }
   ],
   "source": [
    "len(dlmodel.history.epoch)"
   ]
  },
  {
   "cell_type": "code",
   "execution_count": 120,
   "metadata": {},
   "outputs": [],
   "source": [
    "dlmodel2 = keras.Sequential.from_config(dlmodel_def.get_config())"
   ]
  },
  {
   "cell_type": "code",
   "execution_count": 184,
   "metadata": {
    "scrolled": true
   },
   "outputs": [
    {
     "data": {
      "text/plain": [
       "array([9.15795425e+02, 4.61654361e+03, 1.78175395e+03, 2.46451020e+00,\n",
       "       1.51201399e+03, 1.38911833e+03, 4.93540791e+02, 1.68351186e+03,\n",
       "       1.50098009e+03, 3.11787100e+02, 1.09157979e+03, 3.01413726e+03,\n",
       "       1.09210133e+03, 1.65156254e+03, 2.36691162e+03, 2.36768900e+04,\n",
       "       7.37522400e+03, 1.74113381e+03, 1.22789952e+03, 4.44527321e+03,\n",
       "       1.96530386e+03, 8.28737565e+02, 1.63655300e+03, 5.69464842e+02,\n",
       "       3.08753622e+02, 5.54979559e+03, 2.40612796e+03, 1.71273149e+03,\n",
       "       4.69694531e+03, 3.88355429e+03, 1.62105734e+04, 2.47078117e+03,\n",
       "       2.41466787e+03, 5.58392363e+03, 2.24847947e+03, 2.62189059e+03,\n",
       "       9.36585303e+03, 3.11005949e+03, 3.54855896e+03, 7.61560484e+03,\n",
       "       2.42443372e+03, 2.23459793e+03, 9.12451399e+03, 3.87662266e+03,\n",
       "       1.89882732e+03, 6.54912969e+03, 2.21883574e+03, 1.71612679e+03,\n",
       "       1.40181753e+04, 3.82677778e+03, 1.83451076e+03, 6.25050013e+02,\n",
       "       2.10709964e+03, 1.95715179e+03, 2.06478053e+03, 4.60535155e+03,\n",
       "       1.48925703e+03, 1.26501668e+03, 2.88926745e+03, 2.09763082e+03,\n",
       "       7.52035760e+02, 3.95320192e+02, 1.75338199e+03, 1.10333344e+03,\n",
       "       2.79240526e+02, 2.38770324e+03, 1.51540010e+03, 2.28663370e+02,\n",
       "       1.89645419e+03, 2.16797169e+03, 6.36282918e+02, 2.09998266e+03,\n",
       "       1.10116331e+04, 1.72855110e+04, 5.21380234e+03, 1.95080546e+03,\n",
       "       1.01883984e+03, 4.46128659e+03, 2.36650449e+03, 5.66502653e+02,\n",
       "       1.52987816e+03, 7.35200998e+02, 2.82914776e+02, 5.56277478e+03,\n",
       "       4.05084557e+03, 2.95608988e+03, 4.72991827e+03, 1.79405229e+04,\n",
       "       1.63680051e+03, 2.91307620e+03, 7.16801350e+03, 2.87825395e+03,\n",
       "       2.50509727e+00, 1.06219329e+04, 4.01953259e+03, 2.38137821e+00,\n",
       "       1.02000760e+04, 3.73679970e+03, 2.37273173e+00, 1.03526792e+04,\n",
       "       4.76907390e+03, 1.99127633e+00, 7.90792248e+03, 2.93753259e+03,\n",
       "       2.42587080e+00, 1.44025137e+04, 4.63906715e+03, 1.45367231e+03,\n",
       "       1.00937434e+03, 2.24661011e+03, 8.19441360e+02, 3.08024829e+03,\n",
       "       2.19139483e+03, 6.80705398e+02, 3.29235352e-01, 1.20451436e+02,\n",
       "       3.39608012e+02, 1.88499232e+02, 1.39333831e+01, 1.66103157e+01,\n",
       "       3.35822417e+03, 1.28870930e+03, 1.18871865e+02, 1.52995235e+06,\n",
       "       1.94765932e+03, 7.29437130e+02, 3.42159315e+02, 3.40787360e+02,\n",
       "       3.14719882e+02, 8.64461817e+02, 1.59399803e+03, 1.58206057e+01,\n",
       "       2.12512014e+03])"
      ]
     },
     "execution_count": 184,
     "metadata": {},
     "output_type": "execute_result"
    }
   ],
   "source": [
    "np.mean(training_X, axis=0)"
   ]
  },
  {
   "cell_type": "code",
   "execution_count": 174,
   "metadata": {},
   "outputs": [
    {
     "data": {
      "text/plain": [
       "array([0.97387561, 0.99305795, 0.99436203, 0.97741463, 1.01531963,\n",
       "       1.05354033, 1.04984089, 1.04106934, 1.02323404, 1.10946739,\n",
       "       0.98804712, 1.02069577, 1.01806288, 1.00663498, 1.02708954,\n",
       "       1.01514272, 1.01933476, 0.97568242, 0.96384405, 0.99114364,\n",
       "       0.96109927, 1.03266594, 0.99027399, 0.95966126, 0.98259232,\n",
       "       0.99612448, 1.03520466, 1.00787719, 1.00650149, 0.99619941,\n",
       "       1.00447023, 0.98103941, 1.04078523, 1.01268177, 1.0081796 ,\n",
       "       0.98663377, 1.02945999, 1.01046258, 1.00013398, 0.99944014,\n",
       "       0.99822547, 0.99187365, 1.02434358, 1.00422317, 0.99260317,\n",
       "       1.017912  , 0.9987863 , 0.99274952, 1.02582515, 1.01045555,\n",
       "       0.98871247, 1.00658492, 1.00998201, 0.99542072, 1.00053063,\n",
       "       1.03319429, 1.04318196, 1.00613553, 1.00639471, 1.00891163,\n",
       "       1.04729688, 1.00175722, 1.01481275, 1.03411475, 1.02212407,\n",
       "       1.00534917, 0.98914459, 1.00677608, 1.00360374, 0.96746057,\n",
       "       0.98073618, 0.98030583, 0.99819306, 0.99414644, 0.99437759,\n",
       "       1.03655953, 0.97461017, 1.00894971, 1.00643268, 0.99737531,\n",
       "       0.95966982, 0.99818104, 1.01067438, 0.99441673, 0.99864672,\n",
       "       1.00291804, 0.99465657, 1.00407665, 0.99627688, 1.03586116,\n",
       "       1.02181662, 1.02634468, 0.99873646, 1.00426893, 0.99282779,\n",
       "       1.00503536, 1.02202271, 1.01839869, 1.00579022, 1.006214  ,\n",
       "       1.01302037, 0.98676695, 0.99053283, 0.98889322, 0.99129915,\n",
       "       1.00937552, 1.02061094, 0.98415786, 0.97693058, 0.99950629,\n",
       "       0.99574264, 0.98357882, 0.99808604, 1.00501369, 0.99539928,\n",
       "       0.99349034, 0.99162944, 0.99369755, 1.02609558, 0.9955205 ,\n",
       "       1.00894779, 1.0040957 , 0.99673833, 1.02404162, 1.02669645,\n",
       "       1.02028254, 1.0106454 , 1.00732199, 0.96127336, 1.00972215,\n",
       "       1.09014367, 1.03650049, 1.01720676])"
      ]
     },
     "execution_count": 174,
     "metadata": {},
     "output_type": "execute_result"
    }
   ],
   "source": [
    "np.std(testing_X, axis=0)"
   ]
  },
  {
   "cell_type": "code",
   "execution_count": 68,
   "metadata": {},
   "outputs": [
    {
     "data": {
      "text/plain": [
       "759"
      ]
     },
     "execution_count": 68,
     "metadata": {},
     "output_type": "execute_result"
    }
   ],
   "source": [
    "len(testing_Y)"
   ]
  },
  {
   "cell_type": "code",
   "execution_count": 102,
   "metadata": {},
   "outputs": [
    {
     "name": "stdout",
     "output_type": "stream",
     "text": [
      "Gender        1.000044\n",
      "Age           0.947217\n",
      "Educ          0.969644\n",
      "APOE          1.250293\n",
      "amyloid_01    0.947716\n",
      "amyloid_02    0.900736\n",
      "amyloid_03    0.972888\n",
      "amyloid_04    0.986007\n",
      "amyloid_05    1.079427\n",
      "amyloid_06    1.004542\n",
      "dtype: float64\n",
      "Gender        0.499898\n",
      "Age           7.204899\n",
      "Educ          2.659972\n",
      "APOE          0.247146\n",
      "amyloid_01    0.314005\n",
      "amyloid_02    0.324637\n",
      "amyloid_03    0.312845\n",
      "amyloid_04    0.276639\n",
      "amyloid_05    0.148476\n",
      "amyloid_06    0.497561\n",
      "dtype: float64\n"
     ]
    }
   ],
   "source": [
    "mean_list = np.mean(train_X, axis=0)\n",
    "std_list = np.std(train_X, axis=0)\n",
    "\n",
    "print(np.std((test_X-mean_list)/std_list))\n",
    "print(std_list)"
   ]
  }
 ],
 "metadata": {
  "kernelspec": {
   "display_name": "Python 3",
   "language": "python",
   "name": "python3"
  },
  "language_info": {
   "codemirror_mode": {
    "name": "ipython",
    "version": 3
   },
   "file_extension": ".py",
   "mimetype": "text/x-python",
   "name": "python",
   "nbconvert_exporter": "python",
   "pygments_lexer": "ipython3",
   "version": "3.6.6"
  }
 },
 "nbformat": 4,
 "nbformat_minor": 2
}
