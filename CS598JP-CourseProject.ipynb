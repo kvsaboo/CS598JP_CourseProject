{
 "cells": [
  {
   "cell_type": "code",
   "execution_count": 1,
   "metadata": {},
   "outputs": [],
   "source": [
    "import numpy as np\n",
    "import pandas as pd\n",
    "import seaborn as sns\n",
    "import matplotlib.pyplot as plt\n",
    "import scipy.io\n",
    "from sklearn.model_selection import train_test_split\n",
    "from sklearn.linear_model import LogisticRegressionCV\n",
    "from sklearn.svm import SVC\n",
    "from sklearn.ensemble import RandomForestClassifier\n",
    "from sklearn.model_selection import GridSearchCV\n",
    "from sklearn.metrics import f1_score\n",
    "from sklearn.metrics import confusion_matrix\n",
    "\n",
    "import pickle\n"
   ]
  },
  {
   "cell_type": "code",
   "execution_count": 5,
   "metadata": {},
   "outputs": [],
   "source": [
    "adnifulldf = pd.read_csv(\"../Dataset/ADNI/adnitable.csv\")"
   ]
  },
  {
   "cell_type": "code",
   "execution_count": 8,
   "metadata": {},
   "outputs": [],
   "source": [
    "# adnifulldf.Gender = adnifulldf.Gender.apply(lambda x: 'M' if x==1 else 'F')\n",
    "adnifulldf = adnifulldf.fillna(-1)\n",
    "adnifulldf.DX = adnifulldf.DX.apply(lambda x: 'CN' if x==1 else ('MCI' if x==2 else ('AD' if x==3 else -1)))"
   ]
  },
  {
   "cell_type": "code",
   "execution_count": 9,
   "metadata": {},
   "outputs": [
    {
     "data": {
      "text/html": [
       "<div>\n",
       "<style scoped>\n",
       "    .dataframe tbody tr th:only-of-type {\n",
       "        vertical-align: middle;\n",
       "    }\n",
       "\n",
       "    .dataframe tbody tr th {\n",
       "        vertical-align: top;\n",
       "    }\n",
       "\n",
       "    .dataframe thead th {\n",
       "        text-align: right;\n",
       "    }\n",
       "</style>\n",
       "<table border=\"1\" class=\"dataframe\">\n",
       "  <thead>\n",
       "    <tr style=\"text-align: right;\">\n",
       "      <th></th>\n",
       "      <th>RID</th>\n",
       "      <th>Gender</th>\n",
       "      <th>Educ</th>\n",
       "      <th>Age</th>\n",
       "      <th>APOE</th>\n",
       "      <th>MMSE</th>\n",
       "      <th>DX</th>\n",
       "      <th>mri_001</th>\n",
       "      <th>mri_002</th>\n",
       "      <th>mri_003</th>\n",
       "      <th>...</th>\n",
       "      <th>fdg_05</th>\n",
       "      <th>amyloid_01</th>\n",
       "      <th>amyloid_02</th>\n",
       "      <th>amyloid_03</th>\n",
       "      <th>amyloid_04</th>\n",
       "      <th>amyloid_05</th>\n",
       "      <th>amyloid_06</th>\n",
       "      <th>csf_01</th>\n",
       "      <th>csf_02</th>\n",
       "      <th>csf_03</th>\n",
       "    </tr>\n",
       "  </thead>\n",
       "  <tbody>\n",
       "    <tr>\n",
       "      <th>0</th>\n",
       "      <td>1</td>\n",
       "      <td>2</td>\n",
       "      <td>18.0</td>\n",
       "      <td>61.00</td>\n",
       "      <td>-1</td>\n",
       "      <td>-1.0</td>\n",
       "      <td>-1</td>\n",
       "      <td>-1.0</td>\n",
       "      <td>-1.0</td>\n",
       "      <td>-1.0</td>\n",
       "      <td>...</td>\n",
       "      <td>-1.0</td>\n",
       "      <td>-1.0</td>\n",
       "      <td>-1.0</td>\n",
       "      <td>-1.0</td>\n",
       "      <td>-1.0</td>\n",
       "      <td>-1.0</td>\n",
       "      <td>-1</td>\n",
       "      <td>-1.0</td>\n",
       "      <td>-1.0</td>\n",
       "      <td>-1.0</td>\n",
       "    </tr>\n",
       "    <tr>\n",
       "      <th>1</th>\n",
       "      <td>1</td>\n",
       "      <td>2</td>\n",
       "      <td>18.0</td>\n",
       "      <td>61.25</td>\n",
       "      <td>-1</td>\n",
       "      <td>-1.0</td>\n",
       "      <td>-1</td>\n",
       "      <td>-1.0</td>\n",
       "      <td>-1.0</td>\n",
       "      <td>-1.0</td>\n",
       "      <td>...</td>\n",
       "      <td>-1.0</td>\n",
       "      <td>-1.0</td>\n",
       "      <td>-1.0</td>\n",
       "      <td>-1.0</td>\n",
       "      <td>-1.0</td>\n",
       "      <td>-1.0</td>\n",
       "      <td>-1</td>\n",
       "      <td>-1.0</td>\n",
       "      <td>-1.0</td>\n",
       "      <td>-1.0</td>\n",
       "    </tr>\n",
       "    <tr>\n",
       "      <th>2</th>\n",
       "      <td>1</td>\n",
       "      <td>2</td>\n",
       "      <td>18.0</td>\n",
       "      <td>61.50</td>\n",
       "      <td>-1</td>\n",
       "      <td>-1.0</td>\n",
       "      <td>-1</td>\n",
       "      <td>-1.0</td>\n",
       "      <td>-1.0</td>\n",
       "      <td>-1.0</td>\n",
       "      <td>...</td>\n",
       "      <td>-1.0</td>\n",
       "      <td>-1.0</td>\n",
       "      <td>-1.0</td>\n",
       "      <td>-1.0</td>\n",
       "      <td>-1.0</td>\n",
       "      <td>-1.0</td>\n",
       "      <td>-1</td>\n",
       "      <td>-1.0</td>\n",
       "      <td>-1.0</td>\n",
       "      <td>-1.0</td>\n",
       "    </tr>\n",
       "    <tr>\n",
       "      <th>3</th>\n",
       "      <td>1</td>\n",
       "      <td>2</td>\n",
       "      <td>18.0</td>\n",
       "      <td>62.00</td>\n",
       "      <td>-1</td>\n",
       "      <td>-1.0</td>\n",
       "      <td>-1</td>\n",
       "      <td>-1.0</td>\n",
       "      <td>-1.0</td>\n",
       "      <td>-1.0</td>\n",
       "      <td>...</td>\n",
       "      <td>-1.0</td>\n",
       "      <td>-1.0</td>\n",
       "      <td>-1.0</td>\n",
       "      <td>-1.0</td>\n",
       "      <td>-1.0</td>\n",
       "      <td>-1.0</td>\n",
       "      <td>-1</td>\n",
       "      <td>-1.0</td>\n",
       "      <td>-1.0</td>\n",
       "      <td>-1.0</td>\n",
       "    </tr>\n",
       "    <tr>\n",
       "      <th>4</th>\n",
       "      <td>1</td>\n",
       "      <td>2</td>\n",
       "      <td>18.0</td>\n",
       "      <td>62.50</td>\n",
       "      <td>-1</td>\n",
       "      <td>-1.0</td>\n",
       "      <td>-1</td>\n",
       "      <td>-1.0</td>\n",
       "      <td>-1.0</td>\n",
       "      <td>-1.0</td>\n",
       "      <td>...</td>\n",
       "      <td>-1.0</td>\n",
       "      <td>-1.0</td>\n",
       "      <td>-1.0</td>\n",
       "      <td>-1.0</td>\n",
       "      <td>-1.0</td>\n",
       "      <td>-1.0</td>\n",
       "      <td>-1</td>\n",
       "      <td>-1.0</td>\n",
       "      <td>-1.0</td>\n",
       "      <td>-1.0</td>\n",
       "    </tr>\n",
       "  </tbody>\n",
       "</table>\n",
       "<p>5 rows × 160 columns</p>\n",
       "</div>"
      ],
      "text/plain": [
       "   RID  Gender  Educ    Age  APOE  MMSE  DX  mri_001  mri_002  mri_003  \\\n",
       "0    1       2  18.0  61.00    -1  -1.0  -1     -1.0     -1.0     -1.0   \n",
       "1    1       2  18.0  61.25    -1  -1.0  -1     -1.0     -1.0     -1.0   \n",
       "2    1       2  18.0  61.50    -1  -1.0  -1     -1.0     -1.0     -1.0   \n",
       "3    1       2  18.0  62.00    -1  -1.0  -1     -1.0     -1.0     -1.0   \n",
       "4    1       2  18.0  62.50    -1  -1.0  -1     -1.0     -1.0     -1.0   \n",
       "\n",
       "    ...    fdg_05  amyloid_01  amyloid_02  amyloid_03  amyloid_04  amyloid_05  \\\n",
       "0   ...      -1.0        -1.0        -1.0        -1.0        -1.0        -1.0   \n",
       "1   ...      -1.0        -1.0        -1.0        -1.0        -1.0        -1.0   \n",
       "2   ...      -1.0        -1.0        -1.0        -1.0        -1.0        -1.0   \n",
       "3   ...      -1.0        -1.0        -1.0        -1.0        -1.0        -1.0   \n",
       "4   ...      -1.0        -1.0        -1.0        -1.0        -1.0        -1.0   \n",
       "\n",
       "   amyloid_06  csf_01  csf_02  csf_03  \n",
       "0          -1    -1.0    -1.0    -1.0  \n",
       "1          -1    -1.0    -1.0    -1.0  \n",
       "2          -1    -1.0    -1.0    -1.0  \n",
       "3          -1    -1.0    -1.0    -1.0  \n",
       "4          -1    -1.0    -1.0    -1.0  \n",
       "\n",
       "[5 rows x 160 columns]"
      ]
     },
     "execution_count": 9,
     "metadata": {},
     "output_type": "execute_result"
    }
   ],
   "source": [
    "adnifulldf.head()"
   ]
  },
  {
   "cell_type": "code",
   "execution_count": 150,
   "metadata": {},
   "outputs": [],
   "source": [
    "mri_vars = [fieldname for fieldname in adnifulldf.columns if 'mri_' in fieldname]\n",
    "amyloid_vars = [fieldname for fieldname in adnifulldf.columns if 'amyloid_' in fieldname]\n",
    "csf_vars = [fieldname for fieldname in adnifulldf.columns if 'csf_' in fieldname]\n",
    "fdg_vars = [fieldname for fieldname in adnifulldf.columns if 'fdg_' in fieldname]\n",
    "pet_vars = [fieldname for fieldname in adnifulldf.columns if 'pet_' in fieldname]\n",
    "factors = ['RID','Gender','Educ','Age','APOE','MMSE','DX']\n",
    "dx_stages = ['CN', 'AD']\n",
    "\n",
    "mridf = adnifulldf.loc[(adnifulldf[\"DX\"].isin(dx_stages)) & (adnifulldf[\"Educ\"] != -1) & (adnifulldf[\"mri_001\"] != -1), factors+mri_vars]\n",
    "amyloiddf = adnifulldf.loc[(adnifulldf[\"DX\"].isin(dx_stages)) & (adnifulldf[\"Educ\"] != -1) & (adnifulldf[\"amyloid_01\"] != -1), factors+amyloid_vars]\n",
    "csfdf = adnifulldf.loc[(adnifulldf[\"DX\"].isin(dx_stages)) & (adnifulldf[\"Educ\"] != -1) & (adnifulldf[\"csf_01\"] != -1), factors+csf_vars]\n",
    "fdgdf = adnifulldf.loc[(adnifulldf[\"DX\"].isin(dx_stages)) & (adnifulldf[\"Educ\"] != -1) & (adnifulldf[\"fdg_01\"] != -1), factors+fdg_vars]\n",
    "petdf = adnifulldf.loc[(adnifulldf[\"DX\"].isin(dx_stages)) & (adnifulldf[\"Educ\"] != -1) & (adnifulldf[\"pet_01\"] != -1), factors+pet_vars]"
   ]
  },
  {
   "cell_type": "code",
   "execution_count": 11,
   "metadata": {},
   "outputs": [
    {
     "data": {
      "text/plain": [
       "CN    594\n",
       "AD    530\n",
       "Name: DX, dtype: int64"
      ]
     },
     "execution_count": 11,
     "metadata": {},
     "output_type": "execute_result"
    }
   ],
   "source": [
    "petdf.DX.value_counts()"
   ]
  },
  {
   "cell_type": "code",
   "execution_count": 12,
   "metadata": {},
   "outputs": [
    {
     "name": "stderr",
     "output_type": "stream",
     "text": [
      "/home/ksaboo/anaconda3/lib/python3.6/site-packages/scipy/stats/stats.py:1713: FutureWarning: Using a non-tuple sequence for multidimensional indexing is deprecated; use `arr[tuple(seq)]` instead of `arr[seq]`. In the future this will be interpreted as an array index, `arr[np.array(seq)]`, which will result either in an error or a different result.\n",
      "  return np.add.reduce(sorted[indexer] * weights, axis=axis) / sumval\n"
     ]
    },
    {
     "data": {
      "image/png": "[encoded data removed]",
      "text/plain": [
       "<Figure size 590.625x540 with 12 Axes>"
      ]
     },
     "metadata": {
      "needs_background": "light"
     },
     "output_type": "display_data"
    }
   ],
   "source": [
    "sns.pairplot(csfdf, hue=\"DX\", vars=csf_vars, diag_kind='kde', diag_kws=dict(shade=True))\n",
    "plt.show()"
   ]
  },
  {
   "cell_type": "code",
   "execution_count": 13,
   "metadata": {},
   "outputs": [
    {
     "name": "stdout",
     "output_type": "stream",
     "text": [
      "3797 1116 1170 1789 1124\n"
     ]
    }
   ],
   "source": [
    "print(len(mridf), len(amyloiddf), len(csfdf), len(fdgdf), len(petdf))"
   ]
  },
  {
   "cell_type": "code",
   "execution_count": 151,
   "metadata": {},
   "outputs": [
    {
     "name": "stdout",
     "output_type": "stream",
     "text": [
      "3797 1116 1170 1789 1124\n"
     ]
    }
   ],
   "source": [
    "print(len(mridf), len(amyloiddf), len(csfdf), len(fdgdf), len(petdf))"
   ]
  },
  {
   "cell_type": "markdown",
   "metadata": {},
   "source": [
    "# Different classifiers for each data modality"
   ]
  },
  {
   "cell_type": "markdown",
   "metadata": {},
   "source": [
    "## Amyloid"
   ]
  },
  {
   "cell_type": "code",
   "execution_count": 19,
   "metadata": {},
   "outputs": [
    {
     "name": "stdout",
     "output_type": "stream",
     "text": [
      "Test: Sensitivity = 72.46, Specificity: 81.17\n",
      "Train: Sensitivity = 78.67, Specificity: 89.95\n"
     ]
    }
   ],
   "source": [
    "# prepare data with appropriate features and randomization\n",
    "shuffled_df = amyloiddf.sample(frac=1, random_state=1)\n",
    "features = [item for sublist in [['Gender','Educ','Age'], amyloid_vars] for item in sublist]\n",
    "data_X = shuffled_df[features].values.reshape(-1,len(features))\n",
    "data_Y = np.where(shuffled_df[\"DX\"] == \"CN\", 0, 1) # if CN: 0, if AD: 1\n",
    "\n",
    "# prepare training and test data\n",
    "train_frac = 0.8\n",
    "num_samples = np.shape(data_X)[0]\n",
    "num_samples_train = int(np.round(num_samples*train_frac))\n",
    "\n",
    "training_X = data_X[:num_samples_train,:]\n",
    "training_Y = data_Y[:num_samples_train]\n",
    "testing_X = data_X[num_samples_train:,:]\n",
    "testing_Y = data_Y[num_samples_train:]\n",
    "\n",
    "from sklearn.linear_model import LogisticRegressionCV\n",
    "# from sklearn.metrics import roc_auc_score\n",
    "from sklearn.metrics import confusion_matrix\n",
    "from sklearn.svm import SVC\n",
    "from sklearn.ensemble import RandomForestClassifier\n",
    "\n",
    "# select model\n",
    "# mlmodel = LogisticRegressionCV(Cs=20, cv=4)\n",
    "# mlmodel = SVC(C=1e1, kernel='linear')\n",
    "mlmodel = RandomForestClassifier(n_estimators=10, max_depth=4)\n",
    "\n",
    "# train model\n",
    "mlmodel.fit(training_X, training_Y)\n",
    "\n",
    "# test model - test data\n",
    "predicted_Y = mlmodel.predict(testing_X)\n",
    "confmat_test = confusion_matrix(testing_Y,predicted_Y)\n",
    "sensitivity_test = 100*confmat_test[1,1]/(confmat_test[1,0]+confmat_test[1,1]) # TP/(FN+TP)\n",
    "specificity_test = 100*confmat_test[0,0]/(confmat_test[0,0]+confmat_test[0,1]) # TN/(TN+FP)\n",
    "# test model - training data\n",
    "confmat_train = confusion_matrix(training_Y,mlmodel.predict(training_X))\n",
    "sensitivity_train = 100*confmat_train[1,1]/(confmat_train[1,0]+confmat_train[1,1]) # TP/(FN+TP)\n",
    "specificity_train = 100*confmat_train[0,0]/(confmat_train[0,0]+confmat_train[0,1]) # TN/(TN+FP)\n",
    "\n",
    "print(\"Test: Sensitivity = %.2f, Specificity: %.2f\" % (sensitivity_test, specificity_test))\n",
    "print(\"Train: Sensitivity = %.2f, Specificity: %.2f\" % (sensitivity_train, specificity_train))"
   ]
  },
  {
   "cell_type": "markdown",
   "metadata": {},
   "source": [
    "## FDG"
   ]
  },
  {
   "cell_type": "code",
   "execution_count": 140,
   "metadata": {},
   "outputs": [
    {
     "name": "stdout",
     "output_type": "stream",
     "text": [
      "Test: Sensitivity = 75.76, Specificity: 87.56\n",
      "Train: Sensitivity = 85.59, Specificity: 89.57\n"
     ]
    }
   ],
   "source": [
    "## prepare data with appropriate features and randomization\n",
    "shuffled_df = fdgdf.sample(frac=1, random_state=1)\n",
    "features = [item for sublist in [['Gender','Educ','Age'], fdg_vars] for item in sublist]\n",
    "data_X = shuffled_df[features].values.reshape(-1,len(features))\n",
    "data_Y = np.where(shuffled_df[\"DX\"] == \"CN\", 0, 1) # if CN: 0, if AD: 1\n",
    "\n",
    "# prepare training and test data\n",
    "train_frac = 0.8\n",
    "num_samples = np.shape(data_X)[0]\n",
    "num_samples_train = int(np.round(num_samples*train_frac))\n",
    "\n",
    "training_X = data_X[:num_samples_train,:]\n",
    "training_Y = data_Y[:num_samples_train]\n",
    "testing_X = data_X[num_samples_train:,:]\n",
    "testing_Y = data_Y[num_samples_train:]\n",
    "\n",
    "from sklearn.linear_model import LogisticRegressionCV\n",
    "# from sklearn.metrics import roc_auc_score\n",
    "from sklearn.metrics import confusion_matrix\n",
    "from sklearn.svm import SVC\n",
    "from sklearn.ensemble import RandomForestClassifier\n",
    "\n",
    "# select model\n",
    "# mlmodel = LogisticRegressionCV(Cs=20, cv=4)\n",
    "# mlmodel = SVC(C=1e0, kernel='linear')\n",
    "mlmodel = RandomForestClassifier(n_estimators=10, max_depth=4)\n",
    "\n",
    "# train model\n",
    "mlmodel.fit(training_X, training_Y)\n",
    "\n",
    "# test model - test data\n",
    "predicted_Y = mlmodel.predict(testing_X)\n",
    "confmat_test = confusion_matrix(testing_Y,predicted_Y)\n",
    "sensitivity_test = 100*confmat_test[1,1]/(confmat_test[1,0]+confmat_test[1,1]) # TP/(FN+TP)\n",
    "specificity_test = 100*confmat_test[0,0]/(confmat_test[0,0]+confmat_test[0,1]) # TN/(TN+FP)\n",
    "# test model - training data\n",
    "confmat_train = confusion_matrix(training_Y,mlmodel.predict(training_X))\n",
    "sensitivity_train = 100*confmat_train[1,1]/(confmat_train[1,0]+confmat_train[1,1]) # TP/(FN+TP)\n",
    "specificity_train = 100*confmat_train[0,0]/(confmat_train[0,0]+confmat_train[0,1]) # TN/(TN+FP)\n",
    "\n",
    "print(\"Test: Sensitivity = %.2f, Specificity: %.2f\" % (sensitivity_test, specificity_test))\n",
    "print(\"Train: Sensitivity = %.2f, Specificity: %.2f\" % (sensitivity_train, specificity_train))"
   ]
  },
  {
   "cell_type": "markdown",
   "metadata": {},
   "source": [
    "## CSF"
   ]
  },
  {
   "cell_type": "code",
   "execution_count": 154,
   "metadata": {},
   "outputs": [
    {
     "name": "stdout",
     "output_type": "stream",
     "text": [
      "Test: Sensitivity = 84.00, Specificity: 81.34\n",
      "Train: Sensitivity = 85.50, Specificity: 83.61\n"
     ]
    }
   ],
   "source": [
    "## prepare data with appropriate features and randomization\n",
    "shuffled_df = csfdf.sample(frac=1, random_state=1)\n",
    "features = [item for sublist in [['Gender','Educ','Age'], csf_vars] for item in sublist]\n",
    "data_X = shuffled_df[features].values.reshape(-1,len(features))\n",
    "data_Y = np.where(shuffled_df[\"DX\"] == \"CN\", 0, 1) # if CN: 0, if AD: 1\n",
    "\n",
    "# prepare training and test data\n",
    "train_frac = 0.8\n",
    "num_samples = np.shape(data_X)[0]\n",
    "num_samples_train = int(np.round(num_samples*train_frac))\n",
    "\n",
    "training_X = data_X[:num_samples_train,:]\n",
    "training_Y = data_Y[:num_samples_train]\n",
    "testing_X = data_X[num_samples_train:,:]\n",
    "testing_Y = data_Y[num_samples_train:]\n",
    "\n",
    "from sklearn.linear_model import LogisticRegressionCV\n",
    "# from sklearn.metrics import roc_auc_score\n",
    "from sklearn.metrics import confusion_matrix\n",
    "from sklearn.svm import SVC\n",
    "from sklearn.ensemble import RandomForestClassifier\n",
    "\n",
    "# select model\n",
    "# mlmodel = LogisticRegressionCV(Cs=20, cv=5)\n",
    "# mlmodel = SVC(C=1e1, kernel='linear')\n",
    "mlmodel = RandomForestClassifier(n_estimators=10, max_depth=5)\n",
    "\n",
    "# train model\n",
    "mlmodel.fit(training_X, training_Y)\n",
    "\n",
    "# test model - test data\n",
    "predicted_Y = mlmodel.predict(testing_X)\n",
    "confmat_test = confusion_matrix(testing_Y,predicted_Y)\n",
    "sensitivity_test = 100*confmat_test[1,1]/(confmat_test[1,0]+confmat_test[1,1]) # TP/(FN+TP)\n",
    "specificity_test = 100*confmat_test[0,0]/(confmat_test[0,0]+confmat_test[0,1]) # TN/(TN+FP)\n",
    "# test model - training data\n",
    "confmat_train = confusion_matrix(training_Y,mlmodel.predict(training_X))\n",
    "sensitivity_train = 100*confmat_train[1,1]/(confmat_train[1,0]+confmat_train[1,1]) # TP/(FN+TP)\n",
    "specificity_train = 100*confmat_train[0,0]/(confmat_train[0,0]+confmat_train[0,1]) # TN/(TN+FP)\n",
    "\n",
    "print(\"Test: Sensitivity = %.2f, Specificity: %.2f\" % (sensitivity_test, specificity_test))\n",
    "print(\"Train: Sensitivity = %.2f, Specificity: %.2f\" % (sensitivity_train, specificity_train))"
   ]
  },
  {
   "cell_type": "markdown",
   "metadata": {},
   "source": [
    "## PET"
   ]
  },
  {
   "cell_type": "code",
   "execution_count": 181,
   "metadata": {},
   "outputs": [
    {
     "name": "stdout",
     "output_type": "stream",
     "text": [
      "Test: Sensitivity = 50.52, Specificity: 82.81\n",
      "Train: Sensitivity = 58.89, Specificity: 84.98\n"
     ]
    }
   ],
   "source": [
    "## prepare data with appropriate features and randomization\n",
    "shuffled_df = petdf.sample(frac=1, random_state=1)\n",
    "features = [item for sublist in [['Gender','Educ','Age'], pet_vars] for item in sublist]\n",
    "data_X = shuffled_df[features].values.reshape(-1,len(features))\n",
    "data_Y = np.where(shuffled_df[\"DX\"] == \"CN\", 0, 1) # if CN: 0, if AD: 1\n",
    "\n",
    "# prepare training and test data\n",
    "train_frac = 0.8\n",
    "num_samples = np.shape(data_X)[0]\n",
    "num_samples_train = int(np.round(num_samples*train_frac))\n",
    "\n",
    "training_X = data_X[:num_samples_train,:]\n",
    "training_Y = data_Y[:num_samples_train]\n",
    "testing_X = data_X[num_samples_train:,:]\n",
    "testing_Y = data_Y[num_samples_train:]\n",
    "\n",
    "from sklearn.linear_model import LogisticRegressionCV\n",
    "# from sklearn.metrics import roc_auc_score\n",
    "from sklearn.metrics import confusion_matrix\n",
    "from sklearn.svm import SVC\n",
    "from sklearn.ensemble import RandomForestClassifier\n",
    "\n",
    "# select model\n",
    "# mlmodel = LogisticRegressionCV(Cs=20, cv=5)\n",
    "# mlmodel = SVC(C=1e-1, kernel='linear')\n",
    "mlmodel = RandomForestClassifier(n_estimators=10, max_depth=5)\n",
    "\n",
    "# train model\n",
    "mlmodel.fit(training_X, training_Y)\n",
    "\n",
    "# test model - test data\n",
    "predicted_Y = mlmodel.predict(testing_X)\n",
    "confmat_test = confusion_matrix(testing_Y,predicted_Y)\n",
    "sensitivity_test = 100*confmat_test[1,1]/(confmat_test[1,0]+confmat_test[1,1]) # TP/(FN+TP)\n",
    "specificity_test = 100*confmat_test[0,0]/(confmat_test[0,0]+confmat_test[0,1]) # TN/(TN+FP)\n",
    "# test model - training data\n",
    "confmat_train = confusion_matrix(training_Y,mlmodel.predict(training_X))\n",
    "sensitivity_train = 100*confmat_train[1,1]/(confmat_train[1,0]+confmat_train[1,1]) # TP/(FN+TP)\n",
    "specificity_train = 100*confmat_train[0,0]/(confmat_train[0,0]+confmat_train[0,1]) # TN/(TN+FP)\n",
    "\n",
    "print(\"Test: Sensitivity = %.2f, Specificity: %.2f\" % (sensitivity_test, specificity_test))\n",
    "print(\"Train: Sensitivity = %.2f, Specificity: %.2f\" % (sensitivity_train, specificity_train))"
   ]
  },
  {
   "cell_type": "markdown",
   "metadata": {},
   "source": [
    "## MRI"
   ]
  },
  {
   "cell_type": "code",
   "execution_count": 188,
   "metadata": {},
   "outputs": [
    {
     "name": "stdout",
     "output_type": "stream",
     "text": [
      "Test: Sensitivity = 85.49, Specificity: 93.44\n",
      "Train: Sensitivity = 86.98, Specificity: 93.83\n"
     ]
    }
   ],
   "source": [
    "## prepare data with appropriate features and randomization\n",
    "shuffled_df = mridf.sample(frac=1, random_state=1)\n",
    "features = [item for sublist in [['Gender','Educ','Age'], mri_vars] for item in sublist]\n",
    "data_X = shuffled_df[features].values.reshape(-1,len(features))\n",
    "data_Y = np.where(shuffled_df[\"DX\"] == \"CN\", 0, 1) # if CN: 0, if AD: 1\n",
    "\n",
    "# prepare training and test data\n",
    "train_frac = 0.8\n",
    "num_samples = np.shape(data_X)[0]\n",
    "num_samples_train = int(np.round(num_samples*train_frac))\n",
    "\n",
    "training_X = data_X[:num_samples_train,:]\n",
    "training_Y = data_Y[:num_samples_train]\n",
    "testing_X = data_X[num_samples_train:,:]\n",
    "testing_Y = data_Y[num_samples_train:]\n",
    "\n",
    "from sklearn.linear_model import LogisticRegressionCV\n",
    "# from sklearn.metrics import roc_auc_score\n",
    "from sklearn.metrics import confusion_matrix\n",
    "from sklearn.svm import SVC\n",
    "from sklearn.ensemble import RandomForestClassifier\n",
    "\n",
    "# select model\n",
    "# mlmodel = LogisticRegressionCV(Cs=20, cv=5)\n",
    "mlmodel = SVC(C=1e0, kernel='linear')\n",
    "# mlmodel = RandomForestClassifier(n_estimators=10, max_depth=5)\n",
    "\n",
    "# train model\n",
    "mlmodel.fit(training_X, training_Y)\n",
    "\n",
    "# test model - test data\n",
    "predicted_Y = mlmodel.predict(testing_X)\n",
    "confmat_test = confusion_matrix(testing_Y,predicted_Y)\n",
    "sensitivity_test = 100*confmat_test[1,1]/(confmat_test[1,0]+confmat_test[1,1]) # TP/(FN+TP)\n",
    "specificity_test = 100*confmat_test[0,0]/(confmat_test[0,0]+confmat_test[0,1]) # TN/(TN+FP)\n",
    "# test model - training data\n",
    "confmat_train = confusion_matrix(training_Y,mlmodel.predict(training_X))\n",
    "sensitivity_train = 100*confmat_train[1,1]/(confmat_train[1,0]+confmat_train[1,1]) # TP/(FN+TP)\n",
    "specificity_train = 100*confmat_train[0,0]/(confmat_train[0,0]+confmat_train[0,1]) # TN/(TN+FP)\n",
    "\n",
    "print(\"Test: Sensitivity = %.2f, Specificity: %.2f\" % (sensitivity_test, specificity_test))\n",
    "print(\"Train: Sensitivity = %.2f, Specificity: %.2f\" % (sensitivity_train, specificity_train))"
   ]
  },
  {
   "cell_type": "markdown",
   "metadata": {},
   "source": [
    "\n",
    "## Grid Search for Amyloid"
   ]
  },
  {
   "cell_type": "code",
   "execution_count": 172,
   "metadata": {
    "scrolled": true
   },
   "outputs": [
    {
     "name": "stdout",
     "output_type": "stream",
     "text": [
      "Data modality is: amyloid\n",
      "['amyloid_01', 'amyloid_02', 'amyloid_03', 'amyloid_04', 'amyloid_05', 'amyloid_06']\n",
      "Classifier is: logistic_regression\n",
      "['Gender', 'Educ', 'Age', 'APOE', 'amyloid_01', 'amyloid_02', 'amyloid_03', 'amyloid_04', 'amyloid_05', 'amyloid_06']\n",
      "Classifier is: logistic_regression\n"
     ]
    },
    {
     "name": "stderr",
     "output_type": "stream",
     "text": [
      "/home/ksaboo/anaconda3/lib/python3.6/site-packages/sklearn/linear_model/logistic.py:757: ConvergenceWarning: lbfgs failed to converge. Increase the number of iterations.\n",
      "  \"of iterations.\", ConvergenceWarning)\n"
     ]
    },
    {
     "name": "stdout",
     "output_type": "stream",
     "text": [
      "Data modality is: csf\n",
      "['csf_01', 'csf_02', 'csf_03']\n",
      "Classifier is: logistic_regression\n",
      "['Gender', 'Educ', 'Age', 'APOE', 'csf_01', 'csf_02', 'csf_03']\n",
      "Classifier is: logistic_regression\n"
     ]
    }
   ],
   "source": [
    "clf_list = ['logistic_regression','svm','random_forest']\n",
    "svc_param_grid = {'C':np.logspace(-2,2,5), 'kernel':['linear'], 'degree':[2], 'gamma':[0.1, 1, 10]}\n",
    "rf_param_grid = {'n_estimators':np.arange(10,21,dtype=int), 'max_depth':np.arange(3,7,dtype=int)}\n",
    "clf_to_param_dict = {'logistic_regression':20, 'svm':svc_param_grid, 'random_forest':rf_param_grid}\n",
    "gs_num_cv = 4\n",
    "outer_num_cv = 5 # NOTE CHANGE THIS TO 10\n",
    "save_dir_path = '../Dataset/ProcessedFiles/'\n",
    "\n",
    "modality_list = ['amyloid','csf','fdg','pet']\n",
    "factors = ['Gender','Educ','Age','APOE']\n",
    "clinical_vars = ['Gender','Educ','Age','APOE','MMSE','DX']\n",
    "dx_stages = ['CN', 'AD']\n",
    "\n",
    "for modality in ['amyloid','csf']:\n",
    "    print(\"Data modality is: \" + modality)\n",
    "    modality_vars = [fieldname for fieldname in adnifulldf.columns if modality in fieldname] \n",
    "    modalitydf = adnifulldf.loc[(adnifulldf[\"DX\"].isin(dx_stages)) & (adnifulldf[\"APOE\"] != -1) \n",
    "                                & (adnifulldf[modality+'_01'] != -1), clinical_vars+modality_vars].copy()\n",
    "    modalitydf['DX_bin'] = np.where(modalitydf[\"DX\"]==\"CN\", 0, 1) # CN:0 , AD: 1\n",
    "\n",
    "    for include_factors in [0,1]:\n",
    "        if include_factors == 0: # do not include 'factors' in the features\n",
    "            features = modality_vars\n",
    "            save_fname = save_dir_path + clf_name +'_'+ modality+'_cv.pckl'\n",
    "        else: # include \"factors\" on the features\n",
    "            features = [item for sublist in [factors, modality_vars] for item in sublist]\n",
    "            save_fname = save_dir_path + clf_name +'_'+ modality+'_factors_cv.pckl'\n",
    "        \n",
    "        print(features)\n",
    "        for clf_name in ['logistic_regression']:\n",
    "            print(\"Classifier is: \" + clf_name)\n",
    "            grid_out_list = []\n",
    "\n",
    "            for cvn in range(0, outer_num_cv):\n",
    "                grid_out = ttSplitWithGridSearch(clf_name, clf_to_param_dict[clf_name], gs_num_cv, \n",
    "                                              modalitydf, features, 'DX_bin', train_frac, cvn)\n",
    "                grid_out_list.append(grid_out)\n",
    "\n",
    "            pickle.dump(grid_out_list, open(save_fname, 'wb'))"
   ]
  },
  {
   "cell_type": "code",
   "execution_count": 142,
   "metadata": {
    "scrolled": true
   },
   "outputs": [
    {
     "name": "stdout",
     "output_type": "stream",
     "text": [
      "5\n"
     ]
    }
   ],
   "source": [
    "# with open('../Dataset/ProcessedFiles/'+clf_name+'_amyloid_cv.pckl','wb') as handle:\n",
    "#     pickle.dump(grid_out_list, handle)\n",
    "\n",
    "with open(,'rb') as handle:\n",
    "    myout = pickle.load(handle)\n"
   ]
  },
  {
   "cell_type": "code",
   "execution_count": 59,
   "metadata": {},
   "outputs": [],
   "source": [
    "from sklearn.metrics import confusion_matrix\n",
    "\n",
    "def SensiSpeci(true_labels, predicted_labels):\n",
    "    confmat = confusion_matrix(true_labels, predicted_labels)\n",
    "    sensitivity = 100*confmat[1,1]/(confmat[1,0]+confmat[1,1]) # TP/(FN+TP)\n",
    "    specificity = 100*confmat[0,0]/(confmat[0,0]+confmat[0,1]) # TN/(TN+FP)\n",
    "    return sensitivity, specificity\n"
   ]
  },
  {
   "cell_type": "code",
   "execution_count": 173,
   "metadata": {
    "scrolled": false
   },
   "outputs": [],
   "source": [
    "def gridSearchWrapper(classifier_name, paramdict, num_cv, train_X, train_Y, test_X, test_Y):\n",
    "\n",
    "    # select and train the model\n",
    "    if classifier_name.lower() == 'logistic_regression':\n",
    "        mlmodel = LogisticRegressionCV(Cs=paramdict, cv=num_cv, max_iter=500)\n",
    "        mlmodel.fit(train_X, train_Y)\n",
    "    \n",
    "    elif classifier_name.lower() == 'svm':\n",
    "        grid_classifier = GridSearchCV(estimator=SVC(), \n",
    "                                       param_grid=paramdict, cv=num_cv, verbose=1)\n",
    "        # train model\n",
    "        grid_classifier.fit(train_X, train_Y)\n",
    "        mlmodel = grid_classifier.best_estimator_ # select best model\n",
    "        \n",
    "    elif classifier_name.lower() == 'random_forest':\n",
    "        # grid search for finding best hyper parameters        \n",
    "        grid_classifier = GridSearchCV(estimator=RandomForestClassifier(),\n",
    "                                       param_grid=paramdict, cv=num_cv, verbose=1)\n",
    "        # train model\n",
    "        grid_classifier.fit(train_X, train_Y)\n",
    "        mlmodel = grid_classifier.best_estimator_ # select best model\n",
    "        \n",
    "    else:\n",
    "        print(\"Method not found\")\n",
    "        return 0\n",
    "    \n",
    "    # test model - test data\n",
    "    sensitivity_test, specificity_test = SensiSpeci(test_Y, mlmodel.predict(test_X))\n",
    "    accuracy_test = 100*mlmodel.score(test_X, test_Y)\n",
    "    f1_test = f1_score(test_Y, mlmodel.predict(test_X))\n",
    "    \n",
    "    # test model - training data\n",
    "    sensitivity_train, specificity_train = SensiSpeci(train_Y, mlmodel.predict(train_X))\n",
    "    accuracy_train = 100*mlmodel.score(train_X, train_Y)\n",
    "    f1_train = f1_score(train_Y, mlmodel.predict(train_X))\n",
    "    \n",
    "    # prepare dict to return\n",
    "    test_score_dict = {'sensitivity':sensitivity_test, 'specificity':specificity_test, 'accuracy':accuracy_test, 'f1':f1_test}\n",
    "    train_score_dict = {'sensitivity':sensitivity_train, 'specificity':specificity_train, 'accuracy':accuracy_train, 'f1':f1_train}\n",
    "    \n",
    "    return {'model': mlmodel, 'test_score':test_score_dict, 'train_score':train_score_dict}"
   ]
  },
  {
   "cell_type": "code",
   "execution_count": 134,
   "metadata": {},
   "outputs": [],
   "source": [
    "def ttSplitWithGridSearch(classifier_name, paramdict, num_cv, datadf, feature_name, label_name, train_fraction, random_seed):\n",
    "    # prepare training and test data with appropriate features and randomization\n",
    "    train_X, test_X, train_Y, test_Y = train_test_split(\n",
    "        datadf[feature_name], datadf[label_name], train_size=train_fraction, test_size=1-train_fraction,\n",
    "        random_state=random_seed, shuffle=True)\n",
    "    \n",
    "    # preform grid search to choose best model\n",
    "    grid_search_out = gridSearchWrapper(classifier_name, paramdict, num_cv, \n",
    "                              train_X, train_Y, test_X, test_Y)\n",
    "    \n",
    "    # return best model and its performance\n",
    "    return grid_search_out"
   ]
  },
  {
   "cell_type": "code",
   "execution_count": 176,
   "metadata": {},
   "outputs": [
    {
     "name": "stdout",
     "output_type": "stream",
     "text": [
      "[81.62393162393163, 76.49572649572649, 82.90598290598291, 82.05128205128204, 78.63247863247864]\n",
      "[80.76923076923077, 77.35042735042735, 83.33333333333334, 82.05128205128204, 78.63247863247864]\n"
     ]
    }
   ],
   "source": [
    "myout = pickle.load(open('../Dataset/ProcessedFiles/logistic_regression_csf_cv.pckl','rb'))\n",
    "\n",
    "print([gridout['test_score']['accuracy'] for gridout in myout])\n",
    "\n",
    "myout = pickle.load(open('../Dataset/ProcessedFiles/logistic_regression_csf_factors_cv.pckl','rb'))\n",
    "\n",
    "print([gridout['test_score']['accuracy'] for gridout in myout])"
   ]
  },
  {
   "cell_type": "code",
   "execution_count": 166,
   "metadata": {},
   "outputs": [
    {
     "data": {
      "text/plain": [
       "0    1035\n",
       "1      78\n",
       "Name: APOE, dtype: int64"
      ]
     },
     "execution_count": 166,
     "metadata": {},
     "output_type": "execute_result"
    }
   ],
   "source": [
    "modalitydf.APOE.value_counts()"
   ]
  }
 ],
 "metadata": {
  "kernelspec": {
   "display_name": "Python 3",
   "language": "python",
   "name": "python3"
  },
  "language_info": {
   "codemirror_mode": {
    "name": "ipython",
    "version": 3
   },
   "file_extension": ".py",
   "mimetype": "text/x-python",
   "name": "python",
   "nbconvert_exporter": "python",
   "pygments_lexer": "ipython3",
   "version": "3.6.6"
  }
 },
 "nbformat": 4,
 "nbformat_minor": 2
}
