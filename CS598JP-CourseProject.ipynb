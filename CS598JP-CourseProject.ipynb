{
 "cells": [
  {
   "cell_type": "code",
   "execution_count": 1,
   "metadata": {},
   "outputs": [],
   "source": [
    "import numpy as np\n",
    "import pandas as pd\n",
    "import seaborn as sns\n",
    "import matplotlib.pyplot as plt\n",
    "import scipy.io\n",
    "from sklearn.model_selection import train_test_split\n",
    "from sklearn.linear_model import LogisticRegressionCV\n",
    "from sklearn.svm import SVC\n",
    "from sklearn.ensemble import RandomForestClassifier\n",
    "from sklearn.model_selection import GridSearchCV\n",
    "from sklearn.metrics import f1_score\n",
    "from sklearn.metrics import confusion_matrix\n",
    "\n",
    "import pickle\n",
    "import adniEnsemble as adens"
   ]
  },
  {
   "cell_type": "code",
   "execution_count": 2,
   "metadata": {},
   "outputs": [],
   "source": [
    "adnifulldf = pd.read_csv(\"../Dataset/ADNI/adnitable.csv\")"
   ]
  },
  {
   "cell_type": "code",
   "execution_count": 3,
   "metadata": {},
   "outputs": [],
   "source": [
    "# adnifulldf.Gender = adnifulldf.Gender.apply(lambda x: 'M' if x==1 else 'F')\n",
    "adnifulldf = adnifulldf.fillna(-1)\n",
    "adnifulldf.DX = adnifulldf.DX.apply(lambda x: 'CN' if x==1 else ('MCI' if x==2 else ('AD' if x==3 else -1)))"
   ]
  },
  {
   "cell_type": "code",
   "execution_count": 4,
   "metadata": {},
   "outputs": [
    {
     "data": {
      "text/html": [
       "<div>\n",
       "<style scoped>\n",
       "    .dataframe tbody tr th:only-of-type {\n",
       "        vertical-align: middle;\n",
       "    }\n",
       "\n",
       "    .dataframe tbody tr th {\n",
       "        vertical-align: top;\n",
       "    }\n",
       "\n",
       "    .dataframe thead th {\n",
       "        text-align: right;\n",
       "    }\n",
       "</style>\n",
       "<table border=\"1\" class=\"dataframe\">\n",
       "  <thead>\n",
       "    <tr style=\"text-align: right;\">\n",
       "      <th></th>\n",
       "      <th>RID</th>\n",
       "      <th>Gender</th>\n",
       "      <th>Educ</th>\n",
       "      <th>Age</th>\n",
       "      <th>APOE</th>\n",
       "      <th>MMSE</th>\n",
       "      <th>DX</th>\n",
       "      <th>mri_001</th>\n",
       "      <th>mri_002</th>\n",
       "      <th>mri_003</th>\n",
       "      <th>...</th>\n",
       "      <th>fdg_05</th>\n",
       "      <th>amyloid_01</th>\n",
       "      <th>amyloid_02</th>\n",
       "      <th>amyloid_03</th>\n",
       "      <th>amyloid_04</th>\n",
       "      <th>amyloid_05</th>\n",
       "      <th>amyloid_06</th>\n",
       "      <th>csf_01</th>\n",
       "      <th>csf_02</th>\n",
       "      <th>csf_03</th>\n",
       "    </tr>\n",
       "  </thead>\n",
       "  <tbody>\n",
       "    <tr>\n",
       "      <th>0</th>\n",
       "      <td>1</td>\n",
       "      <td>2</td>\n",
       "      <td>18.0</td>\n",
       "      <td>61.00</td>\n",
       "      <td>-1</td>\n",
       "      <td>-1.0</td>\n",
       "      <td>-1</td>\n",
       "      <td>-1.0</td>\n",
       "      <td>-1.0</td>\n",
       "      <td>-1.0</td>\n",
       "      <td>...</td>\n",
       "      <td>-1.0</td>\n",
       "      <td>-1.0</td>\n",
       "      <td>-1.0</td>\n",
       "      <td>-1.0</td>\n",
       "      <td>-1.0</td>\n",
       "      <td>-1.0</td>\n",
       "      <td>-1</td>\n",
       "      <td>-1.0</td>\n",
       "      <td>-1.0</td>\n",
       "      <td>-1.0</td>\n",
       "    </tr>\n",
       "    <tr>\n",
       "      <th>1</th>\n",
       "      <td>1</td>\n",
       "      <td>2</td>\n",
       "      <td>18.0</td>\n",
       "      <td>61.25</td>\n",
       "      <td>-1</td>\n",
       "      <td>-1.0</td>\n",
       "      <td>-1</td>\n",
       "      <td>-1.0</td>\n",
       "      <td>-1.0</td>\n",
       "      <td>-1.0</td>\n",
       "      <td>...</td>\n",
       "      <td>-1.0</td>\n",
       "      <td>-1.0</td>\n",
       "      <td>-1.0</td>\n",
       "      <td>-1.0</td>\n",
       "      <td>-1.0</td>\n",
       "      <td>-1.0</td>\n",
       "      <td>-1</td>\n",
       "      <td>-1.0</td>\n",
       "      <td>-1.0</td>\n",
       "      <td>-1.0</td>\n",
       "    </tr>\n",
       "    <tr>\n",
       "      <th>2</th>\n",
       "      <td>1</td>\n",
       "      <td>2</td>\n",
       "      <td>18.0</td>\n",
       "      <td>61.50</td>\n",
       "      <td>-1</td>\n",
       "      <td>-1.0</td>\n",
       "      <td>-1</td>\n",
       "      <td>-1.0</td>\n",
       "      <td>-1.0</td>\n",
       "      <td>-1.0</td>\n",
       "      <td>...</td>\n",
       "      <td>-1.0</td>\n",
       "      <td>-1.0</td>\n",
       "      <td>-1.0</td>\n",
       "      <td>-1.0</td>\n",
       "      <td>-1.0</td>\n",
       "      <td>-1.0</td>\n",
       "      <td>-1</td>\n",
       "      <td>-1.0</td>\n",
       "      <td>-1.0</td>\n",
       "      <td>-1.0</td>\n",
       "    </tr>\n",
       "    <tr>\n",
       "      <th>3</th>\n",
       "      <td>1</td>\n",
       "      <td>2</td>\n",
       "      <td>18.0</td>\n",
       "      <td>62.00</td>\n",
       "      <td>-1</td>\n",
       "      <td>-1.0</td>\n",
       "      <td>-1</td>\n",
       "      <td>-1.0</td>\n",
       "      <td>-1.0</td>\n",
       "      <td>-1.0</td>\n",
       "      <td>...</td>\n",
       "      <td>-1.0</td>\n",
       "      <td>-1.0</td>\n",
       "      <td>-1.0</td>\n",
       "      <td>-1.0</td>\n",
       "      <td>-1.0</td>\n",
       "      <td>-1.0</td>\n",
       "      <td>-1</td>\n",
       "      <td>-1.0</td>\n",
       "      <td>-1.0</td>\n",
       "      <td>-1.0</td>\n",
       "    </tr>\n",
       "    <tr>\n",
       "      <th>4</th>\n",
       "      <td>1</td>\n",
       "      <td>2</td>\n",
       "      <td>18.0</td>\n",
       "      <td>62.50</td>\n",
       "      <td>-1</td>\n",
       "      <td>-1.0</td>\n",
       "      <td>-1</td>\n",
       "      <td>-1.0</td>\n",
       "      <td>-1.0</td>\n",
       "      <td>-1.0</td>\n",
       "      <td>...</td>\n",
       "      <td>-1.0</td>\n",
       "      <td>-1.0</td>\n",
       "      <td>-1.0</td>\n",
       "      <td>-1.0</td>\n",
       "      <td>-1.0</td>\n",
       "      <td>-1.0</td>\n",
       "      <td>-1</td>\n",
       "      <td>-1.0</td>\n",
       "      <td>-1.0</td>\n",
       "      <td>-1.0</td>\n",
       "    </tr>\n",
       "  </tbody>\n",
       "</table>\n",
       "<p>5 rows × 160 columns</p>\n",
       "</div>"
      ],
      "text/plain": [
       "   RID  Gender  Educ    Age  APOE  MMSE  DX  mri_001  mri_002  mri_003  \\\n",
       "0    1       2  18.0  61.00    -1  -1.0  -1     -1.0     -1.0     -1.0   \n",
       "1    1       2  18.0  61.25    -1  -1.0  -1     -1.0     -1.0     -1.0   \n",
       "2    1       2  18.0  61.50    -1  -1.0  -1     -1.0     -1.0     -1.0   \n",
       "3    1       2  18.0  62.00    -1  -1.0  -1     -1.0     -1.0     -1.0   \n",
       "4    1       2  18.0  62.50    -1  -1.0  -1     -1.0     -1.0     -1.0   \n",
       "\n",
       "    ...    fdg_05  amyloid_01  amyloid_02  amyloid_03  amyloid_04  amyloid_05  \\\n",
       "0   ...      -1.0        -1.0        -1.0        -1.0        -1.0        -1.0   \n",
       "1   ...      -1.0        -1.0        -1.0        -1.0        -1.0        -1.0   \n",
       "2   ...      -1.0        -1.0        -1.0        -1.0        -1.0        -1.0   \n",
       "3   ...      -1.0        -1.0        -1.0        -1.0        -1.0        -1.0   \n",
       "4   ...      -1.0        -1.0        -1.0        -1.0        -1.0        -1.0   \n",
       "\n",
       "   amyloid_06  csf_01  csf_02  csf_03  \n",
       "0          -1    -1.0    -1.0    -1.0  \n",
       "1          -1    -1.0    -1.0    -1.0  \n",
       "2          -1    -1.0    -1.0    -1.0  \n",
       "3          -1    -1.0    -1.0    -1.0  \n",
       "4          -1    -1.0    -1.0    -1.0  \n",
       "\n",
       "[5 rows x 160 columns]"
      ]
     },
     "execution_count": 4,
     "metadata": {},
     "output_type": "execute_result"
    }
   ],
   "source": [
    "adnifulldf.head()"
   ]
  },
  {
   "cell_type": "code",
   "execution_count": 5,
   "metadata": {},
   "outputs": [],
   "source": [
    "mri_vars = [fieldname for fieldname in adnifulldf.columns if 'mri_' in fieldname]\n",
    "amyloid_vars = [fieldname for fieldname in adnifulldf.columns if 'amyloid_' in fieldname]\n",
    "csf_vars = [fieldname for fieldname in adnifulldf.columns if 'csf_' in fieldname]\n",
    "fdg_vars = [fieldname for fieldname in adnifulldf.columns if 'fdg_' in fieldname]\n",
    "pet_vars = [fieldname for fieldname in adnifulldf.columns if 'pet_' in fieldname]\n",
    "factors = ['RID','Gender','Educ','Age','APOE','MMSE','DX']\n",
    "dx_stages = ['CN', 'AD']\n",
    "\n",
    "mridf = adnifulldf.loc[(adnifulldf[\"DX\"].isin(dx_stages)) & (adnifulldf[\"Educ\"] != -1) & (adnifulldf[\"mri_001\"] != -1), factors+mri_vars]\n",
    "amyloiddf = adnifulldf.loc[(adnifulldf[\"DX\"].isin(dx_stages)) & (adnifulldf[\"Educ\"] != -1) & (adnifulldf[\"amyloid_01\"] != -1), factors+amyloid_vars]\n",
    "csfdf = adnifulldf.loc[(adnifulldf[\"DX\"].isin(dx_stages)) & (adnifulldf[\"Educ\"] != -1) & (adnifulldf[\"csf_01\"] != -1), factors+csf_vars]\n",
    "fdgdf = adnifulldf.loc[(adnifulldf[\"DX\"].isin(dx_stages)) & (adnifulldf[\"Educ\"] != -1) & (adnifulldf[\"fdg_01\"] != -1), factors+fdg_vars]\n",
    "petdf = adnifulldf.loc[(adnifulldf[\"DX\"].isin(dx_stages)) & (adnifulldf[\"Educ\"] != -1) & (adnifulldf[\"pet_01\"] != -1), factors+pet_vars]"
   ]
  },
  {
   "cell_type": "code",
   "execution_count": 6,
   "metadata": {
    "scrolled": true
   },
   "outputs": [
    {
     "name": "stdout",
     "output_type": "stream",
     "text": [
      "3797 1116 1170 1789 1124\n"
     ]
    }
   ],
   "source": [
    "print(len(mridf), len(amyloiddf), len(csfdf), len(fdgdf), len(petdf))"
   ]
  },
  {
   "cell_type": "markdown",
   "metadata": {},
   "source": [
    "## MRI"
   ]
  },
  {
   "cell_type": "code",
   "execution_count": 7,
   "metadata": {},
   "outputs": [
    {
     "name": "stdout",
     "output_type": "stream",
     "text": [
      "Test: Sensitivity = 81.70, Specificity: 93.44\n",
      "Train: Sensitivity = 85.09, Specificity: 94.93\n"
     ]
    }
   ],
   "source": [
    "## prepare data with appropriate features and randomization\n",
    "shuffled_df = mridf.sample(frac=1, random_state=1)\n",
    "features = [item for sublist in [['Gender','Educ','Age','APOE'], mri_vars] for item in sublist]\n",
    "data_X = shuffled_df[features].values.reshape(-1,len(features))\n",
    "data_Y = np.where(shuffled_df[\"DX\"] == \"CN\", 0, 1) # if CN: 0, if AD: 1\n",
    "\n",
    "# prepare training and test data\n",
    "train_frac = 0.8\n",
    "num_samples = np.shape(data_X)[0]\n",
    "num_samples_train = int(np.round(num_samples*train_frac))\n",
    "\n",
    "training_X = data_X[:num_samples_train,:]\n",
    "training_Y = data_Y[:num_samples_train]\n",
    "testing_X = data_X[num_samples_train:,:]\n",
    "testing_Y = data_Y[num_samples_train:]\n",
    "\n",
    "# select model\n",
    "# mlmodel = LogisticRegressionCV(Cs=20, cv=5)\n",
    "# mlmodel = SVC(C=1e0, kernel='linear')\n",
    "mlmodel = RandomForestClassifier(n_estimators=10, max_depth=5)\n",
    "\n",
    "# train model\n",
    "mlmodel.fit(training_X, training_Y)\n",
    "\n",
    "# test model - test data\n",
    "sensitivity_test, specificity_test = adens.SensiSpeci(testing_Y, mlmodel.predict(testing_X))\n",
    "# test model - training data\n",
    "sensitivity_train, specificity_train = adens.SensiSpeci(training_Y, mlmodel.predict(training_X))\n",
    "\n",
    "print(\"Test: Sensitivity = %.2f, Specificity: %.2f\" % (sensitivity_test, specificity_test))\n",
    "print(\"Train: Sensitivity = %.2f, Specificity: %.2f\" % (sensitivity_train, specificity_train))"
   ]
  },
  {
   "cell_type": "code",
   "execution_count": 8,
   "metadata": {},
   "outputs": [
    {
     "name": "stdout",
     "output_type": "stream",
     "text": [
      "[83.85650224215246, 84.75336322869956, 82.95964125560538, 83.85650224215246, 82.95964125560538, 83.85650224215246, 85.65022421524664, 87.4439461883408, 84.30493273542601, 81.16591928251121]\n",
      "[86.54708520179372, 85.65022421524664, 85.65022421524664, 84.75336322869956, 84.30493273542601, 85.65022421524664, 87.4439461883408, 88.78923766816143, 83.85650224215246, 82.95964125560538]\n"
     ]
    }
   ],
   "source": [
    "myout = pickle.load(open('../Dataset/ProcessedFiles/logistic_regression_amyloid_cv.pckl','rb'))\n",
    "\n",
    "print([gridout['test_score']['accuracy'] for gridout in myout])\n",
    "\n",
    "myout = pickle.load(open('../Dataset/ProcessedFiles/logistic_regression_amyloid_factors_cv.pckl','rb'))\n",
    "\n",
    "print([gridout['test_score']['accuracy'] for gridout in myout])"
   ]
  }
 ],
 "metadata": {
  "kernelspec": {
   "display_name": "Python 3",
   "language": "python",
   "name": "python3"
  },
  "language_info": {
   "codemirror_mode": {
    "name": "ipython",
    "version": 3
   },
   "file_extension": ".py",
   "mimetype": "text/x-python",
   "name": "python",
   "nbconvert_exporter": "python",
   "pygments_lexer": "ipython3",
   "version": "3.6.6"
  }
 },
 "nbformat": 4,
 "nbformat_minor": 2
}
